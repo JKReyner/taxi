{
 "cells": [
  {
   "cell_type": "markdown",
   "metadata": {},
   "source": [
    "# Project description\n",
    "\n",
    "Sweet Lift Taxi company has collected historical data on taxi orders at airports. To attract more drivers during peak hours, we need to predict the amount of taxi orders for the next hour. Build a model for such a prediction.\n",
    "\n",
    "The RMSE metric on the test set should not be more than 48.\n",
    "\n",
    "## Project instructions\n",
    "\n",
    "1. Download the data and resample it by one hour.\n",
    "2. Analyze the data.\n",
    "3. Train different models with different hyperparameters. The test sample should be 10% of the initial dataset. \n",
    "4. Test the data using the test sample and provide a conclusion.\n",
    "\n",
    "## Data description\n",
    "\n",
    "The data is stored in file `taxi.csv`. The number of orders is in the '*num_orders*' column."
   ]
  },
  {
   "cell_type": "markdown",
   "metadata": {},
   "source": [
    "## Preparation"
   ]
  },
  {
   "cell_type": "code",
   "execution_count": 1,
   "metadata": {},
   "outputs": [],
   "source": [
    "# load packages\n",
    "\n",
    "import pandas as pd\n",
    "import numpy as np\n",
    "\n",
    "from sklearn.model_selection import train_test_split, GridSearchCV\n",
    "from sklearn.metrics import mean_squared_error\n",
    "\n",
    "import matplotlib.pyplot as plt\n",
    "from statsmodels.tsa.seasonal import seasonal_decompose\n",
    "\n",
    "from sklearn.ensemble import RandomForestRegressor\n",
    "from sklearn.linear_model import LinearRegression\n",
    "\n",
    "from catboost import CatBoostRegressor\n",
    "from lightgbm import LGBMRegressor\n",
    "from xgboost import XGBRegressor\n"
   ]
  },
  {
   "cell_type": "code",
   "execution_count": 2,
   "metadata": {},
   "outputs": [],
   "source": [
    "# import data\n",
    "\n",
    "df = pd.read_csv('/datasets/taxi.csv', index_col = [0], parse_dates = [0])"
   ]
  },
  {
   "cell_type": "markdown",
   "metadata": {},
   "source": [
    "We will start by getting some information on what our data looks like, checking for missing values, etc."
   ]
  },
  {
   "cell_type": "code",
   "execution_count": 3,
   "metadata": {
    "scrolled": true
   },
   "outputs": [
    {
     "data": {
      "text/html": [
       "<div>\n",
       "<style scoped>\n",
       "    .dataframe tbody tr th:only-of-type {\n",
       "        vertical-align: middle;\n",
       "    }\n",
       "\n",
       "    .dataframe tbody tr th {\n",
       "        vertical-align: top;\n",
       "    }\n",
       "\n",
       "    .dataframe thead th {\n",
       "        text-align: right;\n",
       "    }\n",
       "</style>\n",
       "<table border=\"1\" class=\"dataframe\">\n",
       "  <thead>\n",
       "    <tr style=\"text-align: right;\">\n",
       "      <th></th>\n",
       "      <th>num_orders</th>\n",
       "    </tr>\n",
       "    <tr>\n",
       "      <th>datetime</th>\n",
       "      <th></th>\n",
       "    </tr>\n",
       "  </thead>\n",
       "  <tbody>\n",
       "    <tr>\n",
       "      <th>2018-03-01 00:00:00</th>\n",
       "      <td>9</td>\n",
       "    </tr>\n",
       "    <tr>\n",
       "      <th>2018-03-01 00:10:00</th>\n",
       "      <td>14</td>\n",
       "    </tr>\n",
       "    <tr>\n",
       "      <th>2018-03-01 00:20:00</th>\n",
       "      <td>28</td>\n",
       "    </tr>\n",
       "    <tr>\n",
       "      <th>2018-03-01 00:30:00</th>\n",
       "      <td>20</td>\n",
       "    </tr>\n",
       "    <tr>\n",
       "      <th>2018-03-01 00:40:00</th>\n",
       "      <td>32</td>\n",
       "    </tr>\n",
       "  </tbody>\n",
       "</table>\n",
       "</div>"
      ],
      "text/plain": [
       "                     num_orders\n",
       "datetime                       \n",
       "2018-03-01 00:00:00           9\n",
       "2018-03-01 00:10:00          14\n",
       "2018-03-01 00:20:00          28\n",
       "2018-03-01 00:30:00          20\n",
       "2018-03-01 00:40:00          32"
      ]
     },
     "execution_count": 3,
     "metadata": {},
     "output_type": "execute_result"
    }
   ],
   "source": [
    "df.head()"
   ]
  },
  {
   "cell_type": "code",
   "execution_count": 4,
   "metadata": {},
   "outputs": [
    {
     "name": "stdout",
     "output_type": "stream",
     "text": [
      "<class 'pandas.core.frame.DataFrame'>\n",
      "DatetimeIndex: 26496 entries, 2018-03-01 00:00:00 to 2018-08-31 23:50:00\n",
      "Data columns (total 1 columns):\n",
      " #   Column      Non-Null Count  Dtype\n",
      "---  ------      --------------  -----\n",
      " 0   num_orders  26496 non-null  int64\n",
      "dtypes: int64(1)\n",
      "memory usage: 414.0 KB\n"
     ]
    }
   ],
   "source": [
    "df.info()"
   ]
  },
  {
   "cell_type": "code",
   "execution_count": 5,
   "metadata": {},
   "outputs": [
    {
     "data": {
      "text/html": [
       "<div>\n",
       "<style scoped>\n",
       "    .dataframe tbody tr th:only-of-type {\n",
       "        vertical-align: middle;\n",
       "    }\n",
       "\n",
       "    .dataframe tbody tr th {\n",
       "        vertical-align: top;\n",
       "    }\n",
       "\n",
       "    .dataframe thead th {\n",
       "        text-align: right;\n",
       "    }\n",
       "</style>\n",
       "<table border=\"1\" class=\"dataframe\">\n",
       "  <thead>\n",
       "    <tr style=\"text-align: right;\">\n",
       "      <th></th>\n",
       "      <th>num_orders</th>\n",
       "    </tr>\n",
       "  </thead>\n",
       "  <tbody>\n",
       "    <tr>\n",
       "      <th>count</th>\n",
       "      <td>26496.000000</td>\n",
       "    </tr>\n",
       "    <tr>\n",
       "      <th>mean</th>\n",
       "      <td>14.070463</td>\n",
       "    </tr>\n",
       "    <tr>\n",
       "      <th>std</th>\n",
       "      <td>9.211330</td>\n",
       "    </tr>\n",
       "    <tr>\n",
       "      <th>min</th>\n",
       "      <td>0.000000</td>\n",
       "    </tr>\n",
       "    <tr>\n",
       "      <th>25%</th>\n",
       "      <td>8.000000</td>\n",
       "    </tr>\n",
       "    <tr>\n",
       "      <th>50%</th>\n",
       "      <td>13.000000</td>\n",
       "    </tr>\n",
       "    <tr>\n",
       "      <th>75%</th>\n",
       "      <td>19.000000</td>\n",
       "    </tr>\n",
       "    <tr>\n",
       "      <th>max</th>\n",
       "      <td>119.000000</td>\n",
       "    </tr>\n",
       "  </tbody>\n",
       "</table>\n",
       "</div>"
      ],
      "text/plain": [
       "         num_orders\n",
       "count  26496.000000\n",
       "mean      14.070463\n",
       "std        9.211330\n",
       "min        0.000000\n",
       "25%        8.000000\n",
       "50%       13.000000\n",
       "75%       19.000000\n",
       "max      119.000000"
      ]
     },
     "execution_count": 5,
     "metadata": {},
     "output_type": "execute_result"
    }
   ],
   "source": [
    "df.describe()"
   ]
  },
  {
   "cell_type": "markdown",
   "metadata": {},
   "source": [
    "We first want to resample our data by the hour."
   ]
  },
  {
   "cell_type": "code",
   "execution_count": 6,
   "metadata": {},
   "outputs": [
    {
     "data": {
      "text/html": [
       "<div>\n",
       "<style scoped>\n",
       "    .dataframe tbody tr th:only-of-type {\n",
       "        vertical-align: middle;\n",
       "    }\n",
       "\n",
       "    .dataframe tbody tr th {\n",
       "        vertical-align: top;\n",
       "    }\n",
       "\n",
       "    .dataframe thead th {\n",
       "        text-align: right;\n",
       "    }\n",
       "</style>\n",
       "<table border=\"1\" class=\"dataframe\">\n",
       "  <thead>\n",
       "    <tr style=\"text-align: right;\">\n",
       "      <th></th>\n",
       "      <th>num_orders</th>\n",
       "    </tr>\n",
       "    <tr>\n",
       "      <th>datetime</th>\n",
       "      <th></th>\n",
       "    </tr>\n",
       "  </thead>\n",
       "  <tbody>\n",
       "    <tr>\n",
       "      <th>2018-03-01 00:00:00</th>\n",
       "      <td>124</td>\n",
       "    </tr>\n",
       "    <tr>\n",
       "      <th>2018-03-01 01:00:00</th>\n",
       "      <td>85</td>\n",
       "    </tr>\n",
       "    <tr>\n",
       "      <th>2018-03-01 02:00:00</th>\n",
       "      <td>71</td>\n",
       "    </tr>\n",
       "    <tr>\n",
       "      <th>2018-03-01 03:00:00</th>\n",
       "      <td>66</td>\n",
       "    </tr>\n",
       "    <tr>\n",
       "      <th>2018-03-01 04:00:00</th>\n",
       "      <td>43</td>\n",
       "    </tr>\n",
       "  </tbody>\n",
       "</table>\n",
       "</div>"
      ],
      "text/plain": [
       "                     num_orders\n",
       "datetime                       \n",
       "2018-03-01 00:00:00         124\n",
       "2018-03-01 01:00:00          85\n",
       "2018-03-01 02:00:00          71\n",
       "2018-03-01 03:00:00          66\n",
       "2018-03-01 04:00:00          43"
      ]
     },
     "execution_count": 6,
     "metadata": {},
     "output_type": "execute_result"
    }
   ],
   "source": [
    "df = df.resample('1H').sum()\n",
    "df.head()"
   ]
  },
  {
   "cell_type": "markdown",
   "metadata": {},
   "source": [
    "## Analysis\n",
    "\n",
    "To get an idea of how our data looks before performing analysis, we will do a few plots.\n",
    "\n",
    "First, we will do a rolling mean. in order to smooth out or data, there are a variety of different possible numbers to set as our rolling average. To help us find out how we might wish to perform our rolling mean, we can start by doing a seasonal decomposition."
   ]
  },
  {
   "cell_type": "code",
   "execution_count": 7,
   "metadata": {},
   "outputs": [
    {
     "data": {
      "image/png": "[encoded data removed]",
      "text/plain": [
       "<Figure size 1152x576 with 1 Axes>"
      ]
     },
     "metadata": {
      "needs_background": "light"
     },
     "output_type": "display_data"
    }
   ],
   "source": [
    "# daily trend graph\n",
    "\n",
    "decomposed = seasonal_decompose(df)\n",
    "decomposed.seasonal[0:250].plot(title = 'Daily Trends', xlabel = 'presented in days, starts March 1, 2018',\n",
    "                                ax = plt.gca(), figsize = (16, 8));"
   ]
  },
  {
   "cell_type": "code",
   "execution_count": 8,
   "metadata": {},
   "outputs": [
    {
     "data": {
      "image/png": "[encoded data removed]",
      "text/plain": [
       "<Figure size 1152x576 with 1 Axes>"
      ]
     },
     "metadata": {
      "needs_background": "light"
     },
     "output_type": "display_data"
    }
   ],
   "source": [
    "# daily trend graph zoomed in to a single day\n",
    "\n",
    "decomposed.seasonal[0:24].plot(title = 'Daily Trends', ax = plt.gca(), figsize = (16, 8));"
   ]
  },
  {
   "cell_type": "markdown",
   "metadata": {},
   "source": [
    "Here we can see that there are some fairly consistent trends on a day to day basis. Each day our trend lines switch from increasing to decreasing multiple times. We can describe our activity in four general patterns:\n",
    "\n",
    "* 00:00 to 06:00\n",
    "\n",
    "* 06:00 to 12:00\n",
    "\n",
    "* 12:00 to 18:00\n",
    "\n",
    "* 18:00 to 00:00\n",
    "\n",
    "These four segments have a steep trend downward, then a quadratic trend with a peak at around 09:00 or 10:00, then a v-shaped pattern with a peak at around 16:00, and finally a steady trend upwards. Since these appear to be fairly consistent on a day to day basis, we can probably get a well suited rolling mean using a window size of 6."
   ]
  },
  {
   "cell_type": "code",
   "execution_count": 9,
   "metadata": {},
   "outputs": [
    {
     "data": {
      "image/png": "[encoded data removed]",
      "text/plain": [
       "<Figure size 1152x576 with 1 Axes>"
      ]
     },
     "metadata": {
      "needs_background": "light"
     },
     "output_type": "display_data"
    }
   ],
   "source": [
    "# rolling mean\n",
    "\n",
    "df.rolling(6).mean().plot(title = 'Rolling Mean', figsize = (16, 8));"
   ]
  },
  {
   "cell_type": "code",
   "execution_count": 10,
   "metadata": {},
   "outputs": [
    {
     "data": {
      "image/png": "[encoded data removed]",
      "text/plain": [
       "<Figure size 1152x576 with 1 Axes>"
      ]
     },
     "metadata": {
      "needs_background": "light"
     },
     "output_type": "display_data"
    }
   ],
   "source": [
    "# a graph with a greater smoothing, might provide better insight into the general trend of our orders\n",
    "\n",
    "df.rolling(50).mean().plot(title = 'Rolling Mean', figsize = (16, 8));"
   ]
  },
  {
   "cell_type": "markdown",
   "metadata": {},
   "source": [
    "The rolling mean of our data shows promise. Our number of orders overall appears to be steadily increasing, and if the trend continues we appears that it might be growing more quickly in some of the recent months which could mean that the growth is speeding up or it could also be that our growth is simply becoming more unpredictable. However, it might also mean simply that we are seeing more people using our services in the Summer and we might begin to dip later in the year."
   ]
  },
  {
   "cell_type": "markdown",
   "metadata": {},
   "source": [
    "## Training\n",
    "\n",
    "First, we will want to account for our features. We have a datetime column that we should split into new features. This will help us with model training and focus on peak hours.\n",
    "\n",
    "When we make our features we will start taking a rolling mean after our first day of observations, so we will start at point 24."
   ]
  },
  {
   "cell_type": "code",
   "execution_count": 11,
   "metadata": {},
   "outputs": [],
   "source": [
    "def make_features(data, max_lag, rolling_mean_size):\n",
    "    data['hour'] = data.index.hour\n",
    "    data['month'] = data.index.month\n",
    "    data['day'] = data.index.day\n",
    "    data['dayofweek'] = data.index.dayofweek\n",
    "    \n",
    "    for lag in range(1, max_lag + 1):\n",
    "        df['lag_{}'.format(lag)] = df['num_orders'].shift(lag)\n",
    "\n",
    "    df['rolling_mean'] = df['num_orders'].shift().rolling(rolling_mean_size).mean()\n"
   ]
  },
  {
   "cell_type": "code",
   "execution_count": 12,
   "metadata": {},
   "outputs": [],
   "source": [
    "# run make_features on the data\n",
    "\n",
    "make_features(df, 1, 24)"
   ]
  },
  {
   "cell_type": "code",
   "execution_count": 13,
   "metadata": {
    "scrolled": true
   },
   "outputs": [
    {
     "data": {
      "text/html": [
       "<div>\n",
       "<style scoped>\n",
       "    .dataframe tbody tr th:only-of-type {\n",
       "        vertical-align: middle;\n",
       "    }\n",
       "\n",
       "    .dataframe tbody tr th {\n",
       "        vertical-align: top;\n",
       "    }\n",
       "\n",
       "    .dataframe thead th {\n",
       "        text-align: right;\n",
       "    }\n",
       "</style>\n",
       "<table border=\"1\" class=\"dataframe\">\n",
       "  <thead>\n",
       "    <tr style=\"text-align: right;\">\n",
       "      <th></th>\n",
       "      <th>num_orders</th>\n",
       "      <th>hour</th>\n",
       "      <th>month</th>\n",
       "      <th>day</th>\n",
       "      <th>dayofweek</th>\n",
       "      <th>lag_1</th>\n",
       "      <th>rolling_mean</th>\n",
       "    </tr>\n",
       "    <tr>\n",
       "      <th>datetime</th>\n",
       "      <th></th>\n",
       "      <th></th>\n",
       "      <th></th>\n",
       "      <th></th>\n",
       "      <th></th>\n",
       "      <th></th>\n",
       "      <th></th>\n",
       "    </tr>\n",
       "  </thead>\n",
       "  <tbody>\n",
       "    <tr>\n",
       "      <th>2018-03-01 00:00:00</th>\n",
       "      <td>124</td>\n",
       "      <td>0</td>\n",
       "      <td>3</td>\n",
       "      <td>1</td>\n",
       "      <td>3</td>\n",
       "      <td>NaN</td>\n",
       "      <td>NaN</td>\n",
       "    </tr>\n",
       "    <tr>\n",
       "      <th>2018-03-01 01:00:00</th>\n",
       "      <td>85</td>\n",
       "      <td>1</td>\n",
       "      <td>3</td>\n",
       "      <td>1</td>\n",
       "      <td>3</td>\n",
       "      <td>124.0</td>\n",
       "      <td>NaN</td>\n",
       "    </tr>\n",
       "    <tr>\n",
       "      <th>2018-03-01 02:00:00</th>\n",
       "      <td>71</td>\n",
       "      <td>2</td>\n",
       "      <td>3</td>\n",
       "      <td>1</td>\n",
       "      <td>3</td>\n",
       "      <td>85.0</td>\n",
       "      <td>NaN</td>\n",
       "    </tr>\n",
       "    <tr>\n",
       "      <th>2018-03-01 03:00:00</th>\n",
       "      <td>66</td>\n",
       "      <td>3</td>\n",
       "      <td>3</td>\n",
       "      <td>1</td>\n",
       "      <td>3</td>\n",
       "      <td>71.0</td>\n",
       "      <td>NaN</td>\n",
       "    </tr>\n",
       "    <tr>\n",
       "      <th>2018-03-01 04:00:00</th>\n",
       "      <td>43</td>\n",
       "      <td>4</td>\n",
       "      <td>3</td>\n",
       "      <td>1</td>\n",
       "      <td>3</td>\n",
       "      <td>66.0</td>\n",
       "      <td>NaN</td>\n",
       "    </tr>\n",
       "    <tr>\n",
       "      <th>2018-03-01 05:00:00</th>\n",
       "      <td>6</td>\n",
       "      <td>5</td>\n",
       "      <td>3</td>\n",
       "      <td>1</td>\n",
       "      <td>3</td>\n",
       "      <td>43.0</td>\n",
       "      <td>NaN</td>\n",
       "    </tr>\n",
       "    <tr>\n",
       "      <th>2018-03-01 06:00:00</th>\n",
       "      <td>12</td>\n",
       "      <td>6</td>\n",
       "      <td>3</td>\n",
       "      <td>1</td>\n",
       "      <td>3</td>\n",
       "      <td>6.0</td>\n",
       "      <td>NaN</td>\n",
       "    </tr>\n",
       "    <tr>\n",
       "      <th>2018-03-01 07:00:00</th>\n",
       "      <td>15</td>\n",
       "      <td>7</td>\n",
       "      <td>3</td>\n",
       "      <td>1</td>\n",
       "      <td>3</td>\n",
       "      <td>12.0</td>\n",
       "      <td>NaN</td>\n",
       "    </tr>\n",
       "    <tr>\n",
       "      <th>2018-03-01 08:00:00</th>\n",
       "      <td>34</td>\n",
       "      <td>8</td>\n",
       "      <td>3</td>\n",
       "      <td>1</td>\n",
       "      <td>3</td>\n",
       "      <td>15.0</td>\n",
       "      <td>NaN</td>\n",
       "    </tr>\n",
       "    <tr>\n",
       "      <th>2018-03-01 09:00:00</th>\n",
       "      <td>69</td>\n",
       "      <td>9</td>\n",
       "      <td>3</td>\n",
       "      <td>1</td>\n",
       "      <td>3</td>\n",
       "      <td>34.0</td>\n",
       "      <td>NaN</td>\n",
       "    </tr>\n",
       "    <tr>\n",
       "      <th>2018-03-01 10:00:00</th>\n",
       "      <td>64</td>\n",
       "      <td>10</td>\n",
       "      <td>3</td>\n",
       "      <td>1</td>\n",
       "      <td>3</td>\n",
       "      <td>69.0</td>\n",
       "      <td>NaN</td>\n",
       "    </tr>\n",
       "    <tr>\n",
       "      <th>2018-03-01 11:00:00</th>\n",
       "      <td>96</td>\n",
       "      <td>11</td>\n",
       "      <td>3</td>\n",
       "      <td>1</td>\n",
       "      <td>3</td>\n",
       "      <td>64.0</td>\n",
       "      <td>NaN</td>\n",
       "    </tr>\n",
       "    <tr>\n",
       "      <th>2018-03-01 12:00:00</th>\n",
       "      <td>30</td>\n",
       "      <td>12</td>\n",
       "      <td>3</td>\n",
       "      <td>1</td>\n",
       "      <td>3</td>\n",
       "      <td>96.0</td>\n",
       "      <td>NaN</td>\n",
       "    </tr>\n",
       "    <tr>\n",
       "      <th>2018-03-01 13:00:00</th>\n",
       "      <td>32</td>\n",
       "      <td>13</td>\n",
       "      <td>3</td>\n",
       "      <td>1</td>\n",
       "      <td>3</td>\n",
       "      <td>30.0</td>\n",
       "      <td>NaN</td>\n",
       "    </tr>\n",
       "    <tr>\n",
       "      <th>2018-03-01 14:00:00</th>\n",
       "      <td>48</td>\n",
       "      <td>14</td>\n",
       "      <td>3</td>\n",
       "      <td>1</td>\n",
       "      <td>3</td>\n",
       "      <td>32.0</td>\n",
       "      <td>NaN</td>\n",
       "    </tr>\n",
       "    <tr>\n",
       "      <th>2018-03-01 15:00:00</th>\n",
       "      <td>66</td>\n",
       "      <td>15</td>\n",
       "      <td>3</td>\n",
       "      <td>1</td>\n",
       "      <td>3</td>\n",
       "      <td>48.0</td>\n",
       "      <td>NaN</td>\n",
       "    </tr>\n",
       "    <tr>\n",
       "      <th>2018-03-01 16:00:00</th>\n",
       "      <td>43</td>\n",
       "      <td>16</td>\n",
       "      <td>3</td>\n",
       "      <td>1</td>\n",
       "      <td>3</td>\n",
       "      <td>66.0</td>\n",
       "      <td>NaN</td>\n",
       "    </tr>\n",
       "    <tr>\n",
       "      <th>2018-03-01 17:00:00</th>\n",
       "      <td>44</td>\n",
       "      <td>17</td>\n",
       "      <td>3</td>\n",
       "      <td>1</td>\n",
       "      <td>3</td>\n",
       "      <td>43.0</td>\n",
       "      <td>NaN</td>\n",
       "    </tr>\n",
       "    <tr>\n",
       "      <th>2018-03-01 18:00:00</th>\n",
       "      <td>73</td>\n",
       "      <td>18</td>\n",
       "      <td>3</td>\n",
       "      <td>1</td>\n",
       "      <td>3</td>\n",
       "      <td>44.0</td>\n",
       "      <td>NaN</td>\n",
       "    </tr>\n",
       "    <tr>\n",
       "      <th>2018-03-01 19:00:00</th>\n",
       "      <td>45</td>\n",
       "      <td>19</td>\n",
       "      <td>3</td>\n",
       "      <td>1</td>\n",
       "      <td>3</td>\n",
       "      <td>73.0</td>\n",
       "      <td>NaN</td>\n",
       "    </tr>\n",
       "    <tr>\n",
       "      <th>2018-03-01 20:00:00</th>\n",
       "      <td>61</td>\n",
       "      <td>20</td>\n",
       "      <td>3</td>\n",
       "      <td>1</td>\n",
       "      <td>3</td>\n",
       "      <td>45.0</td>\n",
       "      <td>NaN</td>\n",
       "    </tr>\n",
       "    <tr>\n",
       "      <th>2018-03-01 21:00:00</th>\n",
       "      <td>66</td>\n",
       "      <td>21</td>\n",
       "      <td>3</td>\n",
       "      <td>1</td>\n",
       "      <td>3</td>\n",
       "      <td>61.0</td>\n",
       "      <td>NaN</td>\n",
       "    </tr>\n",
       "    <tr>\n",
       "      <th>2018-03-01 22:00:00</th>\n",
       "      <td>113</td>\n",
       "      <td>22</td>\n",
       "      <td>3</td>\n",
       "      <td>1</td>\n",
       "      <td>3</td>\n",
       "      <td>66.0</td>\n",
       "      <td>NaN</td>\n",
       "    </tr>\n",
       "    <tr>\n",
       "      <th>2018-03-01 23:00:00</th>\n",
       "      <td>58</td>\n",
       "      <td>23</td>\n",
       "      <td>3</td>\n",
       "      <td>1</td>\n",
       "      <td>3</td>\n",
       "      <td>113.0</td>\n",
       "      <td>NaN</td>\n",
       "    </tr>\n",
       "    <tr>\n",
       "      <th>2018-03-02 00:00:00</th>\n",
       "      <td>90</td>\n",
       "      <td>0</td>\n",
       "      <td>3</td>\n",
       "      <td>2</td>\n",
       "      <td>4</td>\n",
       "      <td>58.0</td>\n",
       "      <td>56.833333</td>\n",
       "    </tr>\n",
       "    <tr>\n",
       "      <th>2018-03-02 01:00:00</th>\n",
       "      <td>120</td>\n",
       "      <td>1</td>\n",
       "      <td>3</td>\n",
       "      <td>2</td>\n",
       "      <td>4</td>\n",
       "      <td>90.0</td>\n",
       "      <td>55.416667</td>\n",
       "    </tr>\n",
       "    <tr>\n",
       "      <th>2018-03-02 02:00:00</th>\n",
       "      <td>75</td>\n",
       "      <td>2</td>\n",
       "      <td>3</td>\n",
       "      <td>2</td>\n",
       "      <td>4</td>\n",
       "      <td>120.0</td>\n",
       "      <td>56.875000</td>\n",
       "    </tr>\n",
       "    <tr>\n",
       "      <th>2018-03-02 03:00:00</th>\n",
       "      <td>64</td>\n",
       "      <td>3</td>\n",
       "      <td>3</td>\n",
       "      <td>2</td>\n",
       "      <td>4</td>\n",
       "      <td>75.0</td>\n",
       "      <td>57.041667</td>\n",
       "    </tr>\n",
       "    <tr>\n",
       "      <th>2018-03-02 04:00:00</th>\n",
       "      <td>20</td>\n",
       "      <td>4</td>\n",
       "      <td>3</td>\n",
       "      <td>2</td>\n",
       "      <td>4</td>\n",
       "      <td>64.0</td>\n",
       "      <td>56.958333</td>\n",
       "    </tr>\n",
       "    <tr>\n",
       "      <th>2018-03-02 05:00:00</th>\n",
       "      <td>11</td>\n",
       "      <td>5</td>\n",
       "      <td>3</td>\n",
       "      <td>2</td>\n",
       "      <td>4</td>\n",
       "      <td>20.0</td>\n",
       "      <td>56.000000</td>\n",
       "    </tr>\n",
       "  </tbody>\n",
       "</table>\n",
       "</div>"
      ],
      "text/plain": [
       "                     num_orders  hour  month  day  dayofweek  lag_1  \\\n",
       "datetime                                                              \n",
       "2018-03-01 00:00:00         124     0      3    1          3    NaN   \n",
       "2018-03-01 01:00:00          85     1      3    1          3  124.0   \n",
       "2018-03-01 02:00:00          71     2      3    1          3   85.0   \n",
       "2018-03-01 03:00:00          66     3      3    1          3   71.0   \n",
       "2018-03-01 04:00:00          43     4      3    1          3   66.0   \n",
       "2018-03-01 05:00:00           6     5      3    1          3   43.0   \n",
       "2018-03-01 06:00:00          12     6      3    1          3    6.0   \n",
       "2018-03-01 07:00:00          15     7      3    1          3   12.0   \n",
       "2018-03-01 08:00:00          34     8      3    1          3   15.0   \n",
       "2018-03-01 09:00:00          69     9      3    1          3   34.0   \n",
       "2018-03-01 10:00:00          64    10      3    1          3   69.0   \n",
       "2018-03-01 11:00:00          96    11      3    1          3   64.0   \n",
       "2018-03-01 12:00:00          30    12      3    1          3   96.0   \n",
       "2018-03-01 13:00:00          32    13      3    1          3   30.0   \n",
       "2018-03-01 14:00:00          48    14      3    1          3   32.0   \n",
       "2018-03-01 15:00:00          66    15      3    1          3   48.0   \n",
       "2018-03-01 16:00:00          43    16      3    1          3   66.0   \n",
       "2018-03-01 17:00:00          44    17      3    1          3   43.0   \n",
       "2018-03-01 18:00:00          73    18      3    1          3   44.0   \n",
       "2018-03-01 19:00:00          45    19      3    1          3   73.0   \n",
       "2018-03-01 20:00:00          61    20      3    1          3   45.0   \n",
       "2018-03-01 21:00:00          66    21      3    1          3   61.0   \n",
       "2018-03-01 22:00:00         113    22      3    1          3   66.0   \n",
       "2018-03-01 23:00:00          58    23      3    1          3  113.0   \n",
       "2018-03-02 00:00:00          90     0      3    2          4   58.0   \n",
       "2018-03-02 01:00:00         120     1      3    2          4   90.0   \n",
       "2018-03-02 02:00:00          75     2      3    2          4  120.0   \n",
       "2018-03-02 03:00:00          64     3      3    2          4   75.0   \n",
       "2018-03-02 04:00:00          20     4      3    2          4   64.0   \n",
       "2018-03-02 05:00:00          11     5      3    2          4   20.0   \n",
       "\n",
       "                     rolling_mean  \n",
       "datetime                           \n",
       "2018-03-01 00:00:00           NaN  \n",
       "2018-03-01 01:00:00           NaN  \n",
       "2018-03-01 02:00:00           NaN  \n",
       "2018-03-01 03:00:00           NaN  \n",
       "2018-03-01 04:00:00           NaN  \n",
       "2018-03-01 05:00:00           NaN  \n",
       "2018-03-01 06:00:00           NaN  \n",
       "2018-03-01 07:00:00           NaN  \n",
       "2018-03-01 08:00:00           NaN  \n",
       "2018-03-01 09:00:00           NaN  \n",
       "2018-03-01 10:00:00           NaN  \n",
       "2018-03-01 11:00:00           NaN  \n",
       "2018-03-01 12:00:00           NaN  \n",
       "2018-03-01 13:00:00           NaN  \n",
       "2018-03-01 14:00:00           NaN  \n",
       "2018-03-01 15:00:00           NaN  \n",
       "2018-03-01 16:00:00           NaN  \n",
       "2018-03-01 17:00:00           NaN  \n",
       "2018-03-01 18:00:00           NaN  \n",
       "2018-03-01 19:00:00           NaN  \n",
       "2018-03-01 20:00:00           NaN  \n",
       "2018-03-01 21:00:00           NaN  \n",
       "2018-03-01 22:00:00           NaN  \n",
       "2018-03-01 23:00:00           NaN  \n",
       "2018-03-02 00:00:00     56.833333  \n",
       "2018-03-02 01:00:00     55.416667  \n",
       "2018-03-02 02:00:00     56.875000  \n",
       "2018-03-02 03:00:00     57.041667  \n",
       "2018-03-02 04:00:00     56.958333  \n",
       "2018-03-02 05:00:00     56.000000  "
      ]
     },
     "execution_count": 13,
     "metadata": {},
     "output_type": "execute_result"
    }
   ],
   "source": [
    "df.head(30)"
   ]
  },
  {
   "cell_type": "markdown",
   "metadata": {},
   "source": [
    "Before we split our data we should drop our first row since by design it has null values."
   ]
  },
  {
   "cell_type": "code",
   "execution_count": 14,
   "metadata": {},
   "outputs": [],
   "source": [
    "df.dropna(axis = 0, inplace = True)"
   ]
  },
  {
   "cell_type": "markdown",
   "metadata": {},
   "source": [
    "Next we should split our data into training and test sets. The test size is set at 10% of the data set. We also should want a validation set, which we will set as being 10% of our training set or 9% of our overall data. To get the best model we will make our test and validation sets by taking the newest data by choosing not to shuffle our raw data."
   ]
  },
  {
   "cell_type": "code",
   "execution_count": 15,
   "metadata": {},
   "outputs": [],
   "source": [
    "# test set\n",
    "\n",
    "train, test = train_test_split(df, shuffle = False, test_size = 0.1)\n",
    "\n",
    "# validation set\n",
    "\n",
    "train, valid = train_test_split(train, shuffle = False, test_size = 0.1)"
   ]
  },
  {
   "cell_type": "code",
   "execution_count": 16,
   "metadata": {},
   "outputs": [],
   "source": [
    "# split into features and target\n",
    "\n",
    "features_train = train.drop(['num_orders'], axis = 1)\n",
    "target_train = train['num_orders']\n",
    "\n",
    "features_valid = valid.drop(['num_orders'], axis = 1)\n",
    "target_valid = valid['num_orders']\n",
    "\n",
    "features_test = test.drop(['num_orders'], axis = 1)\n",
    "target_test = test['num_orders']"
   ]
  },
  {
   "cell_type": "code",
   "execution_count": 17,
   "metadata": {},
   "outputs": [],
   "source": [
    "# set our RMSE threshold (of 48)\n",
    "\n",
    "threshold = 48\n",
    "\n",
    "# create function to calculate rmse\n",
    "\n",
    "def rmse(target, predictions): \n",
    "    rmse = mean_squared_error(target, predictions) ** 0.5\n",
    "    if rmse > threshold:\n",
    "        print(\"RMSE is\", rmse, \"which is above our threshold value of\", threshold)\n",
    "    return rmse"
   ]
  },
  {
   "cell_type": "markdown",
   "metadata": {},
   "source": [
    "To get a good idea of how much parameter tuning we might need, we will start by analyzing a dummy prediction to get a baseline for what our RMSE will look like."
   ]
  },
  {
   "cell_type": "code",
   "execution_count": 18,
   "metadata": {},
   "outputs": [
    {
     "name": "stdout",
     "output_type": "stream",
     "text": [
      "Dummy model RMSE: 46.18653283672647\n"
     ]
    }
   ],
   "source": [
    "# test against a dummy model\n",
    "\n",
    "pred_mean = np.ones(valid['num_orders'].shape) * valid['num_orders'].mean()\n",
    "print(\"Dummy model RMSE:\", rmse(valid['num_orders'], pred_mean))"
   ]
  },
  {
   "cell_type": "markdown",
   "metadata": {},
   "source": [
    "Luckily our dummy model's RMSE is already 46.1865. Technically speaking this would be \"good enough\" since the error is below our threshold but of course it follows that we should actually focus on making the best model we can. We will test five baseline models of regression - linear, random forest, catboost, LGBM and XGB regressions."
   ]
  },
  {
   "cell_type": "markdown",
   "metadata": {},
   "source": [
    "### Regression Checks"
   ]
  },
  {
   "cell_type": "code",
   "execution_count": 19,
   "metadata": {},
   "outputs": [
    {
     "name": "stdout",
     "output_type": "stream",
     "text": [
      "CPU times: user 2.76 ms, sys: 617 µs, total: 3.38 ms\n",
      "Wall time: 2.82 ms\n"
     ]
    },
    {
     "data": {
      "text/plain": [
       "LinearRegression()"
      ]
     },
     "execution_count": 19,
     "metadata": {},
     "output_type": "execute_result"
    }
   ],
   "source": [
    "%%time\n",
    "\n",
    "# linear regression\n",
    "\n",
    "lin_reg = LinearRegression()\n",
    "\n",
    "lin_reg.fit(features_train, target_train)"
   ]
  },
  {
   "cell_type": "code",
   "execution_count": 20,
   "metadata": {},
   "outputs": [
    {
     "name": "stdout",
     "output_type": "stream",
     "text": [
      "CPU times: user 2.87 ms, sys: 664 µs, total: 3.54 ms\n",
      "Wall time: 1.74 ms\n"
     ]
    }
   ],
   "source": [
    "%%time\n",
    "\n",
    "lr_pred = lin_reg.predict(features_valid)"
   ]
  },
  {
   "cell_type": "code",
   "execution_count": 21,
   "metadata": {},
   "outputs": [
    {
     "data": {
      "text/plain": [
       "41.001127356304806"
      ]
     },
     "execution_count": 21,
     "metadata": {},
     "output_type": "execute_result"
    }
   ],
   "source": [
    "rmse(target_valid, lr_pred)"
   ]
  },
  {
   "cell_type": "code",
   "execution_count": 22,
   "metadata": {},
   "outputs": [
    {
     "name": "stdout",
     "output_type": "stream",
     "text": [
      "CPU times: user 867 ms, sys: 27.2 ms, total: 894 ms\n",
      "Wall time: 914 ms\n"
     ]
    },
    {
     "data": {
      "text/plain": [
       "RandomForestRegressor(random_state=12345)"
      ]
     },
     "execution_count": 22,
     "metadata": {},
     "output_type": "execute_result"
    }
   ],
   "source": [
    "%%time\n",
    "\n",
    "# random forest\n",
    "\n",
    "rf = RandomForestRegressor(random_state = 12345)\n",
    "\n",
    "rf.fit(features_train, target_train)"
   ]
  },
  {
   "cell_type": "code",
   "execution_count": 23,
   "metadata": {},
   "outputs": [
    {
     "name": "stdout",
     "output_type": "stream",
     "text": [
      "CPU times: user 15.6 ms, sys: 1.01 ms, total: 16.6 ms\n",
      "Wall time: 15.1 ms\n"
     ]
    }
   ],
   "source": [
    "%%time\n",
    "\n",
    "rf_pred = rf.predict(features_valid)"
   ]
  },
  {
   "cell_type": "code",
   "execution_count": 24,
   "metadata": {},
   "outputs": [
    {
     "data": {
      "text/plain": [
       "33.20470886269846"
      ]
     },
     "execution_count": 24,
     "metadata": {},
     "output_type": "execute_result"
    }
   ],
   "source": [
    "rmse(target_valid, rf_pred)"
   ]
  },
  {
   "cell_type": "code",
   "execution_count": 25,
   "metadata": {},
   "outputs": [
    {
     "name": "stdout",
     "output_type": "stream",
     "text": [
      "Learning rate set to 0.094847\n",
      "0:\tlearn: 34.4346285\ttest: 55.7967202\tbest: 55.7967202 (0)\ttotal: 48.9ms\tremaining: 24.4s\n",
      "1:\tlearn: 33.0188435\ttest: 54.0617960\tbest: 54.0617960 (1)\ttotal: 49.9ms\tremaining: 12.4s\n",
      "2:\tlearn: 31.8364452\ttest: 52.2756528\tbest: 52.2756528 (2)\ttotal: 50.8ms\tremaining: 8.42s\n",
      "3:\tlearn: 30.9479801\ttest: 51.0684130\tbest: 51.0684130 (3)\ttotal: 51.7ms\tremaining: 6.41s\n",
      "4:\tlearn: 29.9654271\ttest: 49.8714546\tbest: 49.8714546 (4)\ttotal: 52.7ms\tremaining: 5.21s\n",
      "5:\tlearn: 29.1202675\ttest: 48.3758289\tbest: 48.3758289 (5)\ttotal: 53.5ms\tremaining: 4.41s\n",
      "6:\tlearn: 28.3601610\ttest: 47.3623091\tbest: 47.3623091 (6)\ttotal: 54.4ms\tremaining: 3.83s\n",
      "7:\tlearn: 27.9020918\ttest: 46.4620098\tbest: 46.4620098 (7)\ttotal: 55.4ms\tremaining: 3.4s\n",
      "8:\tlearn: 27.3515889\ttest: 45.7241402\tbest: 45.7241402 (8)\ttotal: 56.3ms\tremaining: 3.07s\n",
      "9:\tlearn: 26.9837408\ttest: 45.0090300\tbest: 45.0090300 (9)\ttotal: 57.2ms\tremaining: 2.8s\n",
      "10:\tlearn: 26.5811486\ttest: 44.4513240\tbest: 44.4513240 (10)\ttotal: 58.1ms\tremaining: 2.58s\n",
      "11:\tlearn: 26.2704908\ttest: 43.9902834\tbest: 43.9902834 (11)\ttotal: 59ms\tremaining: 2.4s\n",
      "12:\tlearn: 25.8344136\ttest: 43.0874088\tbest: 43.0874088 (12)\ttotal: 60ms\tremaining: 2.25s\n",
      "13:\tlearn: 25.6095303\ttest: 42.6197936\tbest: 42.6197936 (13)\ttotal: 60.8ms\tremaining: 2.11s\n",
      "14:\tlearn: 25.3578946\ttest: 42.0668720\tbest: 42.0668720 (14)\ttotal: 61.8ms\tremaining: 2s\n",
      "15:\tlearn: 25.0386944\ttest: 41.3779259\tbest: 41.3779259 (15)\ttotal: 62.7ms\tremaining: 1.9s\n",
      "16:\tlearn: 24.8661397\ttest: 41.1346354\tbest: 41.1346354 (16)\ttotal: 63.7ms\tremaining: 1.81s\n",
      "17:\tlearn: 24.6767816\ttest: 40.8180807\tbest: 40.8180807 (17)\ttotal: 64.6ms\tremaining: 1.73s\n",
      "18:\tlearn: 24.5313452\ttest: 40.5080721\tbest: 40.5080721 (18)\ttotal: 65.5ms\tremaining: 1.66s\n",
      "19:\tlearn: 24.3269490\ttest: 40.1729837\tbest: 40.1729837 (19)\ttotal: 66.5ms\tremaining: 1.59s\n",
      "20:\tlearn: 24.1240009\ttest: 39.7964775\tbest: 39.7964775 (20)\ttotal: 67.5ms\tremaining: 1.54s\n",
      "21:\tlearn: 23.9481680\ttest: 39.4870758\tbest: 39.4870758 (21)\ttotal: 68.4ms\tremaining: 1.49s\n",
      "22:\tlearn: 23.7783649\ttest: 39.2520187\tbest: 39.2520187 (22)\ttotal: 69.4ms\tremaining: 1.44s\n",
      "23:\tlearn: 23.6836988\ttest: 39.1246317\tbest: 39.1246317 (23)\ttotal: 70.3ms\tremaining: 1.39s\n",
      "24:\tlearn: 23.5216780\ttest: 38.8876027\tbest: 38.8876027 (24)\ttotal: 71.3ms\tremaining: 1.35s\n",
      "25:\tlearn: 23.3941180\ttest: 38.6090715\tbest: 38.6090715 (25)\ttotal: 72.3ms\tremaining: 1.32s\n",
      "26:\tlearn: 23.3423228\ttest: 38.4395902\tbest: 38.4395902 (26)\ttotal: 73.2ms\tremaining: 1.28s\n",
      "27:\tlearn: 23.1953483\ttest: 38.0370685\tbest: 38.0370685 (27)\ttotal: 74.2ms\tremaining: 1.25s\n",
      "28:\tlearn: 23.1287937\ttest: 37.9675657\tbest: 37.9675657 (28)\ttotal: 75.2ms\tremaining: 1.22s\n",
      "29:\tlearn: 22.9863088\ttest: 37.8611295\tbest: 37.8611295 (29)\ttotal: 76.2ms\tremaining: 1.19s\n",
      "30:\tlearn: 22.9083879\ttest: 37.7496292\tbest: 37.7496292 (30)\ttotal: 77.4ms\tremaining: 1.17s\n",
      "31:\tlearn: 22.7941366\ttest: 37.5610702\tbest: 37.5610702 (31)\ttotal: 78.3ms\tremaining: 1.15s\n",
      "32:\tlearn: 22.7372662\ttest: 37.5271715\tbest: 37.5271715 (32)\ttotal: 79.3ms\tremaining: 1.12s\n",
      "33:\tlearn: 22.6718260\ttest: 37.3450863\tbest: 37.3450863 (33)\ttotal: 80.3ms\tremaining: 1.1s\n",
      "34:\tlearn: 22.5752504\ttest: 37.1346060\tbest: 37.1346060 (34)\ttotal: 81.2ms\tremaining: 1.08s\n",
      "35:\tlearn: 22.5261455\ttest: 37.0792919\tbest: 37.0792919 (35)\ttotal: 82.1ms\tremaining: 1.06s\n",
      "36:\tlearn: 22.4909843\ttest: 37.0439111\tbest: 37.0439111 (36)\ttotal: 83ms\tremaining: 1.04s\n",
      "37:\tlearn: 22.3604991\ttest: 36.9009423\tbest: 36.9009423 (37)\ttotal: 83.9ms\tremaining: 1.02s\n",
      "38:\tlearn: 22.3084478\ttest: 36.8330324\tbest: 36.8330324 (38)\ttotal: 84.8ms\tremaining: 1s\n",
      "39:\tlearn: 22.2130105\ttest: 36.5249026\tbest: 36.5249026 (39)\ttotal: 85.8ms\tremaining: 987ms\n",
      "40:\tlearn: 22.1484932\ttest: 36.2469631\tbest: 36.2469631 (40)\ttotal: 86.8ms\tremaining: 972ms\n",
      "41:\tlearn: 22.0593316\ttest: 36.1757173\tbest: 36.1757173 (41)\ttotal: 87.7ms\tremaining: 957ms\n",
      "42:\tlearn: 21.9624452\ttest: 36.0257934\tbest: 36.0257934 (42)\ttotal: 88.7ms\tremaining: 942ms\n",
      "43:\tlearn: 21.9333062\ttest: 35.9804771\tbest: 35.9804771 (43)\ttotal: 89.6ms\tremaining: 928ms\n",
      "44:\tlearn: 21.8627450\ttest: 35.9188856\tbest: 35.9188856 (44)\ttotal: 90.6ms\tremaining: 916ms\n",
      "45:\tlearn: 21.8275711\ttest: 35.8725223\tbest: 35.8725223 (45)\ttotal: 91.5ms\tremaining: 903ms\n",
      "46:\tlearn: 21.7330663\ttest: 35.7744785\tbest: 35.7744785 (46)\ttotal: 92.5ms\tremaining: 892ms\n",
      "47:\tlearn: 21.7004269\ttest: 35.8062441\tbest: 35.7744785 (46)\ttotal: 93.4ms\tremaining: 880ms\n",
      "48:\tlearn: 21.6548648\ttest: 35.7462234\tbest: 35.7462234 (48)\ttotal: 94.3ms\tremaining: 868ms\n",
      "49:\tlearn: 21.5848214\ttest: 35.6379179\tbest: 35.6379179 (49)\ttotal: 95.2ms\tremaining: 857ms\n",
      "50:\tlearn: 21.5653810\ttest: 35.6349389\tbest: 35.6349389 (50)\ttotal: 96.5ms\tremaining: 849ms\n",
      "51:\tlearn: 21.5233280\ttest: 35.5412651\tbest: 35.5412651 (51)\ttotal: 97.9ms\tremaining: 843ms\n",
      "52:\tlearn: 21.5008371\ttest: 35.5547739\tbest: 35.5412651 (51)\ttotal: 99.1ms\tremaining: 836ms\n",
      "53:\tlearn: 21.4062279\ttest: 35.4826570\tbest: 35.4826570 (53)\ttotal: 100ms\tremaining: 828ms\n",
      "54:\tlearn: 21.3515906\ttest: 35.4283016\tbest: 35.4283016 (54)\ttotal: 101ms\tremaining: 819ms\n",
      "55:\tlearn: 21.3195560\ttest: 35.4108736\tbest: 35.4108736 (55)\ttotal: 102ms\tremaining: 810ms\n",
      "56:\tlearn: 21.2523668\ttest: 35.3522319\tbest: 35.3522319 (56)\ttotal: 103ms\tremaining: 802ms\n",
      "57:\tlearn: 21.1722094\ttest: 35.2951495\tbest: 35.2951495 (57)\ttotal: 104ms\tremaining: 793ms\n",
      "58:\tlearn: 21.0927167\ttest: 35.1929438\tbest: 35.1929438 (58)\ttotal: 105ms\tremaining: 785ms\n",
      "59:\tlearn: 21.0497932\ttest: 35.1877008\tbest: 35.1877008 (59)\ttotal: 106ms\tremaining: 777ms\n",
      "60:\tlearn: 21.0210123\ttest: 35.1664322\tbest: 35.1664322 (60)\ttotal: 107ms\tremaining: 770ms\n",
      "61:\tlearn: 20.9560297\ttest: 35.0834825\tbest: 35.0834825 (61)\ttotal: 108ms\tremaining: 763ms\n",
      "62:\tlearn: 20.9038719\ttest: 35.0557692\tbest: 35.0557692 (62)\ttotal: 109ms\tremaining: 756ms\n",
      "63:\tlearn: 20.8585120\ttest: 35.0420541\tbest: 35.0420541 (63)\ttotal: 110ms\tremaining: 750ms\n",
      "64:\tlearn: 20.7891401\ttest: 34.9430681\tbest: 34.9430681 (64)\ttotal: 111ms\tremaining: 743ms\n",
      "65:\tlearn: 20.7510612\ttest: 34.9193133\tbest: 34.9193133 (65)\ttotal: 112ms\tremaining: 736ms\n",
      "66:\tlearn: 20.6954984\ttest: 34.8806313\tbest: 34.8806313 (66)\ttotal: 113ms\tremaining: 730ms\n",
      "67:\tlearn: 20.6816767\ttest: 34.8116547\tbest: 34.8116547 (67)\ttotal: 114ms\tremaining: 724ms\n",
      "68:\tlearn: 20.6479648\ttest: 34.7823270\tbest: 34.7823270 (68)\ttotal: 115ms\tremaining: 718ms\n",
      "69:\tlearn: 20.5892719\ttest: 34.5358776\tbest: 34.5358776 (69)\ttotal: 116ms\tremaining: 712ms\n",
      "70:\tlearn: 20.5729509\ttest: 34.5802404\tbest: 34.5358776 (69)\ttotal: 117ms\tremaining: 707ms\n",
      "71:\tlearn: 20.5604140\ttest: 34.6180232\tbest: 34.5358776 (69)\ttotal: 118ms\tremaining: 701ms\n",
      "72:\tlearn: 20.5125048\ttest: 34.6043094\tbest: 34.5358776 (69)\ttotal: 119ms\tremaining: 696ms\n",
      "73:\tlearn: 20.4899598\ttest: 34.5940791\tbest: 34.5358776 (69)\ttotal: 120ms\tremaining: 692ms\n",
      "74:\tlearn: 20.4503173\ttest: 34.5286665\tbest: 34.5286665 (74)\ttotal: 121ms\tremaining: 687ms\n",
      "75:\tlearn: 20.3751383\ttest: 34.4897062\tbest: 34.4897062 (75)\ttotal: 122ms\tremaining: 682ms\n",
      "76:\tlearn: 20.3309954\ttest: 34.4238716\tbest: 34.4238716 (76)\ttotal: 123ms\tremaining: 676ms\n",
      "77:\tlearn: 20.3158391\ttest: 34.4374235\tbest: 34.4238716 (76)\ttotal: 124ms\tremaining: 672ms\n",
      "78:\tlearn: 20.2611469\ttest: 34.3691960\tbest: 34.3691960 (78)\ttotal: 125ms\tremaining: 667ms\n",
      "79:\tlearn: 20.2144488\ttest: 34.3239131\tbest: 34.3239131 (79)\ttotal: 126ms\tremaining: 663ms\n",
      "80:\tlearn: 20.1818815\ttest: 34.2512246\tbest: 34.2512246 (80)\ttotal: 127ms\tremaining: 658ms\n",
      "81:\tlearn: 20.1409085\ttest: 34.1627564\tbest: 34.1627564 (81)\ttotal: 128ms\tremaining: 654ms\n",
      "82:\tlearn: 20.1279035\ttest: 34.2409661\tbest: 34.1627564 (81)\ttotal: 129ms\tremaining: 649ms\n",
      "83:\tlearn: 20.0770265\ttest: 34.2159895\tbest: 34.1627564 (81)\ttotal: 130ms\tremaining: 645ms\n",
      "84:\tlearn: 20.0405112\ttest: 34.1301260\tbest: 34.1301260 (84)\ttotal: 131ms\tremaining: 641ms\n",
      "85:\tlearn: 20.0149576\ttest: 34.1240767\tbest: 34.1240767 (85)\ttotal: 132ms\tremaining: 637ms\n",
      "86:\tlearn: 19.9604651\ttest: 34.0626858\tbest: 34.0626858 (86)\ttotal: 133ms\tremaining: 634ms\n",
      "87:\tlearn: 19.9406970\ttest: 34.0100021\tbest: 34.0100021 (87)\ttotal: 134ms\tremaining: 629ms\n",
      "88:\tlearn: 19.8936646\ttest: 33.9465312\tbest: 33.9465312 (88)\ttotal: 135ms\tremaining: 625ms\n",
      "89:\tlearn: 19.8605501\ttest: 33.9149254\tbest: 33.9149254 (89)\ttotal: 136ms\tremaining: 621ms\n",
      "90:\tlearn: 19.8443260\ttest: 33.9725614\tbest: 33.9149254 (89)\ttotal: 137ms\tremaining: 617ms\n",
      "91:\tlearn: 19.8060787\ttest: 33.9095301\tbest: 33.9095301 (91)\ttotal: 138ms\tremaining: 613ms\n",
      "92:\tlearn: 19.7568445\ttest: 33.8586894\tbest: 33.8586894 (92)\ttotal: 139ms\tremaining: 610ms\n",
      "93:\tlearn: 19.7400695\ttest: 33.9161316\tbest: 33.8586894 (92)\ttotal: 140ms\tremaining: 606ms\n",
      "94:\tlearn: 19.6657624\ttest: 33.8489675\tbest: 33.8489675 (94)\ttotal: 141ms\tremaining: 602ms\n",
      "95:\tlearn: 19.6190639\ttest: 33.8005422\tbest: 33.8005422 (95)\ttotal: 142ms\tremaining: 598ms\n",
      "96:\tlearn: 19.5868609\ttest: 33.7925543\tbest: 33.7925543 (96)\ttotal: 143ms\tremaining: 594ms\n",
      "97:\tlearn: 19.5336482\ttest: 33.7505746\tbest: 33.7505746 (97)\ttotal: 144ms\tremaining: 591ms\n",
      "98:\tlearn: 19.4905954\ttest: 33.6945962\tbest: 33.6945962 (98)\ttotal: 145ms\tremaining: 589ms\n",
      "99:\tlearn: 19.4656838\ttest: 33.6742395\tbest: 33.6742395 (99)\ttotal: 146ms\tremaining: 586ms\n",
      "100:\tlearn: 19.4476066\ttest: 33.6693194\tbest: 33.6693194 (100)\ttotal: 147ms\tremaining: 582ms\n",
      "101:\tlearn: 19.4034394\ttest: 33.6483015\tbest: 33.6483015 (101)\ttotal: 148ms\tremaining: 579ms\n",
      "102:\tlearn: 19.3772755\ttest: 33.6473522\tbest: 33.6473522 (102)\ttotal: 149ms\tremaining: 575ms\n",
      "103:\tlearn: 19.3631522\ttest: 33.7018176\tbest: 33.6473522 (102)\ttotal: 150ms\tremaining: 572ms\n",
      "104:\tlearn: 19.3457710\ttest: 33.7107753\tbest: 33.6473522 (102)\ttotal: 151ms\tremaining: 569ms\n",
      "105:\tlearn: 19.3269865\ttest: 33.6741211\tbest: 33.6473522 (102)\ttotal: 152ms\tremaining: 566ms\n",
      "106:\tlearn: 19.3059508\ttest: 33.6866257\tbest: 33.6473522 (102)\ttotal: 153ms\tremaining: 563ms\n",
      "107:\tlearn: 19.2646334\ttest: 33.6330423\tbest: 33.6330423 (107)\ttotal: 154ms\tremaining: 560ms\n",
      "108:\tlearn: 19.2346022\ttest: 33.5971471\tbest: 33.5971471 (108)\ttotal: 155ms\tremaining: 557ms\n",
      "109:\tlearn: 19.2071604\ttest: 33.5639947\tbest: 33.5639947 (109)\ttotal: 156ms\tremaining: 554ms\n",
      "110:\tlearn: 19.1717816\ttest: 33.5132623\tbest: 33.5132623 (110)\ttotal: 157ms\tremaining: 551ms\n",
      "111:\tlearn: 19.1585796\ttest: 33.5425714\tbest: 33.5132623 (110)\ttotal: 158ms\tremaining: 548ms\n",
      "112:\tlearn: 19.1282286\ttest: 33.5814397\tbest: 33.5132623 (110)\ttotal: 159ms\tremaining: 545ms\n",
      "113:\tlearn: 19.1044345\ttest: 33.5908555\tbest: 33.5132623 (110)\ttotal: 160ms\tremaining: 542ms\n",
      "114:\tlearn: 19.0489792\ttest: 33.5410219\tbest: 33.5132623 (110)\ttotal: 161ms\tremaining: 539ms\n",
      "115:\tlearn: 19.0308780\ttest: 33.5677478\tbest: 33.5132623 (110)\ttotal: 162ms\tremaining: 537ms\n",
      "116:\tlearn: 19.0148127\ttest: 33.5905522\tbest: 33.5132623 (110)\ttotal: 163ms\tremaining: 534ms\n",
      "117:\tlearn: 19.0027356\ttest: 33.6176106\tbest: 33.5132623 (110)\ttotal: 164ms\tremaining: 532ms\n",
      "118:\tlearn: 18.9572535\ttest: 33.5757711\tbest: 33.5132623 (110)\ttotal: 165ms\tremaining: 529ms\n",
      "119:\tlearn: 18.9326746\ttest: 33.5991638\tbest: 33.5132623 (110)\ttotal: 166ms\tremaining: 527ms\n",
      "120:\tlearn: 18.9206773\ttest: 33.6364697\tbest: 33.5132623 (110)\ttotal: 167ms\tremaining: 524ms\n",
      "121:\tlearn: 18.8743457\ttest: 33.6214796\tbest: 33.5132623 (110)\ttotal: 168ms\tremaining: 521ms\n",
      "122:\tlearn: 18.8368666\ttest: 33.5862937\tbest: 33.5132623 (110)\ttotal: 169ms\tremaining: 519ms\n",
      "123:\tlearn: 18.8251517\ttest: 33.6403511\tbest: 33.5132623 (110)\ttotal: 170ms\tremaining: 516ms\n",
      "124:\tlearn: 18.8065270\ttest: 33.4841328\tbest: 33.4841328 (124)\ttotal: 171ms\tremaining: 514ms\n",
      "125:\tlearn: 18.7848188\ttest: 33.5027346\tbest: 33.4841328 (124)\ttotal: 172ms\tremaining: 511ms\n",
      "126:\tlearn: 18.7609555\ttest: 33.4582356\tbest: 33.4582356 (126)\ttotal: 173ms\tremaining: 508ms\n",
      "127:\tlearn: 18.7518565\ttest: 33.4966678\tbest: 33.4582356 (126)\ttotal: 174ms\tremaining: 506ms\n",
      "128:\tlearn: 18.7299322\ttest: 33.4840018\tbest: 33.4582356 (126)\ttotal: 175ms\tremaining: 504ms\n",
      "129:\tlearn: 18.7005941\ttest: 33.4791953\tbest: 33.4582356 (126)\ttotal: 176ms\tremaining: 501ms\n",
      "130:\tlearn: 18.6824320\ttest: 33.5011886\tbest: 33.4582356 (126)\ttotal: 177ms\tremaining: 499ms\n",
      "131:\tlearn: 18.6622050\ttest: 33.4805597\tbest: 33.4582356 (126)\ttotal: 178ms\tremaining: 496ms\n",
      "132:\tlearn: 18.6425406\ttest: 33.5493297\tbest: 33.4582356 (126)\ttotal: 179ms\tremaining: 493ms\n",
      "133:\tlearn: 18.6193478\ttest: 33.4236013\tbest: 33.4236013 (133)\ttotal: 180ms\tremaining: 491ms\n",
      "134:\tlearn: 18.5943532\ttest: 33.3014438\tbest: 33.3014438 (134)\ttotal: 181ms\tremaining: 489ms\n",
      "135:\tlearn: 18.5819763\ttest: 33.3436477\tbest: 33.3014438 (134)\ttotal: 182ms\tremaining: 487ms\n",
      "136:\tlearn: 18.5414522\ttest: 33.3049414\tbest: 33.3014438 (134)\ttotal: 183ms\tremaining: 485ms\n",
      "137:\tlearn: 18.5142335\ttest: 33.2863410\tbest: 33.2863410 (137)\ttotal: 184ms\tremaining: 482ms\n",
      "138:\tlearn: 18.4746569\ttest: 33.2409027\tbest: 33.2409027 (138)\ttotal: 185ms\tremaining: 480ms\n",
      "139:\tlearn: 18.4471858\ttest: 33.2121032\tbest: 33.2121032 (139)\ttotal: 186ms\tremaining: 478ms\n",
      "140:\tlearn: 18.4280880\ttest: 33.1668507\tbest: 33.1668507 (140)\ttotal: 188ms\tremaining: 478ms\n",
      "141:\tlearn: 18.4118987\ttest: 33.1853884\tbest: 33.1668507 (140)\ttotal: 189ms\tremaining: 476ms\n",
      "142:\tlearn: 18.3790346\ttest: 33.1602768\tbest: 33.1602768 (142)\ttotal: 190ms\tremaining: 474ms\n",
      "143:\tlearn: 18.3534819\ttest: 33.1661522\tbest: 33.1602768 (142)\ttotal: 191ms\tremaining: 472ms\n",
      "144:\tlearn: 18.3342120\ttest: 33.1087593\tbest: 33.1087593 (144)\ttotal: 192ms\tremaining: 470ms\n",
      "145:\tlearn: 18.3208892\ttest: 33.1158039\tbest: 33.1087593 (144)\ttotal: 193ms\tremaining: 467ms\n",
      "146:\tlearn: 18.2945923\ttest: 33.1297417\tbest: 33.1087593 (144)\ttotal: 194ms\tremaining: 466ms\n",
      "147:\tlearn: 18.2785572\ttest: 33.1410735\tbest: 33.1087593 (144)\ttotal: 195ms\tremaining: 465ms\n",
      "148:\tlearn: 18.2527528\ttest: 33.1603163\tbest: 33.1087593 (144)\ttotal: 197ms\tremaining: 464ms\n",
      "149:\tlearn: 18.2354405\ttest: 33.1301529\tbest: 33.1087593 (144)\ttotal: 198ms\tremaining: 462ms\n",
      "150:\tlearn: 18.2001206\ttest: 33.1400672\tbest: 33.1087593 (144)\ttotal: 199ms\tremaining: 461ms\n",
      "151:\tlearn: 18.1691267\ttest: 33.1509353\tbest: 33.1087593 (144)\ttotal: 201ms\tremaining: 459ms\n",
      "152:\tlearn: 18.1497716\ttest: 33.0946269\tbest: 33.0946269 (152)\ttotal: 202ms\tremaining: 457ms\n",
      "153:\tlearn: 18.1295456\ttest: 33.0917663\tbest: 33.0917663 (153)\ttotal: 203ms\tremaining: 455ms\n",
      "154:\tlearn: 18.1156842\ttest: 33.1011494\tbest: 33.0917663 (153)\ttotal: 204ms\tremaining: 453ms\n",
      "155:\tlearn: 18.0965181\ttest: 33.1058540\tbest: 33.0917663 (153)\ttotal: 205ms\tremaining: 451ms\n",
      "156:\tlearn: 18.0700545\ttest: 33.1082108\tbest: 33.0917663 (153)\ttotal: 206ms\tremaining: 449ms\n",
      "157:\tlearn: 18.0449697\ttest: 33.1025403\tbest: 33.0917663 (153)\ttotal: 207ms\tremaining: 447ms\n",
      "158:\tlearn: 18.0224730\ttest: 33.1092421\tbest: 33.0917663 (153)\ttotal: 208ms\tremaining: 445ms\n",
      "159:\tlearn: 18.0010139\ttest: 33.1543160\tbest: 33.0917663 (153)\ttotal: 209ms\tremaining: 443ms\n",
      "160:\tlearn: 17.9759514\ttest: 33.1471732\tbest: 33.0917663 (153)\ttotal: 210ms\tremaining: 441ms\n",
      "161:\tlearn: 17.9572183\ttest: 33.1493078\tbest: 33.0917663 (153)\ttotal: 211ms\tremaining: 439ms\n",
      "162:\tlearn: 17.9329192\ttest: 33.1585199\tbest: 33.0917663 (153)\ttotal: 212ms\tremaining: 437ms\n",
      "163:\tlearn: 17.9136066\ttest: 33.0988310\tbest: 33.0917663 (153)\ttotal: 213ms\tremaining: 436ms\n",
      "164:\tlearn: 17.8903828\ttest: 33.0830506\tbest: 33.0830506 (164)\ttotal: 214ms\tremaining: 434ms\n",
      "165:\tlearn: 17.8649325\ttest: 32.9904982\tbest: 32.9904982 (165)\ttotal: 215ms\tremaining: 432ms\n",
      "166:\tlearn: 17.8428008\ttest: 32.9706848\tbest: 32.9706848 (166)\ttotal: 216ms\tremaining: 430ms\n",
      "167:\tlearn: 17.8161035\ttest: 32.9489454\tbest: 32.9489454 (167)\ttotal: 217ms\tremaining: 428ms\n",
      "168:\tlearn: 17.7969936\ttest: 32.9791927\tbest: 32.9489454 (167)\ttotal: 218ms\tremaining: 426ms\n",
      "169:\tlearn: 17.7797723\ttest: 32.9839077\tbest: 32.9489454 (167)\ttotal: 219ms\tremaining: 424ms\n",
      "170:\tlearn: 17.7477619\ttest: 32.9776969\tbest: 32.9489454 (167)\ttotal: 219ms\tremaining: 422ms\n",
      "171:\tlearn: 17.7345815\ttest: 32.9569967\tbest: 32.9489454 (167)\ttotal: 220ms\tremaining: 420ms\n",
      "172:\tlearn: 17.7239579\ttest: 32.9878913\tbest: 32.9489454 (167)\ttotal: 221ms\tremaining: 418ms\n",
      "173:\tlearn: 17.7146914\ttest: 33.0003506\tbest: 32.9489454 (167)\ttotal: 222ms\tremaining: 417ms\n",
      "174:\tlearn: 17.6997934\ttest: 32.9564234\tbest: 32.9489454 (167)\ttotal: 223ms\tremaining: 415ms\n",
      "175:\tlearn: 17.6799361\ttest: 32.9678467\tbest: 32.9489454 (167)\ttotal: 224ms\tremaining: 413ms\n",
      "176:\tlearn: 17.6621200\ttest: 32.9761871\tbest: 32.9489454 (167)\ttotal: 225ms\tremaining: 411ms\n",
      "177:\tlearn: 17.6422565\ttest: 32.9718379\tbest: 32.9489454 (167)\ttotal: 226ms\tremaining: 409ms\n",
      "178:\tlearn: 17.6353497\ttest: 33.0116469\tbest: 32.9489454 (167)\ttotal: 227ms\tremaining: 407ms\n",
      "179:\tlearn: 17.6145137\ttest: 32.9631172\tbest: 32.9489454 (167)\ttotal: 228ms\tremaining: 406ms\n",
      "180:\tlearn: 17.5977935\ttest: 32.9615701\tbest: 32.9489454 (167)\ttotal: 229ms\tremaining: 404ms\n",
      "181:\tlearn: 17.5767161\ttest: 32.9922718\tbest: 32.9489454 (167)\ttotal: 230ms\tremaining: 402ms\n",
      "182:\tlearn: 17.5521941\ttest: 32.9968623\tbest: 32.9489454 (167)\ttotal: 231ms\tremaining: 400ms\n",
      "183:\tlearn: 17.5191490\ttest: 32.9618724\tbest: 32.9489454 (167)\ttotal: 232ms\tremaining: 398ms\n",
      "184:\tlearn: 17.4990721\ttest: 32.9565202\tbest: 32.9489454 (167)\ttotal: 233ms\tremaining: 397ms\n",
      "185:\tlearn: 17.4829680\ttest: 32.9163079\tbest: 32.9163079 (185)\ttotal: 234ms\tremaining: 395ms\n",
      "186:\tlearn: 17.4685854\ttest: 32.9079777\tbest: 32.9079777 (186)\ttotal: 235ms\tremaining: 393ms\n",
      "187:\tlearn: 17.4466014\ttest: 32.9292771\tbest: 32.9079777 (186)\ttotal: 236ms\tremaining: 392ms\n",
      "188:\tlearn: 17.4410781\ttest: 32.9521822\tbest: 32.9079777 (186)\ttotal: 237ms\tremaining: 390ms\n",
      "189:\tlearn: 17.4224552\ttest: 32.9248248\tbest: 32.9079777 (186)\ttotal: 238ms\tremaining: 388ms\n",
      "190:\tlearn: 17.4153531\ttest: 32.9315033\tbest: 32.9079777 (186)\ttotal: 239ms\tremaining: 387ms\n",
      "191:\tlearn: 17.3989094\ttest: 32.8389114\tbest: 32.8389114 (191)\ttotal: 240ms\tremaining: 385ms\n",
      "192:\tlearn: 17.3823102\ttest: 32.8292906\tbest: 32.8292906 (192)\ttotal: 241ms\tremaining: 383ms\n",
      "193:\tlearn: 17.3661952\ttest: 32.8354745\tbest: 32.8292906 (192)\ttotal: 242ms\tremaining: 382ms\n",
      "194:\tlearn: 17.3529114\ttest: 32.8389850\tbest: 32.8292906 (192)\ttotal: 243ms\tremaining: 380ms\n",
      "195:\tlearn: 17.3302012\ttest: 32.8425637\tbest: 32.8292906 (192)\ttotal: 244ms\tremaining: 378ms\n",
      "196:\tlearn: 17.3107312\ttest: 32.8342363\tbest: 32.8292906 (192)\ttotal: 245ms\tremaining: 377ms\n",
      "197:\tlearn: 17.2948666\ttest: 32.8211155\tbest: 32.8211155 (197)\ttotal: 247ms\tremaining: 376ms\n",
      "198:\tlearn: 17.2752228\ttest: 32.7887851\tbest: 32.7887851 (198)\ttotal: 248ms\tremaining: 375ms\n",
      "199:\tlearn: 17.2616756\ttest: 32.7825041\tbest: 32.7825041 (199)\ttotal: 249ms\tremaining: 373ms\n",
      "200:\tlearn: 17.2392213\ttest: 32.7777334\tbest: 32.7777334 (200)\ttotal: 250ms\tremaining: 372ms\n",
      "201:\tlearn: 17.2230905\ttest: 32.7720927\tbest: 32.7720927 (201)\ttotal: 251ms\tremaining: 370ms\n",
      "202:\tlearn: 17.1992775\ttest: 32.7743131\tbest: 32.7720927 (201)\ttotal: 252ms\tremaining: 369ms\n",
      "203:\tlearn: 17.1852105\ttest: 32.7841561\tbest: 32.7720927 (201)\ttotal: 253ms\tremaining: 367ms\n",
      "204:\tlearn: 17.1703854\ttest: 32.8043757\tbest: 32.7720927 (201)\ttotal: 254ms\tremaining: 365ms\n",
      "205:\tlearn: 17.1447392\ttest: 32.7637302\tbest: 32.7637302 (205)\ttotal: 255ms\tremaining: 364ms\n",
      "206:\tlearn: 17.1304667\ttest: 32.7746344\tbest: 32.7637302 (205)\ttotal: 256ms\tremaining: 362ms\n",
      "207:\tlearn: 17.1085090\ttest: 32.7662860\tbest: 32.7637302 (205)\ttotal: 257ms\tremaining: 361ms\n",
      "208:\tlearn: 17.0913324\ttest: 32.7690800\tbest: 32.7637302 (205)\ttotal: 258ms\tremaining: 359ms\n",
      "209:\tlearn: 17.0766693\ttest: 32.7981481\tbest: 32.7637302 (205)\ttotal: 259ms\tremaining: 358ms\n",
      "210:\tlearn: 17.0669354\ttest: 32.7822706\tbest: 32.7637302 (205)\ttotal: 260ms\tremaining: 356ms\n",
      "211:\tlearn: 17.0438341\ttest: 32.7570386\tbest: 32.7570386 (211)\ttotal: 261ms\tremaining: 355ms\n",
      "212:\tlearn: 17.0259396\ttest: 32.7390763\tbest: 32.7390763 (212)\ttotal: 262ms\tremaining: 353ms\n",
      "213:\tlearn: 17.0122422\ttest: 32.7351423\tbest: 32.7351423 (213)\ttotal: 263ms\tremaining: 352ms\n",
      "214:\tlearn: 16.9997175\ttest: 32.7499240\tbest: 32.7351423 (213)\ttotal: 264ms\tremaining: 350ms\n",
      "215:\tlearn: 16.9915744\ttest: 32.7578936\tbest: 32.7351423 (213)\ttotal: 265ms\tremaining: 348ms\n",
      "216:\tlearn: 16.9807471\ttest: 32.7872852\tbest: 32.7351423 (213)\ttotal: 266ms\tremaining: 347ms\n",
      "217:\tlearn: 16.9683602\ttest: 32.7685475\tbest: 32.7351423 (213)\ttotal: 267ms\tremaining: 345ms\n",
      "218:\tlearn: 16.9535343\ttest: 32.7705316\tbest: 32.7351423 (213)\ttotal: 268ms\tremaining: 343ms\n",
      "219:\tlearn: 16.9363045\ttest: 32.7595904\tbest: 32.7351423 (213)\ttotal: 269ms\tremaining: 342ms\n",
      "220:\tlearn: 16.9267448\ttest: 32.7361135\tbest: 32.7351423 (213)\ttotal: 270ms\tremaining: 340ms\n",
      "221:\tlearn: 16.9215820\ttest: 32.7285442\tbest: 32.7285442 (221)\ttotal: 270ms\tremaining: 339ms\n",
      "222:\tlearn: 16.9060683\ttest: 32.7204589\tbest: 32.7204589 (222)\ttotal: 271ms\tremaining: 337ms\n",
      "223:\tlearn: 16.9050512\ttest: 32.7280082\tbest: 32.7204589 (222)\ttotal: 272ms\tremaining: 336ms\n",
      "224:\tlearn: 16.8862505\ttest: 32.7138720\tbest: 32.7138720 (224)\ttotal: 273ms\tremaining: 334ms\n",
      "225:\tlearn: 16.8749631\ttest: 32.7167589\tbest: 32.7138720 (224)\ttotal: 274ms\tremaining: 333ms\n",
      "226:\tlearn: 16.8635665\ttest: 32.8256815\tbest: 32.7138720 (224)\ttotal: 275ms\tremaining: 331ms\n",
      "227:\tlearn: 16.8467653\ttest: 32.8088741\tbest: 32.7138720 (224)\ttotal: 276ms\tremaining: 330ms\n",
      "228:\tlearn: 16.8342807\ttest: 32.8466285\tbest: 32.7138720 (224)\ttotal: 277ms\tremaining: 328ms\n",
      "229:\tlearn: 16.8245654\ttest: 32.8022492\tbest: 32.7138720 (224)\ttotal: 278ms\tremaining: 327ms\n",
      "230:\tlearn: 16.8139005\ttest: 32.8227102\tbest: 32.7138720 (224)\ttotal: 280ms\tremaining: 326ms\n",
      "231:\tlearn: 16.7977415\ttest: 32.8351007\tbest: 32.7138720 (224)\ttotal: 281ms\tremaining: 325ms\n",
      "232:\tlearn: 16.7793143\ttest: 32.8231032\tbest: 32.7138720 (224)\ttotal: 282ms\tremaining: 323ms\n",
      "233:\tlearn: 16.7670424\ttest: 32.8250293\tbest: 32.7138720 (224)\ttotal: 283ms\tremaining: 322ms\n",
      "234:\tlearn: 16.7566454\ttest: 32.8242093\tbest: 32.7138720 (224)\ttotal: 284ms\tremaining: 320ms\n",
      "235:\tlearn: 16.7271642\ttest: 32.8005675\tbest: 32.7138720 (224)\ttotal: 285ms\tremaining: 319ms\n",
      "236:\tlearn: 16.7202192\ttest: 32.7857974\tbest: 32.7138720 (224)\ttotal: 286ms\tremaining: 317ms\n",
      "237:\tlearn: 16.7121615\ttest: 32.8029334\tbest: 32.7138720 (224)\ttotal: 287ms\tremaining: 316ms\n",
      "238:\tlearn: 16.7054716\ttest: 32.8171916\tbest: 32.7138720 (224)\ttotal: 288ms\tremaining: 315ms\n",
      "239:\tlearn: 16.6871033\ttest: 32.8989640\tbest: 32.7138720 (224)\ttotal: 289ms\tremaining: 313ms\n",
      "240:\tlearn: 16.6833474\ttest: 32.9164675\tbest: 32.7138720 (224)\ttotal: 290ms\tremaining: 312ms\n",
      "241:\tlearn: 16.6701101\ttest: 32.8683245\tbest: 32.7138720 (224)\ttotal: 291ms\tremaining: 311ms\n",
      "242:\tlearn: 16.6549138\ttest: 32.8890370\tbest: 32.7138720 (224)\ttotal: 292ms\tremaining: 309ms\n",
      "243:\tlearn: 16.6409927\ttest: 32.9046310\tbest: 32.7138720 (224)\ttotal: 293ms\tremaining: 308ms\n",
      "244:\tlearn: 16.6289272\ttest: 32.9021526\tbest: 32.7138720 (224)\ttotal: 294ms\tremaining: 306ms\n",
      "245:\tlearn: 16.6160970\ttest: 32.9093197\tbest: 32.7138720 (224)\ttotal: 295ms\tremaining: 305ms\n",
      "246:\tlearn: 16.6047079\ttest: 32.9087013\tbest: 32.7138720 (224)\ttotal: 297ms\tremaining: 304ms\n",
      "247:\tlearn: 16.5884543\ttest: 32.8995160\tbest: 32.7138720 (224)\ttotal: 298ms\tremaining: 303ms\n",
      "248:\tlearn: 16.5839717\ttest: 32.9917205\tbest: 32.7138720 (224)\ttotal: 299ms\tremaining: 301ms\n",
      "249:\tlearn: 16.5694763\ttest: 32.9798942\tbest: 32.7138720 (224)\ttotal: 300ms\tremaining: 300ms\n",
      "250:\tlearn: 16.5501518\ttest: 32.9481494\tbest: 32.7138720 (224)\ttotal: 301ms\tremaining: 299ms\n",
      "251:\tlearn: 16.5452131\ttest: 32.9261285\tbest: 32.7138720 (224)\ttotal: 302ms\tremaining: 297ms\n",
      "252:\tlearn: 16.5270419\ttest: 32.8840635\tbest: 32.7138720 (224)\ttotal: 303ms\tremaining: 296ms\n",
      "253:\tlearn: 16.5131790\ttest: 32.8784434\tbest: 32.7138720 (224)\ttotal: 304ms\tremaining: 294ms\n",
      "254:\tlearn: 16.5007822\ttest: 32.8826831\tbest: 32.7138720 (224)\ttotal: 305ms\tremaining: 293ms\n",
      "255:\tlearn: 16.4799744\ttest: 32.8715298\tbest: 32.7138720 (224)\ttotal: 306ms\tremaining: 291ms\n",
      "256:\tlearn: 16.4687739\ttest: 32.8659843\tbest: 32.7138720 (224)\ttotal: 307ms\tremaining: 290ms\n",
      "257:\tlearn: 16.4589196\ttest: 32.8601753\tbest: 32.7138720 (224)\ttotal: 308ms\tremaining: 289ms\n",
      "258:\tlearn: 16.4470925\ttest: 32.8576716\tbest: 32.7138720 (224)\ttotal: 309ms\tremaining: 287ms\n",
      "259:\tlearn: 16.4371499\ttest: 32.8544423\tbest: 32.7138720 (224)\ttotal: 309ms\tremaining: 286ms\n",
      "260:\tlearn: 16.4259563\ttest: 32.8535612\tbest: 32.7138720 (224)\ttotal: 310ms\tremaining: 284ms\n",
      "261:\tlearn: 16.4149258\ttest: 32.8586383\tbest: 32.7138720 (224)\ttotal: 311ms\tremaining: 283ms\n",
      "262:\tlearn: 16.3958754\ttest: 32.8336720\tbest: 32.7138720 (224)\ttotal: 312ms\tremaining: 281ms\n",
      "263:\tlearn: 16.3851559\ttest: 32.7903217\tbest: 32.7138720 (224)\ttotal: 313ms\tremaining: 280ms\n",
      "264:\tlearn: 16.3809137\ttest: 32.7929119\tbest: 32.7138720 (224)\ttotal: 314ms\tremaining: 278ms\n",
      "265:\tlearn: 16.3673036\ttest: 32.8047528\tbest: 32.7138720 (224)\ttotal: 315ms\tremaining: 277ms\n",
      "266:\tlearn: 16.3555518\ttest: 32.8121569\tbest: 32.7138720 (224)\ttotal: 316ms\tremaining: 276ms\n",
      "267:\tlearn: 16.3450437\ttest: 32.7901518\tbest: 32.7138720 (224)\ttotal: 317ms\tremaining: 274ms\n",
      "268:\tlearn: 16.3403831\ttest: 32.8017804\tbest: 32.7138720 (224)\ttotal: 318ms\tremaining: 273ms\n",
      "269:\tlearn: 16.3319086\ttest: 32.6804100\tbest: 32.6804100 (269)\ttotal: 319ms\tremaining: 271ms\n",
      "270:\tlearn: 16.3168780\ttest: 32.6845639\tbest: 32.6804100 (269)\ttotal: 320ms\tremaining: 270ms\n",
      "271:\tlearn: 16.2977691\ttest: 32.6644766\tbest: 32.6644766 (271)\ttotal: 321ms\tremaining: 269ms\n",
      "272:\tlearn: 16.2904192\ttest: 32.6457412\tbest: 32.6457412 (272)\ttotal: 321ms\tremaining: 267ms\n",
      "273:\tlearn: 16.2838384\ttest: 32.6571314\tbest: 32.6457412 (272)\ttotal: 322ms\tremaining: 266ms\n",
      "274:\tlearn: 16.2594955\ttest: 32.6181705\tbest: 32.6181705 (274)\ttotal: 323ms\tremaining: 265ms\n",
      "275:\tlearn: 16.2430300\ttest: 32.6123238\tbest: 32.6123238 (275)\ttotal: 324ms\tremaining: 263ms\n",
      "276:\tlearn: 16.2259112\ttest: 32.6035019\tbest: 32.6035019 (276)\ttotal: 325ms\tremaining: 262ms\n",
      "277:\tlearn: 16.2168191\ttest: 32.6036759\tbest: 32.6035019 (276)\ttotal: 326ms\tremaining: 260ms\n",
      "278:\tlearn: 16.2039126\ttest: 32.6051918\tbest: 32.6035019 (276)\ttotal: 327ms\tremaining: 259ms\n",
      "279:\tlearn: 16.1809398\ttest: 32.5842664\tbest: 32.5842664 (279)\ttotal: 328ms\tremaining: 258ms\n",
      "280:\tlearn: 16.1689527\ttest: 32.6176352\tbest: 32.5842664 (279)\ttotal: 330ms\tremaining: 257ms\n",
      "281:\tlearn: 16.1517385\ttest: 32.6122093\tbest: 32.5842664 (279)\ttotal: 331ms\tremaining: 256ms\n",
      "282:\tlearn: 16.1404809\ttest: 32.6073806\tbest: 32.5842664 (279)\ttotal: 332ms\tremaining: 254ms\n",
      "283:\tlearn: 16.1324183\ttest: 32.5800854\tbest: 32.5800854 (283)\ttotal: 332ms\tremaining: 253ms\n",
      "284:\tlearn: 16.1216300\ttest: 32.5862974\tbest: 32.5800854 (283)\ttotal: 333ms\tremaining: 251ms\n",
      "285:\tlearn: 16.1136922\ttest: 32.5866496\tbest: 32.5800854 (283)\ttotal: 334ms\tremaining: 250ms\n",
      "286:\tlearn: 16.1099067\ttest: 32.5989141\tbest: 32.5800854 (283)\ttotal: 335ms\tremaining: 249ms\n",
      "287:\tlearn: 16.0948841\ttest: 32.5810580\tbest: 32.5800854 (283)\ttotal: 336ms\tremaining: 247ms\n",
      "288:\tlearn: 16.0833754\ttest: 32.5944783\tbest: 32.5800854 (283)\ttotal: 337ms\tremaining: 246ms\n",
      "289:\tlearn: 16.0723536\ttest: 32.5420686\tbest: 32.5420686 (289)\ttotal: 338ms\tremaining: 245ms\n",
      "290:\tlearn: 16.0592234\ttest: 32.4919357\tbest: 32.4919357 (290)\ttotal: 339ms\tremaining: 244ms\n",
      "291:\tlearn: 16.0440514\ttest: 32.4545058\tbest: 32.4545058 (291)\ttotal: 340ms\tremaining: 242ms\n",
      "292:\tlearn: 16.0323305\ttest: 32.4836125\tbest: 32.4545058 (291)\ttotal: 341ms\tremaining: 241ms\n",
      "293:\tlearn: 16.0196356\ttest: 32.4809549\tbest: 32.4545058 (291)\ttotal: 342ms\tremaining: 240ms\n",
      "294:\tlearn: 16.0126085\ttest: 32.4962952\tbest: 32.4545058 (291)\ttotal: 343ms\tremaining: 239ms\n",
      "295:\tlearn: 16.0022703\ttest: 32.4951771\tbest: 32.4545058 (291)\ttotal: 344ms\tremaining: 237ms\n",
      "296:\tlearn: 15.9891773\ttest: 32.4981572\tbest: 32.4545058 (291)\ttotal: 345ms\tremaining: 236ms\n",
      "297:\tlearn: 15.9752125\ttest: 32.4912010\tbest: 32.4545058 (291)\ttotal: 346ms\tremaining: 235ms\n",
      "298:\tlearn: 15.9628385\ttest: 32.4841457\tbest: 32.4545058 (291)\ttotal: 347ms\tremaining: 233ms\n",
      "299:\tlearn: 15.9388163\ttest: 32.4814128\tbest: 32.4545058 (291)\ttotal: 349ms\tremaining: 232ms\n",
      "300:\tlearn: 15.9266854\ttest: 32.4781520\tbest: 32.4545058 (291)\ttotal: 350ms\tremaining: 231ms\n",
      "301:\tlearn: 15.9158597\ttest: 32.4737194\tbest: 32.4545058 (291)\ttotal: 351ms\tremaining: 230ms\n",
      "302:\tlearn: 15.9065761\ttest: 32.4754084\tbest: 32.4545058 (291)\ttotal: 351ms\tremaining: 228ms\n",
      "303:\tlearn: 15.8970159\ttest: 32.4736767\tbest: 32.4545058 (291)\ttotal: 352ms\tremaining: 227ms\n",
      "304:\tlearn: 15.8791922\ttest: 32.4803856\tbest: 32.4545058 (291)\ttotal: 353ms\tremaining: 226ms\n",
      "305:\tlearn: 15.8683631\ttest: 32.4716370\tbest: 32.4545058 (291)\ttotal: 354ms\tremaining: 225ms\n",
      "306:\tlearn: 15.8525746\ttest: 32.4628344\tbest: 32.4545058 (291)\ttotal: 355ms\tremaining: 223ms\n",
      "307:\tlearn: 15.8357713\ttest: 32.4236458\tbest: 32.4236458 (307)\ttotal: 356ms\tremaining: 222ms\n",
      "308:\tlearn: 15.8240901\ttest: 32.4386597\tbest: 32.4236458 (307)\ttotal: 357ms\tremaining: 221ms\n",
      "309:\tlearn: 15.8134662\ttest: 32.4439440\tbest: 32.4236458 (307)\ttotal: 358ms\tremaining: 219ms\n",
      "310:\tlearn: 15.8076643\ttest: 32.4558664\tbest: 32.4236458 (307)\ttotal: 359ms\tremaining: 218ms\n",
      "311:\tlearn: 15.7930060\ttest: 32.4270134\tbest: 32.4236458 (307)\ttotal: 360ms\tremaining: 217ms\n",
      "312:\tlearn: 15.7777093\ttest: 32.4245099\tbest: 32.4236458 (307)\ttotal: 361ms\tremaining: 215ms\n",
      "313:\tlearn: 15.7629864\ttest: 32.4316020\tbest: 32.4236458 (307)\ttotal: 362ms\tremaining: 214ms\n",
      "314:\tlearn: 15.7471931\ttest: 32.4485257\tbest: 32.4236458 (307)\ttotal: 363ms\tremaining: 213ms\n",
      "315:\tlearn: 15.7311713\ttest: 32.4184760\tbest: 32.4184760 (315)\ttotal: 364ms\tremaining: 212ms\n",
      "316:\tlearn: 15.7145030\ttest: 32.4345935\tbest: 32.4184760 (315)\ttotal: 364ms\tremaining: 210ms\n",
      "317:\tlearn: 15.7056834\ttest: 32.4324121\tbest: 32.4184760 (315)\ttotal: 365ms\tremaining: 209ms\n",
      "318:\tlearn: 15.6862080\ttest: 32.4627396\tbest: 32.4184760 (315)\ttotal: 366ms\tremaining: 208ms\n",
      "319:\tlearn: 15.6810651\ttest: 32.4851975\tbest: 32.4184760 (315)\ttotal: 368ms\tremaining: 207ms\n",
      "320:\tlearn: 15.6764626\ttest: 32.4900880\tbest: 32.4184760 (315)\ttotal: 369ms\tremaining: 206ms\n",
      "321:\tlearn: 15.6577667\ttest: 32.4577022\tbest: 32.4184760 (315)\ttotal: 370ms\tremaining: 204ms\n",
      "322:\tlearn: 15.6541376\ttest: 32.4465456\tbest: 32.4184760 (315)\ttotal: 370ms\tremaining: 203ms\n",
      "323:\tlearn: 15.6379910\ttest: 32.4461818\tbest: 32.4184760 (315)\ttotal: 371ms\tremaining: 202ms\n",
      "324:\tlearn: 15.6288699\ttest: 32.4555986\tbest: 32.4184760 (315)\ttotal: 372ms\tremaining: 200ms\n",
      "325:\tlearn: 15.6159772\ttest: 32.4658387\tbest: 32.4184760 (315)\ttotal: 373ms\tremaining: 199ms\n",
      "326:\tlearn: 15.6104523\ttest: 32.4594054\tbest: 32.4184760 (315)\ttotal: 374ms\tremaining: 198ms\n",
      "327:\tlearn: 15.5962280\ttest: 32.4602903\tbest: 32.4184760 (315)\ttotal: 375ms\tremaining: 197ms\n",
      "328:\tlearn: 15.5786293\ttest: 32.4575138\tbest: 32.4184760 (315)\ttotal: 376ms\tremaining: 195ms\n",
      "329:\tlearn: 15.5663671\ttest: 32.4427883\tbest: 32.4184760 (315)\ttotal: 377ms\tremaining: 194ms\n",
      "330:\tlearn: 15.5593818\ttest: 32.4411938\tbest: 32.4184760 (315)\ttotal: 378ms\tremaining: 193ms\n",
      "331:\tlearn: 15.5542605\ttest: 32.4349901\tbest: 32.4184760 (315)\ttotal: 379ms\tremaining: 192ms\n",
      "332:\tlearn: 15.5461066\ttest: 32.4677556\tbest: 32.4184760 (315)\ttotal: 380ms\tremaining: 191ms\n",
      "333:\tlearn: 15.5313355\ttest: 32.4625007\tbest: 32.4184760 (315)\ttotal: 382ms\tremaining: 190ms\n",
      "334:\tlearn: 15.5180644\ttest: 32.4367162\tbest: 32.4184760 (315)\ttotal: 383ms\tremaining: 188ms\n",
      "335:\tlearn: 15.5027510\ttest: 32.4754791\tbest: 32.4184760 (315)\ttotal: 383ms\tremaining: 187ms\n",
      "336:\tlearn: 15.4964046\ttest: 32.4793034\tbest: 32.4184760 (315)\ttotal: 384ms\tremaining: 186ms\n",
      "337:\tlearn: 15.4863152\ttest: 32.4765736\tbest: 32.4184760 (315)\ttotal: 385ms\tremaining: 185ms\n",
      "338:\tlearn: 15.4743947\ttest: 32.4842963\tbest: 32.4184760 (315)\ttotal: 386ms\tremaining: 183ms\n",
      "339:\tlearn: 15.4664925\ttest: 32.4987976\tbest: 32.4184760 (315)\ttotal: 387ms\tremaining: 182ms\n",
      "340:\tlearn: 15.4533645\ttest: 32.4950317\tbest: 32.4184760 (315)\ttotal: 388ms\tremaining: 181ms\n",
      "341:\tlearn: 15.4442031\ttest: 32.5153002\tbest: 32.4184760 (315)\ttotal: 389ms\tremaining: 180ms\n",
      "342:\tlearn: 15.4272308\ttest: 32.4983820\tbest: 32.4184760 (315)\ttotal: 390ms\tremaining: 179ms\n",
      "343:\tlearn: 15.4132510\ttest: 32.4938678\tbest: 32.4184760 (315)\ttotal: 391ms\tremaining: 177ms\n",
      "344:\tlearn: 15.4071947\ttest: 32.5219878\tbest: 32.4184760 (315)\ttotal: 393ms\tremaining: 176ms\n",
      "345:\tlearn: 15.3958859\ttest: 32.5850618\tbest: 32.4184760 (315)\ttotal: 394ms\tremaining: 175ms\n",
      "346:\tlearn: 15.3811606\ttest: 32.5799041\tbest: 32.4184760 (315)\ttotal: 395ms\tremaining: 174ms\n",
      "347:\tlearn: 15.3597480\ttest: 32.5893400\tbest: 32.4184760 (315)\ttotal: 396ms\tremaining: 173ms\n",
      "348:\tlearn: 15.3475902\ttest: 32.5856922\tbest: 32.4184760 (315)\ttotal: 397ms\tremaining: 172ms\n",
      "349:\tlearn: 15.3354759\ttest: 32.5775778\tbest: 32.4184760 (315)\ttotal: 398ms\tremaining: 171ms\n",
      "350:\tlearn: 15.3284348\ttest: 32.5775529\tbest: 32.4184760 (315)\ttotal: 399ms\tremaining: 169ms\n",
      "351:\tlearn: 15.3213866\ttest: 32.5764818\tbest: 32.4184760 (315)\ttotal: 400ms\tremaining: 168ms\n",
      "352:\tlearn: 15.3125319\ttest: 32.5789957\tbest: 32.4184760 (315)\ttotal: 402ms\tremaining: 167ms\n",
      "353:\tlearn: 15.3003210\ttest: 32.5787046\tbest: 32.4184760 (315)\ttotal: 403ms\tremaining: 166ms\n",
      "354:\tlearn: 15.2857868\ttest: 32.5619169\tbest: 32.4184760 (315)\ttotal: 403ms\tremaining: 165ms\n",
      "355:\tlearn: 15.2792536\ttest: 32.5697906\tbest: 32.4184760 (315)\ttotal: 404ms\tremaining: 164ms\n",
      "356:\tlearn: 15.2689303\ttest: 32.5997472\tbest: 32.4184760 (315)\ttotal: 405ms\tremaining: 162ms\n",
      "357:\tlearn: 15.2558671\ttest: 32.5692747\tbest: 32.4184760 (315)\ttotal: 406ms\tremaining: 161ms\n",
      "358:\tlearn: 15.2452095\ttest: 32.5799625\tbest: 32.4184760 (315)\ttotal: 407ms\tremaining: 160ms\n",
      "359:\tlearn: 15.2313817\ttest: 32.5948126\tbest: 32.4184760 (315)\ttotal: 408ms\tremaining: 159ms\n",
      "360:\tlearn: 15.2208240\ttest: 32.6028693\tbest: 32.4184760 (315)\ttotal: 409ms\tremaining: 157ms\n",
      "361:\tlearn: 15.2073194\ttest: 32.6388043\tbest: 32.4184760 (315)\ttotal: 410ms\tremaining: 156ms\n",
      "362:\tlearn: 15.1965517\ttest: 32.6519449\tbest: 32.4184760 (315)\ttotal: 411ms\tremaining: 155ms\n",
      "363:\tlearn: 15.1865740\ttest: 32.6294253\tbest: 32.4184760 (315)\ttotal: 412ms\tremaining: 154ms\n",
      "364:\tlearn: 15.1759287\ttest: 32.6350960\tbest: 32.4184760 (315)\ttotal: 413ms\tremaining: 153ms\n",
      "365:\tlearn: 15.1671168\ttest: 32.5863754\tbest: 32.4184760 (315)\ttotal: 414ms\tremaining: 151ms\n",
      "366:\tlearn: 15.1565835\ttest: 32.5729967\tbest: 32.4184760 (315)\ttotal: 415ms\tremaining: 150ms\n",
      "367:\tlearn: 15.1488609\ttest: 32.6005766\tbest: 32.4184760 (315)\ttotal: 416ms\tremaining: 149ms\n",
      "368:\tlearn: 15.1404106\ttest: 32.6097719\tbest: 32.4184760 (315)\ttotal: 417ms\tremaining: 148ms\n",
      "369:\tlearn: 15.1354222\ttest: 32.6202409\tbest: 32.4184760 (315)\ttotal: 417ms\tremaining: 147ms\n",
      "370:\tlearn: 15.1222504\ttest: 32.6235444\tbest: 32.4184760 (315)\ttotal: 418ms\tremaining: 145ms\n",
      "371:\tlearn: 15.1158929\ttest: 32.6096864\tbest: 32.4184760 (315)\ttotal: 419ms\tremaining: 144ms\n",
      "372:\tlearn: 15.1094394\ttest: 32.6020001\tbest: 32.4184760 (315)\ttotal: 420ms\tremaining: 143ms\n",
      "373:\tlearn: 15.1028344\ttest: 32.6026278\tbest: 32.4184760 (315)\ttotal: 421ms\tremaining: 142ms\n",
      "374:\tlearn: 15.0908971\ttest: 32.6358945\tbest: 32.4184760 (315)\ttotal: 422ms\tremaining: 141ms\n",
      "375:\tlearn: 15.0835410\ttest: 32.6329972\tbest: 32.4184760 (315)\ttotal: 423ms\tremaining: 139ms\n",
      "376:\tlearn: 15.0655670\ttest: 32.6192942\tbest: 32.4184760 (315)\ttotal: 424ms\tremaining: 138ms\n",
      "377:\tlearn: 15.0535342\ttest: 32.5909762\tbest: 32.4184760 (315)\ttotal: 425ms\tremaining: 137ms\n",
      "378:\tlearn: 15.0472282\ttest: 32.5995358\tbest: 32.4184760 (315)\ttotal: 426ms\tremaining: 136ms\n",
      "379:\tlearn: 15.0360391\ttest: 32.5920142\tbest: 32.4184760 (315)\ttotal: 426ms\tremaining: 135ms\n",
      "380:\tlearn: 15.0281348\ttest: 32.5701386\tbest: 32.4184760 (315)\ttotal: 427ms\tremaining: 133ms\n",
      "381:\tlearn: 15.0178201\ttest: 32.5634302\tbest: 32.4184760 (315)\ttotal: 428ms\tremaining: 132ms\n",
      "382:\tlearn: 15.0067580\ttest: 32.6004775\tbest: 32.4184760 (315)\ttotal: 430ms\tremaining: 131ms\n",
      "383:\tlearn: 14.9998234\ttest: 32.6220368\tbest: 32.4184760 (315)\ttotal: 431ms\tremaining: 130ms\n",
      "384:\tlearn: 14.9942067\ttest: 32.6302028\tbest: 32.4184760 (315)\ttotal: 432ms\tremaining: 129ms\n",
      "385:\tlearn: 14.9846038\ttest: 32.6336624\tbest: 32.4184760 (315)\ttotal: 433ms\tremaining: 128ms\n",
      "386:\tlearn: 14.9655607\ttest: 32.6154570\tbest: 32.4184760 (315)\ttotal: 434ms\tremaining: 127ms\n",
      "387:\tlearn: 14.9498380\ttest: 32.5847467\tbest: 32.4184760 (315)\ttotal: 435ms\tremaining: 126ms\n",
      "388:\tlearn: 14.9391133\ttest: 32.6076295\tbest: 32.4184760 (315)\ttotal: 436ms\tremaining: 125ms\n",
      "389:\tlearn: 14.9356485\ttest: 32.5993429\tbest: 32.4184760 (315)\ttotal: 437ms\tremaining: 123ms\n",
      "390:\tlearn: 14.9254703\ttest: 32.6002112\tbest: 32.4184760 (315)\ttotal: 438ms\tremaining: 122ms\n",
      "391:\tlearn: 14.9191501\ttest: 32.6015098\tbest: 32.4184760 (315)\ttotal: 439ms\tremaining: 121ms\n",
      "392:\tlearn: 14.9065938\ttest: 32.6015383\tbest: 32.4184760 (315)\ttotal: 440ms\tremaining: 120ms\n",
      "393:\tlearn: 14.8985132\ttest: 32.5837670\tbest: 32.4184760 (315)\ttotal: 441ms\tremaining: 119ms\n",
      "394:\tlearn: 14.8857850\ttest: 32.5948488\tbest: 32.4184760 (315)\ttotal: 442ms\tremaining: 118ms\n",
      "395:\tlearn: 14.8765118\ttest: 32.5960524\tbest: 32.4184760 (315)\ttotal: 443ms\tremaining: 116ms\n",
      "396:\tlearn: 14.8683641\ttest: 32.5829442\tbest: 32.4184760 (315)\ttotal: 444ms\tremaining: 115ms\n",
      "397:\tlearn: 14.8566012\ttest: 32.6043694\tbest: 32.4184760 (315)\ttotal: 445ms\tremaining: 114ms\n",
      "398:\tlearn: 14.8526155\ttest: 32.6313487\tbest: 32.4184760 (315)\ttotal: 446ms\tremaining: 113ms\n",
      "399:\tlearn: 14.8385076\ttest: 32.6192608\tbest: 32.4184760 (315)\ttotal: 447ms\tremaining: 112ms\n",
      "400:\tlearn: 14.8332253\ttest: 32.6531726\tbest: 32.4184760 (315)\ttotal: 448ms\tremaining: 111ms\n",
      "401:\tlearn: 14.8155804\ttest: 32.6690192\tbest: 32.4184760 (315)\ttotal: 449ms\tremaining: 110ms\n",
      "402:\tlearn: 14.8093995\ttest: 32.6808504\tbest: 32.4184760 (315)\ttotal: 451ms\tremaining: 108ms\n",
      "403:\tlearn: 14.8010877\ttest: 32.6786019\tbest: 32.4184760 (315)\ttotal: 451ms\tremaining: 107ms\n",
      "404:\tlearn: 14.7926777\ttest: 32.6805949\tbest: 32.4184760 (315)\ttotal: 452ms\tremaining: 106ms\n",
      "405:\tlearn: 14.7890586\ttest: 32.6840980\tbest: 32.4184760 (315)\ttotal: 453ms\tremaining: 105ms\n",
      "406:\tlearn: 14.7819954\ttest: 32.6714753\tbest: 32.4184760 (315)\ttotal: 454ms\tremaining: 104ms\n",
      "407:\tlearn: 14.7677999\ttest: 32.6891028\tbest: 32.4184760 (315)\ttotal: 455ms\tremaining: 103ms\n",
      "408:\tlearn: 14.7553741\ttest: 32.6858770\tbest: 32.4184760 (315)\ttotal: 456ms\tremaining: 101ms\n",
      "409:\tlearn: 14.7459700\ttest: 32.6873261\tbest: 32.4184760 (315)\ttotal: 457ms\tremaining: 100ms\n",
      "410:\tlearn: 14.7387948\ttest: 32.6763083\tbest: 32.4184760 (315)\ttotal: 458ms\tremaining: 99.2ms\n",
      "411:\tlearn: 14.7297870\ttest: 32.6882318\tbest: 32.4184760 (315)\ttotal: 459ms\tremaining: 98.1ms\n",
      "412:\tlearn: 14.7280600\ttest: 32.6893084\tbest: 32.4184760 (315)\ttotal: 460ms\tremaining: 96.9ms\n",
      "413:\tlearn: 14.7148220\ttest: 32.6853332\tbest: 32.4184760 (315)\ttotal: 461ms\tremaining: 95.8ms\n",
      "414:\tlearn: 14.7107992\ttest: 32.6900639\tbest: 32.4184760 (315)\ttotal: 462ms\tremaining: 94.6ms\n",
      "415:\tlearn: 14.6883295\ttest: 32.6830038\tbest: 32.4184760 (315)\ttotal: 463ms\tremaining: 93.5ms\n",
      "416:\tlearn: 14.6809556\ttest: 32.6347119\tbest: 32.4184760 (315)\ttotal: 464ms\tremaining: 92.3ms\n",
      "417:\tlearn: 14.6707500\ttest: 32.5984123\tbest: 32.4184760 (315)\ttotal: 465ms\tremaining: 91.2ms\n",
      "418:\tlearn: 14.6597512\ttest: 32.6002807\tbest: 32.4184760 (315)\ttotal: 466ms\tremaining: 90ms\n",
      "419:\tlearn: 14.6480478\ttest: 32.5873324\tbest: 32.4184760 (315)\ttotal: 467ms\tremaining: 88.9ms\n",
      "420:\tlearn: 14.6409658\ttest: 32.5786543\tbest: 32.4184760 (315)\ttotal: 468ms\tremaining: 87.7ms\n",
      "421:\tlearn: 14.6313570\ttest: 32.6096775\tbest: 32.4184760 (315)\ttotal: 469ms\tremaining: 86.6ms\n",
      "422:\tlearn: 14.6201425\ttest: 32.6199104\tbest: 32.4184760 (315)\ttotal: 470ms\tremaining: 85.5ms\n",
      "423:\tlearn: 14.6128472\ttest: 32.6191047\tbest: 32.4184760 (315)\ttotal: 471ms\tremaining: 84.4ms\n",
      "424:\tlearn: 14.5982843\ttest: 32.6136582\tbest: 32.4184760 (315)\ttotal: 472ms\tremaining: 83.2ms\n",
      "425:\tlearn: 14.5866478\ttest: 32.6319646\tbest: 32.4184760 (315)\ttotal: 473ms\tremaining: 82.1ms\n",
      "426:\tlearn: 14.5845660\ttest: 32.6195772\tbest: 32.4184760 (315)\ttotal: 474ms\tremaining: 81ms\n",
      "427:\tlearn: 14.5778977\ttest: 32.6383951\tbest: 32.4184760 (315)\ttotal: 475ms\tremaining: 79.8ms\n",
      "428:\tlearn: 14.5737950\ttest: 32.6323856\tbest: 32.4184760 (315)\ttotal: 476ms\tremaining: 78.7ms\n",
      "429:\tlearn: 14.5588968\ttest: 32.6311329\tbest: 32.4184760 (315)\ttotal: 477ms\tremaining: 77.6ms\n",
      "430:\tlearn: 14.5466130\ttest: 32.6243147\tbest: 32.4184760 (315)\ttotal: 478ms\tremaining: 76.5ms\n",
      "431:\tlearn: 14.5357994\ttest: 32.6242390\tbest: 32.4184760 (315)\ttotal: 478ms\tremaining: 75.3ms\n",
      "432:\tlearn: 14.5234246\ttest: 32.6134844\tbest: 32.4184760 (315)\ttotal: 479ms\tremaining: 74.2ms\n",
      "433:\tlearn: 14.5136333\ttest: 32.6400346\tbest: 32.4184760 (315)\ttotal: 480ms\tremaining: 73ms\n",
      "434:\tlearn: 14.5041006\ttest: 32.6377968\tbest: 32.4184760 (315)\ttotal: 482ms\tremaining: 72ms\n",
      "435:\tlearn: 14.4938994\ttest: 32.6386818\tbest: 32.4184760 (315)\ttotal: 483ms\tremaining: 70.8ms\n",
      "436:\tlearn: 14.4813830\ttest: 32.6364714\tbest: 32.4184760 (315)\ttotal: 483ms\tremaining: 69.7ms\n",
      "437:\tlearn: 14.4742531\ttest: 32.6083423\tbest: 32.4184760 (315)\ttotal: 484ms\tremaining: 68.6ms\n",
      "438:\tlearn: 14.4627220\ttest: 32.5985228\tbest: 32.4184760 (315)\ttotal: 485ms\tremaining: 67.5ms\n",
      "439:\tlearn: 14.4538974\ttest: 32.5963876\tbest: 32.4184760 (315)\ttotal: 486ms\tremaining: 66.3ms\n",
      "440:\tlearn: 14.4427507\ttest: 32.5788791\tbest: 32.4184760 (315)\ttotal: 487ms\tremaining: 65.2ms\n",
      "441:\tlearn: 14.4311535\ttest: 32.6116201\tbest: 32.4184760 (315)\ttotal: 488ms\tremaining: 64ms\n",
      "442:\tlearn: 14.4200245\ttest: 32.6082605\tbest: 32.4184760 (315)\ttotal: 489ms\tremaining: 62.9ms\n",
      "443:\tlearn: 14.4078177\ttest: 32.5834618\tbest: 32.4184760 (315)\ttotal: 490ms\tremaining: 61.8ms\n",
      "444:\tlearn: 14.3989056\ttest: 32.5926689\tbest: 32.4184760 (315)\ttotal: 491ms\tremaining: 60.7ms\n",
      "445:\tlearn: 14.3933312\ttest: 32.6008184\tbest: 32.4184760 (315)\ttotal: 492ms\tremaining: 59.5ms\n",
      "446:\tlearn: 14.3828812\ttest: 32.5984806\tbest: 32.4184760 (315)\ttotal: 493ms\tremaining: 58.4ms\n",
      "447:\tlearn: 14.3749245\ttest: 32.5967863\tbest: 32.4184760 (315)\ttotal: 494ms\tremaining: 57.3ms\n",
      "448:\tlearn: 14.3661405\ttest: 32.5898326\tbest: 32.4184760 (315)\ttotal: 494ms\tremaining: 56.2ms\n",
      "449:\tlearn: 14.3584107\ttest: 32.5896138\tbest: 32.4184760 (315)\ttotal: 496ms\tremaining: 55.1ms\n",
      "450:\tlearn: 14.3550867\ttest: 32.5972702\tbest: 32.4184760 (315)\ttotal: 497ms\tremaining: 54ms\n",
      "451:\tlearn: 14.3404982\ttest: 32.5972809\tbest: 32.4184760 (315)\ttotal: 499ms\tremaining: 52.9ms\n",
      "452:\tlearn: 14.3357963\ttest: 32.6016088\tbest: 32.4184760 (315)\ttotal: 500ms\tremaining: 51.9ms\n",
      "453:\tlearn: 14.3301731\ttest: 32.5962541\tbest: 32.4184760 (315)\ttotal: 501ms\tremaining: 50.7ms\n",
      "454:\tlearn: 14.3177367\ttest: 32.5863274\tbest: 32.4184760 (315)\ttotal: 502ms\tremaining: 49.6ms\n",
      "455:\tlearn: 14.3150710\ttest: 32.5965213\tbest: 32.4184760 (315)\ttotal: 503ms\tremaining: 48.5ms\n",
      "456:\tlearn: 14.3055248\ttest: 32.5925569\tbest: 32.4184760 (315)\ttotal: 504ms\tremaining: 47.4ms\n",
      "457:\tlearn: 14.2948445\ttest: 32.5920163\tbest: 32.4184760 (315)\ttotal: 505ms\tremaining: 46.3ms\n",
      "458:\tlearn: 14.2834583\ttest: 32.5820979\tbest: 32.4184760 (315)\ttotal: 506ms\tremaining: 45.2ms\n",
      "459:\tlearn: 14.2671736\ttest: 32.5722641\tbest: 32.4184760 (315)\ttotal: 507ms\tremaining: 44.1ms\n",
      "460:\tlearn: 14.2599613\ttest: 32.5699318\tbest: 32.4184760 (315)\ttotal: 507ms\tremaining: 42.9ms\n",
      "461:\tlearn: 14.2481963\ttest: 32.5795781\tbest: 32.4184760 (315)\ttotal: 508ms\tremaining: 41.8ms\n",
      "462:\tlearn: 14.2458421\ttest: 32.5695459\tbest: 32.4184760 (315)\ttotal: 509ms\tremaining: 40.7ms\n",
      "463:\tlearn: 14.2291818\ttest: 32.5695484\tbest: 32.4184760 (315)\ttotal: 510ms\tremaining: 39.6ms\n",
      "464:\tlearn: 14.2234038\ttest: 32.5663298\tbest: 32.4184760 (315)\ttotal: 511ms\tremaining: 38.5ms\n",
      "465:\tlearn: 14.2153314\ttest: 32.5654339\tbest: 32.4184760 (315)\ttotal: 512ms\tremaining: 37.4ms\n",
      "466:\tlearn: 14.2039118\ttest: 32.5617952\tbest: 32.4184760 (315)\ttotal: 513ms\tremaining: 36.3ms\n",
      "467:\tlearn: 14.1931857\ttest: 32.5679460\tbest: 32.4184760 (315)\ttotal: 514ms\tremaining: 35.2ms\n",
      "468:\tlearn: 14.1820980\ttest: 32.5676148\tbest: 32.4184760 (315)\ttotal: 515ms\tremaining: 34ms\n",
      "469:\tlearn: 14.1765044\ttest: 32.5750369\tbest: 32.4184760 (315)\ttotal: 516ms\tremaining: 32.9ms\n",
      "470:\tlearn: 14.1739910\ttest: 32.5746768\tbest: 32.4184760 (315)\ttotal: 517ms\tremaining: 31.8ms\n",
      "471:\tlearn: 14.1662999\ttest: 32.5650578\tbest: 32.4184760 (315)\ttotal: 518ms\tremaining: 30.7ms\n",
      "472:\tlearn: 14.1558792\ttest: 32.5583320\tbest: 32.4184760 (315)\ttotal: 519ms\tremaining: 29.6ms\n",
      "473:\tlearn: 14.1490403\ttest: 32.5588522\tbest: 32.4184760 (315)\ttotal: 520ms\tremaining: 28.5ms\n",
      "474:\tlearn: 14.1415586\ttest: 32.5984494\tbest: 32.4184760 (315)\ttotal: 521ms\tremaining: 27.4ms\n",
      "475:\tlearn: 14.1340222\ttest: 32.5849925\tbest: 32.4184760 (315)\ttotal: 522ms\tremaining: 26.3ms\n",
      "476:\tlearn: 14.1261317\ttest: 32.5893342\tbest: 32.4184760 (315)\ttotal: 523ms\tremaining: 25.2ms\n",
      "477:\tlearn: 14.1204356\ttest: 32.5825597\tbest: 32.4184760 (315)\ttotal: 524ms\tremaining: 24.1ms\n",
      "478:\tlearn: 14.1119988\ttest: 32.5635594\tbest: 32.4184760 (315)\ttotal: 525ms\tremaining: 23ms\n",
      "479:\tlearn: 14.1044645\ttest: 32.5755599\tbest: 32.4184760 (315)\ttotal: 525ms\tremaining: 21.9ms\n",
      "480:\tlearn: 14.1017421\ttest: 32.5794775\tbest: 32.4184760 (315)\ttotal: 526ms\tremaining: 20.8ms\n",
      "481:\tlearn: 14.0957550\ttest: 32.5777472\tbest: 32.4184760 (315)\ttotal: 527ms\tremaining: 19.7ms\n",
      "482:\tlearn: 14.0940746\ttest: 32.5807818\tbest: 32.4184760 (315)\ttotal: 528ms\tremaining: 18.6ms\n",
      "483:\tlearn: 14.0829950\ttest: 32.5876505\tbest: 32.4184760 (315)\ttotal: 529ms\tremaining: 17.5ms\n",
      "484:\tlearn: 14.0757658\ttest: 32.5914518\tbest: 32.4184760 (315)\ttotal: 530ms\tremaining: 16.4ms\n",
      "485:\tlearn: 14.0686530\ttest: 32.5952621\tbest: 32.4184760 (315)\ttotal: 531ms\tremaining: 15.3ms\n",
      "486:\tlearn: 14.0593057\ttest: 32.5952672\tbest: 32.4184760 (315)\ttotal: 532ms\tremaining: 14.2ms\n",
      "487:\tlearn: 14.0483145\ttest: 32.5974824\tbest: 32.4184760 (315)\ttotal: 533ms\tremaining: 13.1ms\n",
      "488:\tlearn: 14.0375367\ttest: 32.6163198\tbest: 32.4184760 (315)\ttotal: 534ms\tremaining: 12ms\n",
      "489:\tlearn: 14.0319360\ttest: 32.6161263\tbest: 32.4184760 (315)\ttotal: 535ms\tremaining: 10.9ms\n",
      "490:\tlearn: 14.0239192\ttest: 32.6343810\tbest: 32.4184760 (315)\ttotal: 536ms\tremaining: 9.82ms\n",
      "491:\tlearn: 14.0169716\ttest: 32.6317783\tbest: 32.4184760 (315)\ttotal: 537ms\tremaining: 8.73ms\n",
      "492:\tlearn: 14.0086934\ttest: 32.6323719\tbest: 32.4184760 (315)\ttotal: 538ms\tremaining: 7.63ms\n",
      "493:\tlearn: 13.9957722\ttest: 32.6439172\tbest: 32.4184760 (315)\ttotal: 539ms\tremaining: 6.54ms\n",
      "494:\tlearn: 13.9850147\ttest: 32.6101721\tbest: 32.4184760 (315)\ttotal: 540ms\tremaining: 5.45ms\n",
      "495:\tlearn: 13.9759471\ttest: 32.6064480\tbest: 32.4184760 (315)\ttotal: 541ms\tremaining: 4.36ms\n",
      "496:\tlearn: 13.9677581\ttest: 32.6323954\tbest: 32.4184760 (315)\ttotal: 542ms\tremaining: 3.27ms\n",
      "497:\tlearn: 13.9603125\ttest: 32.6351207\tbest: 32.4184760 (315)\ttotal: 543ms\tremaining: 2.18ms\n",
      "498:\tlearn: 13.9541534\ttest: 32.6304804\tbest: 32.4184760 (315)\ttotal: 544ms\tremaining: 1.09ms\n",
      "499:\tlearn: 13.9522730\ttest: 32.6441128\tbest: 32.4184760 (315)\ttotal: 545ms\tremaining: 0us\n",
      "\n",
      "bestTest = 32.41847603\n",
      "bestIteration = 315\n",
      "\n",
      "Shrink model to first 316 iterations.\n",
      "CPU times: user 626 ms, sys: 85.3 ms, total: 712 ms\n",
      "Wall time: 1.22 s\n"
     ]
    },
    {
     "data": {
      "text/plain": [
       "<catboost.core.CatBoostRegressor at 0x7fa6d4233130>"
      ]
     },
     "execution_count": 25,
     "metadata": {},
     "output_type": "execute_result"
    }
   ],
   "source": [
    "%%time\n",
    "\n",
    "# cat boost\n",
    "\n",
    "cb = CatBoostRegressor(iterations = 500, random_state = 12345)\n",
    "\n",
    "cb.fit(features_train, target_train, eval_set=(features_valid, target_valid))"
   ]
  },
  {
   "cell_type": "code",
   "execution_count": 26,
   "metadata": {},
   "outputs": [
    {
     "name": "stdout",
     "output_type": "stream",
     "text": [
      "CPU times: user 2.48 ms, sys: 267 µs, total: 2.74 ms\n",
      "Wall time: 1.49 ms\n"
     ]
    }
   ],
   "source": [
    "%%time\n",
    "\n",
    "cb_pred = cb.predict(features_valid)"
   ]
  },
  {
   "cell_type": "code",
   "execution_count": 27,
   "metadata": {},
   "outputs": [
    {
     "data": {
      "text/plain": [
       "32.418476025902436"
      ]
     },
     "execution_count": 27,
     "metadata": {},
     "output_type": "execute_result"
    }
   ],
   "source": [
    "rmse(target_valid, cb_pred)"
   ]
  },
  {
   "cell_type": "code",
   "execution_count": 28,
   "metadata": {},
   "outputs": [
    {
     "name": "stdout",
     "output_type": "stream",
     "text": [
      "[1]\tvalid_0's l2: 3045.96\n",
      "[2]\tvalid_0's l2: 2789.84\n",
      "[3]\tvalid_0's l2: 2542.16\n",
      "[4]\tvalid_0's l2: 2330.25\n",
      "[5]\tvalid_0's l2: 2166.96\n",
      "[6]\tvalid_0's l2: 2016.15\n",
      "[7]\tvalid_0's l2: 1900.69\n",
      "[8]\tvalid_0's l2: 1807.64\n",
      "[9]\tvalid_0's l2: 1712.59\n",
      "[10]\tvalid_0's l2: 1642.49\n",
      "[11]\tvalid_0's l2: 1587.73\n",
      "[12]\tvalid_0's l2: 1521.1\n",
      "[13]\tvalid_0's l2: 1472.04\n",
      "[14]\tvalid_0's l2: 1429.66\n",
      "[15]\tvalid_0's l2: 1393.99\n",
      "[16]\tvalid_0's l2: 1358.83\n",
      "[17]\tvalid_0's l2: 1342.11\n",
      "[18]\tvalid_0's l2: 1315.62\n",
      "[19]\tvalid_0's l2: 1281.55\n",
      "[20]\tvalid_0's l2: 1250.87\n",
      "[21]\tvalid_0's l2: 1220.6\n",
      "[22]\tvalid_0's l2: 1202.6\n",
      "[23]\tvalid_0's l2: 1186.97\n",
      "[24]\tvalid_0's l2: 1178.51\n",
      "[25]\tvalid_0's l2: 1173.62\n",
      "[26]\tvalid_0's l2: 1151.77\n",
      "[27]\tvalid_0's l2: 1153.98\n",
      "[28]\tvalid_0's l2: 1146.1\n",
      "[29]\tvalid_0's l2: 1142.57\n",
      "[30]\tvalid_0's l2: 1131.32\n",
      "[31]\tvalid_0's l2: 1127.07\n",
      "[32]\tvalid_0's l2: 1115.38\n",
      "[33]\tvalid_0's l2: 1106.98\n",
      "[34]\tvalid_0's l2: 1103.91\n",
      "[35]\tvalid_0's l2: 1104.12\n",
      "[36]\tvalid_0's l2: 1097.55\n",
      "[37]\tvalid_0's l2: 1087.61\n",
      "[38]\tvalid_0's l2: 1085.9\n",
      "[39]\tvalid_0's l2: 1089.46\n",
      "[40]\tvalid_0's l2: 1080.13\n",
      "[41]\tvalid_0's l2: 1073.39\n",
      "[42]\tvalid_0's l2: 1075.41\n",
      "[43]\tvalid_0's l2: 1070.52\n",
      "[44]\tvalid_0's l2: 1070.48\n",
      "[45]\tvalid_0's l2: 1058.99\n",
      "[46]\tvalid_0's l2: 1051.83\n",
      "[47]\tvalid_0's l2: 1053.32\n",
      "[48]\tvalid_0's l2: 1046.88\n",
      "[49]\tvalid_0's l2: 1045.69\n",
      "[50]\tvalid_0's l2: 1048.41\n",
      "[51]\tvalid_0's l2: 1043.06\n",
      "[52]\tvalid_0's l2: 1040.14\n",
      "[53]\tvalid_0's l2: 1040.44\n",
      "[54]\tvalid_0's l2: 1038.72\n",
      "[55]\tvalid_0's l2: 1042.9\n",
      "[56]\tvalid_0's l2: 1044.91\n",
      "[57]\tvalid_0's l2: 1051.82\n",
      "[58]\tvalid_0's l2: 1051.87\n",
      "[59]\tvalid_0's l2: 1052.23\n",
      "[60]\tvalid_0's l2: 1051.17\n",
      "[61]\tvalid_0's l2: 1047.94\n",
      "[62]\tvalid_0's l2: 1044.87\n",
      "[63]\tvalid_0's l2: 1043.48\n",
      "[64]\tvalid_0's l2: 1046.05\n",
      "[65]\tvalid_0's l2: 1044.98\n",
      "[66]\tvalid_0's l2: 1044.07\n",
      "[67]\tvalid_0's l2: 1048.29\n",
      "[68]\tvalid_0's l2: 1046.8\n",
      "[69]\tvalid_0's l2: 1046.78\n",
      "[70]\tvalid_0's l2: 1047.62\n",
      "[71]\tvalid_0's l2: 1050.81\n",
      "[72]\tvalid_0's l2: 1051.79\n",
      "[73]\tvalid_0's l2: 1046.96\n",
      "[74]\tvalid_0's l2: 1048.42\n",
      "[75]\tvalid_0's l2: 1044.05\n",
      "[76]\tvalid_0's l2: 1047.65\n",
      "[77]\tvalid_0's l2: 1047.67\n",
      "[78]\tvalid_0's l2: 1046.71\n",
      "[79]\tvalid_0's l2: 1050.57\n",
      "[80]\tvalid_0's l2: 1045.31\n",
      "[81]\tvalid_0's l2: 1044.68\n",
      "[82]\tvalid_0's l2: 1045.53\n",
      "[83]\tvalid_0's l2: 1045.66\n",
      "[84]\tvalid_0's l2: 1046.87\n",
      "[85]\tvalid_0's l2: 1046.77\n",
      "[86]\tvalid_0's l2: 1043.66\n",
      "[87]\tvalid_0's l2: 1044.51\n",
      "[88]\tvalid_0's l2: 1043.42\n",
      "[89]\tvalid_0's l2: 1042.63\n",
      "[90]\tvalid_0's l2: 1044.34\n",
      "[91]\tvalid_0's l2: 1044.71\n",
      "[92]\tvalid_0's l2: 1041.55\n",
      "[93]\tvalid_0's l2: 1041.85\n",
      "[94]\tvalid_0's l2: 1043.31\n",
      "[95]\tvalid_0's l2: 1044.39\n",
      "[96]\tvalid_0's l2: 1045.67\n",
      "[97]\tvalid_0's l2: 1044.66\n",
      "[98]\tvalid_0's l2: 1044.67\n",
      "[99]\tvalid_0's l2: 1043.74\n",
      "[100]\tvalid_0's l2: 1045.1\n",
      "CPU times: user 13.8 s, sys: 149 ms, total: 14 s\n",
      "Wall time: 14 s\n"
     ]
    },
    {
     "data": {
      "text/plain": [
       "LGBMRegressor(random_state=12345)"
      ]
     },
     "execution_count": 28,
     "metadata": {},
     "output_type": "execute_result"
    }
   ],
   "source": [
    "%%time\n",
    "\n",
    "# lgbm\n",
    "\n",
    "lgbm = LGBMRegressor(random_state = 12345)\n",
    "lgbm.fit(features_train, target_train, eval_set=(features_valid, target_valid))"
   ]
  },
  {
   "cell_type": "code",
   "execution_count": 29,
   "metadata": {},
   "outputs": [
    {
     "name": "stdout",
     "output_type": "stream",
     "text": [
      "CPU times: user 39.9 ms, sys: 982 µs, total: 40.9 ms\n",
      "Wall time: 81.2 ms\n"
     ]
    }
   ],
   "source": [
    "%%time\n",
    "\n",
    "lgbm_pred = lgbm.predict(features_valid)"
   ]
  },
  {
   "cell_type": "code",
   "execution_count": 30,
   "metadata": {},
   "outputs": [
    {
     "data": {
      "text/plain": [
       "32.32794542338714"
      ]
     },
     "execution_count": 30,
     "metadata": {},
     "output_type": "execute_result"
    }
   ],
   "source": [
    "rmse(target_valid, lgbm_pred)"
   ]
  },
  {
   "cell_type": "code",
   "execution_count": 31,
   "metadata": {},
   "outputs": [
    {
     "name": "stdout",
     "output_type": "stream",
     "text": [
      "CPU times: user 28.2 s, sys: 355 ms, total: 28.5 s\n",
      "Wall time: 28.7 s\n"
     ]
    },
    {
     "data": {
      "text/plain": [
       "XGBRegressor(base_score=0.5, booster='gbtree', colsample_bylevel=1,\n",
       "             colsample_bynode=1, colsample_bytree=1, enable_categorical=False,\n",
       "             gamma=0, gpu_id=-1, importance_type=None,\n",
       "             interaction_constraints='', learning_rate=0.300000012,\n",
       "             max_delta_step=0, max_depth=6, min_child_weight=1, missing=nan,\n",
       "             monotone_constraints='()', n_estimators=100, n_jobs=8,\n",
       "             num_parallel_tree=1, predictor='auto', random_state=12345,\n",
       "             reg_alpha=0, reg_lambda=1, scale_pos_weight=1, subsample=1,\n",
       "             tree_method='exact', validate_parameters=1, verbosity=None)"
      ]
     },
     "execution_count": 31,
     "metadata": {},
     "output_type": "execute_result"
    }
   ],
   "source": [
    "%%time\n",
    "\n",
    "# xgb\n",
    "\n",
    "xgb = XGBRegressor(random_state = 12345)\n",
    "xgb.fit(features_train, target_train)"
   ]
  },
  {
   "cell_type": "code",
   "execution_count": 32,
   "metadata": {},
   "outputs": [
    {
     "name": "stdout",
     "output_type": "stream",
     "text": [
      "CPU times: user 38.7 ms, sys: 173 µs, total: 38.8 ms\n",
      "Wall time: 51.8 ms\n"
     ]
    }
   ],
   "source": [
    "%%time\n",
    "\n",
    "xgb_pred = xgb.predict(features_valid)"
   ]
  },
  {
   "cell_type": "code",
   "execution_count": 33,
   "metadata": {},
   "outputs": [
    {
     "data": {
      "text/plain": [
       "35.399759720079736"
      ]
     },
     "execution_count": 33,
     "metadata": {},
     "output_type": "execute_result"
    }
   ],
   "source": [
    "rmse(target_valid, xgb_pred)"
   ]
  },
  {
   "cell_type": "markdown",
   "metadata": {},
   "source": [
    "From the looks of things, all of our regressions seem to have fairly comparable results. The linear regression appears to be less accurate but it might not be the case after tuning the hyperparameters. However, since we have already fulfilled our targeted accuracy and hyperparameter grid searching can be quite time consuming, we will focus on just LGBM, the most promising model."
   ]
  },
  {
   "cell_type": "markdown",
   "metadata": {},
   "source": [
    "### Hyperparameter Tuning\n"
   ]
  },
  {
   "cell_type": "code",
   "execution_count": 34,
   "metadata": {},
   "outputs": [],
   "source": [
    "# create grid for hyperparamters\n",
    "\n",
    "# lgbm\n",
    "\n",
    "lgbm_params = {\n",
    "    'boosting_type': ['gbdt', 'dart', 'goss'],\n",
    "    'num_leaves' : [20, 30, 40, 50],\n",
    "    'learning_rate' : [0.05, 0.1, 0.15, 0.25],\n",
    "    'n_estimators': (100, 150, 200, 250)\n",
    "}\n"
   ]
  },
  {
   "cell_type": "code",
   "execution_count": 35,
   "metadata": {},
   "outputs": [],
   "source": [
    "%%time\n",
    "\n",
    "lgbm_grid = GridSearchCV(estimator = lgbm, param_grid = lgbm_params, verbose = 3)\n",
    "lgbm_grid.fit(features_train, target_train, eval_set=(features_valid, target_valid))"
   ]
  },
  {
   "cell_type": "code",
   "execution_count": 36,
   "metadata": {},
   "outputs": [],
   "source": [
    "lgbm_grid.best_params_"
   ]
  },
  {
   "cell_type": "code",
   "execution_count": 37,
   "metadata": {},
   "outputs": [
    {
     "name": "stdout",
     "output_type": "stream",
     "text": [
      "[1]\tvalid_0's l2: 2625.17\n",
      "[2]\tvalid_0's l2: 2104.92\n",
      "[3]\tvalid_0's l2: 1866.85\n",
      "[4]\tvalid_0's l2: 1658.87\n",
      "[5]\tvalid_0's l2: 1522.28\n",
      "[6]\tvalid_0's l2: 1534.13\n",
      "[7]\tvalid_0's l2: 1429.63\n",
      "[8]\tvalid_0's l2: 1350.29\n",
      "[9]\tvalid_0's l2: 1372.32\n",
      "[10]\tvalid_0's l2: 1312.13\n",
      "[11]\tvalid_0's l2: 1266.87\n",
      "[12]\tvalid_0's l2: 1302.44\n",
      "[13]\tvalid_0's l2: 1239.08\n",
      "[14]\tvalid_0's l2: 1183.6\n",
      "[15]\tvalid_0's l2: 1242.28\n",
      "[16]\tvalid_0's l2: 1221.95\n",
      "[17]\tvalid_0's l2: 1214.81\n",
      "[18]\tvalid_0's l2: 1217.26\n",
      "[19]\tvalid_0's l2: 2135.99\n",
      "[20]\tvalid_0's l2: 1823.48\n",
      "[21]\tvalid_0's l2: 1586.78\n",
      "[22]\tvalid_0's l2: 1421.11\n",
      "[23]\tvalid_0's l2: 1425.99\n",
      "[24]\tvalid_0's l2: 1328.62\n",
      "[25]\tvalid_0's l2: 1240.37\n",
      "[26]\tvalid_0's l2: 1200.57\n",
      "[27]\tvalid_0's l2: 1147.58\n",
      "[28]\tvalid_0's l2: 1147.73\n",
      "[29]\tvalid_0's l2: 1129.2\n",
      "[30]\tvalid_0's l2: 1132.91\n",
      "[31]\tvalid_0's l2: 1162.28\n",
      "[32]\tvalid_0's l2: 1127.56\n",
      "[33]\tvalid_0's l2: 1179.94\n",
      "[34]\tvalid_0's l2: 1207.66\n",
      "[35]\tvalid_0's l2: 1168.9\n",
      "[36]\tvalid_0's l2: 1177.94\n",
      "[37]\tvalid_0's l2: 1131.03\n",
      "[38]\tvalid_0's l2: 1125.95\n",
      "[39]\tvalid_0's l2: 1091.15\n",
      "[40]\tvalid_0's l2: 1084.06\n",
      "[41]\tvalid_0's l2: 1079.4\n",
      "[42]\tvalid_0's l2: 1101.16\n",
      "[43]\tvalid_0's l2: 1376.5\n",
      "[44]\tvalid_0's l2: 1286.4\n",
      "[45]\tvalid_0's l2: 1291.13\n",
      "[46]\tvalid_0's l2: 1219.55\n",
      "[47]\tvalid_0's l2: 1271.5\n",
      "[48]\tvalid_0's l2: 1309.46\n",
      "[49]\tvalid_0's l2: 1345.02\n",
      "[50]\tvalid_0's l2: 1374.71\n",
      "[51]\tvalid_0's l2: 1367.12\n",
      "[52]\tvalid_0's l2: 1368.61\n",
      "[53]\tvalid_0's l2: 1276.6\n",
      "[54]\tvalid_0's l2: 1193.58\n",
      "[55]\tvalid_0's l2: 1201.12\n",
      "[56]\tvalid_0's l2: 1155.93\n",
      "[57]\tvalid_0's l2: 1119.22\n",
      "[58]\tvalid_0's l2: 1364.11\n",
      "[59]\tvalid_0's l2: 1391.51\n",
      "[60]\tvalid_0's l2: 1269.75\n",
      "[61]\tvalid_0's l2: 1284.19\n",
      "[62]\tvalid_0's l2: 1196.25\n",
      "[63]\tvalid_0's l2: 1214.06\n",
      "[64]\tvalid_0's l2: 1162.67\n",
      "[65]\tvalid_0's l2: 1178.15\n",
      "[66]\tvalid_0's l2: 1343.56\n",
      "[67]\tvalid_0's l2: 1357.99\n",
      "[68]\tvalid_0's l2: 1263.6\n",
      "[69]\tvalid_0's l2: 1177.59\n",
      "[70]\tvalid_0's l2: 1256.42\n",
      "[71]\tvalid_0's l2: 1184.77\n",
      "[72]\tvalid_0's l2: 1146.98\n",
      "[73]\tvalid_0's l2: 1114.75\n",
      "[74]\tvalid_0's l2: 1131.4\n",
      "[75]\tvalid_0's l2: 1160.6\n",
      "[76]\tvalid_0's l2: 1127.02\n",
      "[77]\tvalid_0's l2: 1087.14\n",
      "[78]\tvalid_0's l2: 1103.62\n",
      "[79]\tvalid_0's l2: 1089.81\n",
      "[80]\tvalid_0's l2: 1072.34\n",
      "[81]\tvalid_0's l2: 1056.7\n",
      "[82]\tvalid_0's l2: 1052.16\n",
      "[83]\tvalid_0's l2: 1040.46\n",
      "[84]\tvalid_0's l2: 1034.5\n",
      "[85]\tvalid_0's l2: 1050.52\n",
      "[86]\tvalid_0's l2: 1055.75\n",
      "[87]\tvalid_0's l2: 1064.03\n",
      "[88]\tvalid_0's l2: 1081.19\n",
      "[89]\tvalid_0's l2: 1092.12\n",
      "[90]\tvalid_0's l2: 1106.71\n",
      "[91]\tvalid_0's l2: 1124.95\n",
      "[92]\tvalid_0's l2: 1143.95\n",
      "[93]\tvalid_0's l2: 1106.47\n",
      "[94]\tvalid_0's l2: 1126.81\n",
      "[95]\tvalid_0's l2: 1143.14\n",
      "[96]\tvalid_0's l2: 1114.02\n",
      "[97]\tvalid_0's l2: 1099.81\n",
      "[98]\tvalid_0's l2: 1086.79\n",
      "[99]\tvalid_0's l2: 1074.87\n",
      "[100]\tvalid_0's l2: 1068.94\n"
     ]
    },
    {
     "data": {
      "text/plain": [
       "LGBMRegressor(boosting_type='dart', learning_rate=0.25, num_leaves=20,\n",
       "              random_state=12345)"
      ]
     },
     "execution_count": 37,
     "metadata": {},
     "output_type": "execute_result"
    }
   ],
   "source": [
    "lgbm_reg = LGBMRegressor(boosting_type = 'dart', learning_rate = 0.25, n_estimators = 100,\n",
    "                         num_leaves = 20, random_state = 12345)\n",
    "\n",
    "lgbm_reg.fit(features_train, target_train, eval_set=(features_valid, target_valid))"
   ]
  },
  {
   "cell_type": "code",
   "execution_count": 38,
   "metadata": {},
   "outputs": [
    {
     "name": "stdout",
     "output_type": "stream",
     "text": [
      "CPU times: user 40.4 ms, sys: 187 µs, total: 40.5 ms\n",
      "Wall time: 10.8 ms\n"
     ]
    }
   ],
   "source": [
    "%%time\n",
    "\n",
    "lgbm_pred = lgbm_reg.predict(features_valid)"
   ]
  },
  {
   "cell_type": "code",
   "execution_count": 39,
   "metadata": {},
   "outputs": [
    {
     "data": {
      "text/plain": [
       "32.69457636939533"
      ]
     },
     "execution_count": 39,
     "metadata": {},
     "output_type": "execute_result"
    }
   ],
   "source": [
    "rmse(target_valid, lgbm_pred)"
   ]
  },
  {
   "cell_type": "markdown",
   "metadata": {},
   "source": [
    "Our model seems to be more accurate, but it does not appear to have gotten substantially so. Tuning the hyperparameters likely will lead to diminishing returns for accuracy in regards to time, and our RMSE still seems to be fine. We should proceed to the test set."
   ]
  },
  {
   "cell_type": "markdown",
   "metadata": {},
   "source": [
    "## Testing"
   ]
  },
  {
   "cell_type": "code",
   "execution_count": 40,
   "metadata": {},
   "outputs": [
    {
     "name": "stdout",
     "output_type": "stream",
     "text": [
      "CPU times: user 46.3 ms, sys: 0 ns, total: 46.3 ms\n",
      "Wall time: 71.3 ms\n"
     ]
    }
   ],
   "source": [
    "%%time\n",
    "\n",
    "lgbm_pred = lgbm_reg.predict(features_test)"
   ]
  },
  {
   "cell_type": "code",
   "execution_count": 41,
   "metadata": {},
   "outputs": [
    {
     "name": "stdout",
     "output_type": "stream",
     "text": [
      "RMSE is 53.5998222124338 which is above our threshold value of 48\n"
     ]
    },
    {
     "data": {
      "text/plain": [
       "53.5998222124338"
      ]
     },
     "execution_count": 41,
     "metadata": {},
     "output_type": "execute_result"
    }
   ],
   "source": [
    "rmse(target_test, lgbm_pred)"
   ]
  },
  {
   "cell_type": "markdown",
   "metadata": {},
   "source": [
    "We see here that although our validation set matched fairly well that the RMSE against the test set is too high. This might suggest that the model is overfitted, but regardless of the reason it might not be an error that we want to solve by doing further tuning to the LGBM model. We can try to go through some alternate models and see if they might give more desirable results.\n",
    "\n",
    "### Model improvements\n",
    "\n",
    "We will start by trying out the random forest."
   ]
  },
  {
   "cell_type": "code",
   "execution_count": 42,
   "metadata": {},
   "outputs": [],
   "source": [
    "rf_params = {\n",
    "    'n_estimators': (100, 150, 200),\n",
    "    'min_samples_split' : (2, 5, 10, 15),\n",
    "    'max_depth' : (1, 5, 10, 25, None)\n",
    "}"
   ]
  },
  {
   "cell_type": "code",
   "execution_count": 43,
   "metadata": {},
   "outputs": [],
   "source": [
    "%%time\n",
    "\n",
    "rf_grid = GridSearchCV(estimator = rf, param_grid = rf_params, verbose=3)\n",
    "rf_grid.fit(features_train, target_train)"
   ]
  },
  {
   "cell_type": "code",
   "execution_count": 44,
   "metadata": {},
   "outputs": [],
   "source": [
    "rf_grid.best_params_"
   ]
  },
  {
   "cell_type": "code",
   "execution_count": 45,
   "metadata": {},
   "outputs": [
    {
     "name": "stdout",
     "output_type": "stream",
     "text": [
      "CPU times: user 1.27 s, sys: 0 ns, total: 1.27 s\n",
      "Wall time: 1.3 s\n"
     ]
    },
    {
     "data": {
      "text/plain": [
       "RandomForestRegressor(max_depth=25, min_samples_split=15, n_estimators=200,\n",
       "                      random_state=12345)"
      ]
     },
     "execution_count": 45,
     "metadata": {},
     "output_type": "execute_result"
    }
   ],
   "source": [
    "%%time\n",
    "\n",
    "rf_reg = RandomForestRegressor(max_depth = 25, min_samples_split= 15, n_estimators = 200, random_state = 12345)\n",
    "\n",
    "rf_reg.fit(features_train, target_train)"
   ]
  },
  {
   "cell_type": "code",
   "execution_count": 46,
   "metadata": {},
   "outputs": [
    {
     "name": "stdout",
     "output_type": "stream",
     "text": [
      "CPU times: user 22.7 ms, sys: 0 ns, total: 22.7 ms\n",
      "Wall time: 21.3 ms\n"
     ]
    }
   ],
   "source": [
    "%%time\n",
    "\n",
    "rf_pred = rf_reg.predict(features_test)"
   ]
  },
  {
   "cell_type": "code",
   "execution_count": 47,
   "metadata": {},
   "outputs": [
    {
     "data": {
      "text/plain": [
       "45.47782947562207"
      ]
     },
     "execution_count": 47,
     "metadata": {},
     "output_type": "execute_result"
    }
   ],
   "source": [
    "rmse(target_test, rf_pred)"
   ]
  },
  {
   "cell_type": "markdown",
   "metadata": {},
   "source": [
    "### Other possible tuning checks\n",
    "\n",
    "Tuning our random forest does provide us with RMSE that is within our requirements. We could either continue to improve on this model or consider our model sufficient here. To get a quick overview on which to choose, we could take another look at our baseline models predictions against the test set."
   ]
  },
  {
   "cell_type": "code",
   "execution_count": 48,
   "metadata": {},
   "outputs": [
    {
     "name": "stdout",
     "output_type": "stream",
     "text": [
      "Baseline Test RMSEs:\n",
      "\n",
      "RMSE is 52.34782474509176 which is above our threshold value of 48\n",
      "Linear Regression: 52.34782474509176\n",
      "\n",
      "Random Forest: 46.4929030776839\n",
      "\n",
      "RMSE is 53.79413184383542 which is above our threshold value of 48\n",
      "Catboost: 53.79413184383542\n",
      "\n",
      "RMSE is 52.62873295731337 which is above our threshold value of 48\n",
      "LGBM: 52.62873295731337\n",
      "\n",
      "RMSE is 55.67457861437892 which is above our threshold value of 48\n",
      "XGB: 55.67457861437892\n"
     ]
    }
   ],
   "source": [
    "print(\"Baseline Test RMSEs:\")\n",
    "print()\n",
    "print(\"Linear Regression:\", rmse(target_test, lin_reg.predict(features_test)))\n",
    "print()\n",
    "print(\"Random Forest:\", rmse(target_test, rf.predict(features_test)))\n",
    "print()\n",
    "print(\"Catboost:\", rmse(target_test, cb.predict(features_test)))\n",
    "print()\n",
    "print(\"LGBM:\", rmse(target_test, lgbm.predict(features_test)))\n",
    "print()\n",
    "print(\"XGB:\", rmse(target_test, xgb.predict(features_test)))"
   ]
  },
  {
   "cell_type": "markdown",
   "metadata": {},
   "source": [
    "We see from testing our initial models without tuning any of our hyperparameters that random forest was best dealing with the test set. Since random forest tends to be well suited to not being overfit, this probably does suggest that our other models are overfitted. Since it is generally unclear how large of an effect hyperparameter fitting can have on model quality and our random forest model is working, it should be best to remain efficient and keep to using that random forest model."
   ]
  },
  {
   "cell_type": "markdown",
   "metadata": {},
   "source": [
    "## Conclusion\n",
    "\n",
    "Within the project we have analyzed and cleaned our data, checked it graphically for trends and seasonality. We split our date and time into a number of separate features that would help build our model and then split into a training, validation and test sets with a test size of 10%.\n",
    "\n",
    "We checked some initial regressions against the validation set and found that most baseline regressors seemed to possess comparable results so we chose to focus on the one with the best RMSE to use as our model to finetune the hyperparameters. However, when we checked our model against the test set we found that the RMSE was too high and so we tested against some of our other models.\n",
    "\n",
    "The random forest proved to be sufficiently fitted to our goals and we double checked our baseline models against the test set we found that they all performed too poorly when checking against the test set even though they were all fine against the validation set, which may be the result of overfitting."
   ]
  },
  {
   "cell_type": "markdown",
   "metadata": {},
   "source": [
    "# Review checklist"
   ]
  },
  {
   "cell_type": "markdown",
   "metadata": {},
   "source": [
    "- [x]  Jupyter Notebook is open\n",
    "- [x]  The code is error-free\n",
    "- [x]  The cells with the code have been arranged in order of execution\n",
    "- [x]  The data has been downloaded and prepared\n",
    "- [x]  The data has been analyzed\n",
    "- [x]  The model has been trained and hyperparameters have been selected\n",
    "- [x]  The models have been evaluated. Conclusion has been provided\n",
    "- [x] *RMSE* for the test set is not more than 48"
   ]
  },
  {
   "cell_type": "code",
   "execution_count": null,
   "metadata": {},
   "outputs": [],
   "source": []
  }
 ],
 "metadata": {
  "ExecuteTimeLog": [
   {
    "duration": 419,
    "start_time": "2022-05-22T18:36:28.347Z"
   },
   {
    "duration": 138,
    "start_time": "2022-05-22T18:36:54.428Z"
   },
   {
    "duration": 15,
    "start_time": "2022-05-22T18:36:57.527Z"
   },
   {
    "duration": 7,
    "start_time": "2022-05-22T18:51:17.345Z"
   },
   {
    "duration": 17,
    "start_time": "2022-05-22T18:51:22.692Z"
   },
   {
    "duration": 14,
    "start_time": "2022-05-22T18:51:27.724Z"
   },
   {
    "duration": 81,
    "start_time": "2022-05-22T19:36:40.472Z"
   },
   {
    "duration": 13,
    "start_time": "2022-05-22T19:36:56.798Z"
   },
   {
    "duration": 44,
    "start_time": "2022-05-22T19:57:20.285Z"
   },
   {
    "duration": 10,
    "start_time": "2022-05-22T19:57:23.217Z"
   },
   {
    "duration": 10,
    "start_time": "2022-05-22T19:57:28.681Z"
   },
   {
    "duration": 44,
    "start_time": "2022-05-22T19:57:49.670Z"
   },
   {
    "duration": 493,
    "start_time": "2022-05-22T19:57:53.349Z"
   },
   {
    "duration": 10,
    "start_time": "2022-05-22T19:57:56.654Z"
   },
   {
    "duration": 7,
    "start_time": "2022-05-22T19:57:59.982Z"
   },
   {
    "duration": 11,
    "start_time": "2022-05-22T19:58:41.431Z"
   },
   {
    "duration": 8,
    "start_time": "2022-05-22T19:58:45.478Z"
   },
   {
    "duration": 5,
    "start_time": "2022-05-22T19:58:57.032Z"
   },
   {
    "duration": 9,
    "start_time": "2022-05-22T19:59:02.676Z"
   },
   {
    "duration": 5,
    "start_time": "2022-05-22T19:59:04.721Z"
   },
   {
    "duration": 8,
    "start_time": "2022-05-22T19:59:09.513Z"
   },
   {
    "duration": 3,
    "start_time": "2022-05-22T19:59:23.339Z"
   },
   {
    "duration": 12,
    "start_time": "2022-05-22T19:59:41.360Z"
   },
   {
    "duration": 10,
    "start_time": "2022-05-22T20:00:05.907Z"
   },
   {
    "duration": 7,
    "start_time": "2022-05-22T20:37:23.374Z"
   },
   {
    "duration": 1042,
    "start_time": "2022-05-22T20:37:27.925Z"
   },
   {
    "duration": 207,
    "start_time": "2022-05-22T20:37:32.924Z"
   },
   {
    "duration": 242,
    "start_time": "2022-05-22T20:38:35.661Z"
   },
   {
    "duration": 290,
    "start_time": "2022-05-22T20:38:40.320Z"
   },
   {
    "duration": 300,
    "start_time": "2022-05-22T20:38:45.721Z"
   },
   {
    "duration": 264,
    "start_time": "2022-05-22T20:39:14.117Z"
   },
   {
    "duration": 248,
    "start_time": "2022-05-22T20:39:27.433Z"
   },
   {
    "duration": 247,
    "start_time": "2022-05-22T20:39:32.338Z"
   },
   {
    "duration": 239,
    "start_time": "2022-05-22T20:41:42.958Z"
   },
   {
    "duration": 316,
    "start_time": "2022-05-22T20:41:45.783Z"
   },
   {
    "duration": 240,
    "start_time": "2022-05-22T20:41:48.537Z"
   },
   {
    "duration": 232,
    "start_time": "2022-05-22T20:42:04.091Z"
   },
   {
    "duration": 237,
    "start_time": "2022-05-22T20:42:37.477Z"
   },
   {
    "duration": 232,
    "start_time": "2022-05-22T20:42:55.795Z"
   },
   {
    "duration": 228,
    "start_time": "2022-05-22T20:42:58.899Z"
   },
   {
    "duration": 8,
    "start_time": "2022-05-22T20:46:12.112Z"
   },
   {
    "duration": 520,
    "start_time": "2022-05-22T20:46:20.442Z"
   },
   {
    "duration": 41,
    "start_time": "2022-05-22T20:46:24.043Z"
   },
   {
    "duration": 3,
    "start_time": "2022-05-22T20:46:34.348Z"
   },
   {
    "duration": 136,
    "start_time": "2022-05-22T20:46:37.598Z"
   },
   {
    "duration": 134,
    "start_time": "2022-05-22T20:47:22.421Z"
   },
   {
    "duration": 130,
    "start_time": "2022-05-22T20:47:27.838Z"
   },
   {
    "duration": 138,
    "start_time": "2022-05-22T20:47:36.719Z"
   },
   {
    "duration": 38,
    "start_time": "2022-05-22T20:47:41.390Z"
   },
   {
    "duration": 146,
    "start_time": "2022-05-22T20:47:44.914Z"
   },
   {
    "duration": 129,
    "start_time": "2022-05-22T20:47:51.195Z"
   },
   {
    "duration": 206,
    "start_time": "2022-05-22T20:49:16.275Z"
   },
   {
    "duration": 171,
    "start_time": "2022-05-22T20:49:45.605Z"
   },
   {
    "duration": 180,
    "start_time": "2022-05-22T20:49:59.176Z"
   },
   {
    "duration": 185,
    "start_time": "2022-05-22T20:50:39.757Z"
   },
   {
    "duration": 199,
    "start_time": "2022-05-22T20:50:48.310Z"
   },
   {
    "duration": 170,
    "start_time": "2022-05-22T20:52:09.196Z"
   },
   {
    "duration": 178,
    "start_time": "2022-05-22T20:54:54.285Z"
   },
   {
    "duration": 223,
    "start_time": "2022-05-22T20:55:05.889Z"
   },
   {
    "duration": 172,
    "start_time": "2022-05-22T20:55:15.043Z"
   },
   {
    "duration": 253,
    "start_time": "2022-05-22T20:56:56.496Z"
   },
   {
    "duration": 397,
    "start_time": "2022-05-22T20:57:11.027Z"
   },
   {
    "duration": 320,
    "start_time": "2022-05-22T21:34:37.441Z"
   },
   {
    "duration": 306,
    "start_time": "2022-05-22T21:34:42.138Z"
   },
   {
    "duration": 361,
    "start_time": "2022-05-22T21:34:49.127Z"
   },
   {
    "duration": 437,
    "start_time": "2022-05-22T21:35:00.845Z"
   },
   {
    "duration": 368,
    "start_time": "2022-05-22T21:35:34.938Z"
   },
   {
    "duration": 330,
    "start_time": "2022-05-22T21:35:40.211Z"
   },
   {
    "duration": 1803,
    "start_time": "2022-05-24T23:10:41.416Z"
   },
   {
    "duration": 128,
    "start_time": "2022-05-24T23:10:43.221Z"
   },
   {
    "duration": 11,
    "start_time": "2022-05-24T23:10:43.351Z"
   },
   {
    "duration": 11,
    "start_time": "2022-05-24T23:10:43.364Z"
   },
   {
    "duration": 14,
    "start_time": "2022-05-24T23:10:43.376Z"
   },
   {
    "duration": 15,
    "start_time": "2022-05-24T23:10:43.391Z"
   },
   {
    "duration": 343,
    "start_time": "2022-05-24T23:10:43.408Z"
   },
   {
    "duration": 183,
    "start_time": "2022-05-24T23:10:43.753Z"
   },
   {
    "duration": 282,
    "start_time": "2022-05-24T23:10:43.938Z"
   },
   {
    "duration": 5,
    "start_time": "2022-05-24T23:10:44.228Z"
   },
   {
    "duration": 18,
    "start_time": "2022-05-24T23:10:44.235Z"
   },
   {
    "duration": 10,
    "start_time": "2022-05-24T23:10:44.255Z"
   },
   {
    "duration": 48,
    "start_time": "2022-05-24T23:12:58.114Z"
   },
   {
    "duration": 4,
    "start_time": "2022-05-24T23:13:01.821Z"
   },
   {
    "duration": 9,
    "start_time": "2022-05-24T23:13:35.427Z"
   },
   {
    "duration": 5,
    "start_time": "2022-05-24T23:16:16.105Z"
   },
   {
    "duration": 14,
    "start_time": "2022-05-24T23:16:17.658Z"
   },
   {
    "duration": 8,
    "start_time": "2022-05-24T23:16:20.563Z"
   },
   {
    "duration": 14,
    "start_time": "2022-05-24T23:16:23.100Z"
   },
   {
    "duration": 18,
    "start_time": "2022-05-24T23:16:36.250Z"
   },
   {
    "duration": 131,
    "start_time": "2022-05-24T23:16:38.336Z"
   },
   {
    "duration": 22,
    "start_time": "2022-05-24T23:16:47.487Z"
   },
   {
    "duration": 649,
    "start_time": "2022-05-24T23:16:57.042Z"
   },
   {
    "duration": 22,
    "start_time": "2022-05-24T23:17:02.605Z"
   },
   {
    "duration": 3,
    "start_time": "2022-05-24T23:17:23.397Z"
   },
   {
    "duration": 5,
    "start_time": "2022-05-24T23:17:28.186Z"
   },
   {
    "duration": 6,
    "start_time": "2022-05-25T00:04:59.378Z"
   },
   {
    "duration": 75,
    "start_time": "2022-05-25T00:05:10.053Z"
   },
   {
    "duration": 400,
    "start_time": "2022-05-25T00:05:15.413Z"
   },
   {
    "duration": 28,
    "start_time": "2022-05-25T00:05:24.530Z"
   },
   {
    "duration": 19,
    "start_time": "2022-05-25T00:05:28.456Z"
   },
   {
    "duration": 16,
    "start_time": "2022-05-25T00:05:36.258Z"
   },
   {
    "duration": 11,
    "start_time": "2022-05-25T00:05:40.849Z"
   },
   {
    "duration": 16,
    "start_time": "2022-05-25T00:05:54.485Z"
   },
   {
    "duration": 13,
    "start_time": "2022-05-25T00:06:07.511Z"
   },
   {
    "duration": 9,
    "start_time": "2022-05-25T00:06:12.144Z"
   },
   {
    "duration": 5,
    "start_time": "2022-05-25T00:06:21.959Z"
   },
   {
    "duration": 11,
    "start_time": "2022-05-25T00:06:31.763Z"
   },
   {
    "duration": 6,
    "start_time": "2022-05-25T00:06:38.477Z"
   },
   {
    "duration": 5,
    "start_time": "2022-05-25T00:07:09.863Z"
   },
   {
    "duration": 6,
    "start_time": "2022-05-25T00:07:14.892Z"
   },
   {
    "duration": 9,
    "start_time": "2022-05-25T00:07:17.435Z"
   },
   {
    "duration": 6,
    "start_time": "2022-05-25T00:07:19.131Z"
   },
   {
    "duration": 14,
    "start_time": "2022-05-25T00:07:31.966Z"
   },
   {
    "duration": 3,
    "start_time": "2022-05-25T00:10:37.766Z"
   },
   {
    "duration": 50,
    "start_time": "2022-05-25T00:10:37.771Z"
   },
   {
    "duration": 5,
    "start_time": "2022-05-25T00:10:37.823Z"
   },
   {
    "duration": 12,
    "start_time": "2022-05-25T00:10:37.830Z"
   },
   {
    "duration": 10,
    "start_time": "2022-05-25T00:10:37.844Z"
   },
   {
    "duration": 10,
    "start_time": "2022-05-25T00:10:37.856Z"
   },
   {
    "duration": 199,
    "start_time": "2022-05-25T00:10:37.867Z"
   },
   {
    "duration": 175,
    "start_time": "2022-05-25T00:10:38.069Z"
   },
   {
    "duration": 334,
    "start_time": "2022-05-25T00:10:38.247Z"
   },
   {
    "duration": 4,
    "start_time": "2022-05-25T00:10:38.583Z"
   },
   {
    "duration": 22,
    "start_time": "2022-05-25T00:10:38.589Z"
   },
   {
    "duration": 10,
    "start_time": "2022-05-25T00:10:38.613Z"
   },
   {
    "duration": 10,
    "start_time": "2022-05-25T00:16:19.173Z"
   },
   {
    "duration": 4,
    "start_time": "2022-05-25T00:16:30.659Z"
   },
   {
    "duration": 7,
    "start_time": "2022-05-25T00:16:31.529Z"
   },
   {
    "duration": 14,
    "start_time": "2022-05-25T00:16:34.096Z"
   },
   {
    "duration": 10,
    "start_time": "2022-05-25T00:16:45.597Z"
   },
   {
    "duration": 11,
    "start_time": "2022-05-25T00:16:49.178Z"
   },
   {
    "duration": 6,
    "start_time": "2022-05-25T00:17:20.815Z"
   },
   {
    "duration": 14,
    "start_time": "2022-05-25T00:17:21.560Z"
   },
   {
    "duration": 9,
    "start_time": "2022-05-25T00:18:50.467Z"
   },
   {
    "duration": 3,
    "start_time": "2022-05-25T00:19:28.832Z"
   },
   {
    "duration": 6,
    "start_time": "2022-05-25T00:19:29.136Z"
   },
   {
    "duration": 11,
    "start_time": "2022-05-25T00:19:30.186Z"
   },
   {
    "duration": 3,
    "start_time": "2022-05-25T00:19:47.168Z"
   },
   {
    "duration": 7,
    "start_time": "2022-05-25T00:19:49.264Z"
   },
   {
    "duration": 12,
    "start_time": "2022-05-25T00:19:49.446Z"
   },
   {
    "duration": 4,
    "start_time": "2022-05-25T00:20:42.307Z"
   },
   {
    "duration": 5,
    "start_time": "2022-05-25T00:20:42.515Z"
   },
   {
    "duration": 12,
    "start_time": "2022-05-25T00:20:42.730Z"
   },
   {
    "duration": 11,
    "start_time": "2022-05-25T00:20:54.084Z"
   },
   {
    "duration": 7,
    "start_time": "2022-05-25T00:21:24.912Z"
   },
   {
    "duration": 6,
    "start_time": "2022-05-25T00:21:27.232Z"
   },
   {
    "duration": 6,
    "start_time": "2022-05-25T00:21:27.498Z"
   },
   {
    "duration": 7,
    "start_time": "2022-05-25T00:21:31.482Z"
   },
   {
    "duration": 4,
    "start_time": "2022-05-25T00:21:31.737Z"
   },
   {
    "duration": 5,
    "start_time": "2022-05-25T00:21:50.640Z"
   },
   {
    "duration": 11,
    "start_time": "2022-05-25T00:21:59.408Z"
   },
   {
    "duration": 51,
    "start_time": "2022-05-25T00:22:30.379Z"
   },
   {
    "duration": 8,
    "start_time": "2022-05-25T00:22:46.177Z"
   },
   {
    "duration": 6,
    "start_time": "2022-05-25T00:23:03.895Z"
   },
   {
    "duration": 912,
    "start_time": "2022-05-25T00:32:14.587Z"
   },
   {
    "duration": 24,
    "start_time": "2022-05-25T00:32:29.141Z"
   },
   {
    "duration": 5,
    "start_time": "2022-05-25T00:32:34.958Z"
   },
   {
    "duration": 3,
    "start_time": "2022-05-25T00:52:02.833Z"
   },
   {
    "duration": 1329,
    "start_time": "2022-05-25T00:52:11.371Z"
   },
   {
    "duration": 7,
    "start_time": "2022-05-25T01:09:38.273Z"
   },
   {
    "duration": 5,
    "start_time": "2022-05-25T01:09:49.044Z"
   },
   {
    "duration": 5,
    "start_time": "2022-05-25T01:09:51.411Z"
   },
   {
    "duration": 1240,
    "start_time": "2022-05-25T01:14:18.491Z"
   },
   {
    "duration": 10,
    "start_time": "2022-05-25T01:14:32.482Z"
   },
   {
    "duration": 5,
    "start_time": "2022-05-25T01:14:42.968Z"
   },
   {
    "duration": 15605,
    "start_time": "2022-05-25T01:16:43.247Z"
   },
   {
    "duration": 17,
    "start_time": "2022-05-25T01:17:13.248Z"
   },
   {
    "duration": 6,
    "start_time": "2022-05-25T01:17:20.035Z"
   },
   {
    "duration": 10,
    "start_time": "2022-05-25T02:24:36.787Z"
   },
   {
    "duration": 512,
    "start_time": "2022-05-25T02:24:53.269Z"
   },
   {
    "duration": 11,
    "start_time": "2022-05-25T02:57:28.448Z"
   },
   {
    "duration": 663,
    "start_time": "2022-05-25T02:57:31.749Z"
   },
   {
    "duration": 507,
    "start_time": "2022-05-25T02:57:35.247Z"
   },
   {
    "duration": 1631,
    "start_time": "2022-05-26T00:53:46.404Z"
   },
   {
    "duration": 125,
    "start_time": "2022-05-26T00:53:48.037Z"
   },
   {
    "duration": 10,
    "start_time": "2022-05-26T00:53:48.164Z"
   },
   {
    "duration": 12,
    "start_time": "2022-05-26T00:53:48.176Z"
   },
   {
    "duration": 12,
    "start_time": "2022-05-26T00:53:48.190Z"
   },
   {
    "duration": 13,
    "start_time": "2022-05-26T00:53:48.204Z"
   },
   {
    "duration": 258,
    "start_time": "2022-05-26T00:53:48.218Z"
   },
   {
    "duration": 184,
    "start_time": "2022-05-26T00:53:48.477Z"
   },
   {
    "duration": 268,
    "start_time": "2022-05-26T00:53:48.667Z"
   },
   {
    "duration": 5,
    "start_time": "2022-05-26T00:53:48.937Z"
   },
   {
    "duration": 11,
    "start_time": "2022-05-26T00:53:48.952Z"
   },
   {
    "duration": 16,
    "start_time": "2022-05-26T00:53:48.964Z"
   },
   {
    "duration": 7,
    "start_time": "2022-05-26T00:53:48.982Z"
   },
   {
    "duration": 5,
    "start_time": "2022-05-26T00:53:48.991Z"
   },
   {
    "duration": 11,
    "start_time": "2022-05-26T00:53:48.997Z"
   },
   {
    "duration": 7,
    "start_time": "2022-05-26T00:53:49.009Z"
   },
   {
    "duration": 9,
    "start_time": "2022-05-26T00:53:49.017Z"
   },
   {
    "duration": 35,
    "start_time": "2022-05-26T00:53:49.027Z"
   },
   {
    "duration": 94,
    "start_time": "2022-05-26T00:53:49.065Z"
   },
   {
    "duration": 17,
    "start_time": "2022-05-26T00:53:49.161Z"
   },
   {
    "duration": 845,
    "start_time": "2022-05-26T00:53:49.179Z"
   },
   {
    "duration": 33,
    "start_time": "2022-05-26T00:53:50.026Z"
   },
   {
    "duration": 5,
    "start_time": "2022-05-26T00:53:50.068Z"
   },
   {
    "duration": 1397,
    "start_time": "2022-05-26T00:53:50.075Z"
   },
   {
    "duration": 4,
    "start_time": "2022-05-26T00:53:51.474Z"
   },
   {
    "duration": 10,
    "start_time": "2022-05-26T00:53:51.479Z"
   },
   {
    "duration": 20482,
    "start_time": "2022-05-26T00:53:51.490Z"
   },
   {
    "duration": 88,
    "start_time": "2022-05-26T00:54:11.973Z"
   },
   {
    "duration": 164,
    "start_time": "2022-05-26T00:54:12.063Z"
   },
   {
    "duration": 0,
    "start_time": "2022-05-26T00:54:12.229Z"
   },
   {
    "duration": 0,
    "start_time": "2022-05-26T00:54:12.230Z"
   },
   {
    "duration": 0,
    "start_time": "2022-05-26T00:54:12.231Z"
   },
   {
    "duration": 0,
    "start_time": "2022-05-26T00:54:12.232Z"
   },
   {
    "duration": 0,
    "start_time": "2022-05-26T00:54:12.233Z"
   },
   {
    "duration": 1539,
    "start_time": "2022-05-26T18:45:23.787Z"
   },
   {
    "duration": 121,
    "start_time": "2022-05-26T18:45:25.331Z"
   },
   {
    "duration": 10,
    "start_time": "2022-05-26T18:45:25.454Z"
   },
   {
    "duration": 9,
    "start_time": "2022-05-26T18:45:25.465Z"
   },
   {
    "duration": 11,
    "start_time": "2022-05-26T18:45:25.476Z"
   },
   {
    "duration": 12,
    "start_time": "2022-05-26T18:45:25.489Z"
   },
   {
    "duration": 271,
    "start_time": "2022-05-26T18:45:25.503Z"
   },
   {
    "duration": 180,
    "start_time": "2022-05-26T18:45:25.776Z"
   },
   {
    "duration": 293,
    "start_time": "2022-05-26T18:45:25.957Z"
   },
   {
    "duration": 5,
    "start_time": "2022-05-26T18:45:26.253Z"
   },
   {
    "duration": 22,
    "start_time": "2022-05-26T18:45:26.259Z"
   },
   {
    "duration": 12,
    "start_time": "2022-05-26T18:45:26.283Z"
   },
   {
    "duration": 13,
    "start_time": "2022-05-26T18:45:26.297Z"
   },
   {
    "duration": 7,
    "start_time": "2022-05-26T18:45:26.313Z"
   },
   {
    "duration": 6,
    "start_time": "2022-05-26T18:45:26.326Z"
   },
   {
    "duration": 17,
    "start_time": "2022-05-26T18:45:26.337Z"
   },
   {
    "duration": 12,
    "start_time": "2022-05-26T18:45:26.356Z"
   },
   {
    "duration": 15,
    "start_time": "2022-05-26T18:45:26.370Z"
   },
   {
    "duration": 17,
    "start_time": "2022-05-26T18:45:26.386Z"
   },
   {
    "duration": 55,
    "start_time": "2022-05-26T18:45:26.405Z"
   },
   {
    "duration": 886,
    "start_time": "2022-05-26T18:45:26.462Z"
   },
   {
    "duration": 23,
    "start_time": "2022-05-26T18:45:27.349Z"
   },
   {
    "duration": 4,
    "start_time": "2022-05-26T18:45:27.374Z"
   },
   {
    "duration": 1311,
    "start_time": "2022-05-26T18:45:27.380Z"
   },
   {
    "duration": 4,
    "start_time": "2022-05-26T18:45:28.693Z"
   },
   {
    "duration": 8,
    "start_time": "2022-05-26T18:45:28.699Z"
   },
   {
    "duration": 108637,
    "start_time": "2022-05-26T18:45:28.708Z"
   },
   {
    "duration": 87,
    "start_time": "2022-05-26T18:47:17.350Z"
   },
   {
    "duration": 140,
    "start_time": "2022-05-26T18:47:17.439Z"
   },
   {
    "duration": 0,
    "start_time": "2022-05-26T18:47:17.581Z"
   },
   {
    "duration": 0,
    "start_time": "2022-05-26T18:47:17.582Z"
   },
   {
    "duration": 0,
    "start_time": "2022-05-26T18:47:17.583Z"
   },
   {
    "duration": 0,
    "start_time": "2022-05-26T18:47:17.584Z"
   },
   {
    "duration": 0,
    "start_time": "2022-05-26T18:47:17.585Z"
   },
   {
    "duration": 0,
    "start_time": "2022-05-26T18:47:17.586Z"
   },
   {
    "duration": 9,
    "start_time": "2022-05-26T18:52:56.884Z"
   },
   {
    "duration": 5,
    "start_time": "2022-05-26T18:52:59.995Z"
   },
   {
    "duration": 17576,
    "start_time": "2022-05-26T18:53:00.803Z"
   },
   {
    "duration": 50,
    "start_time": "2022-05-26T18:53:18.380Z"
   },
   {
    "duration": 14,
    "start_time": "2022-05-26T18:53:18.433Z"
   },
   {
    "duration": 18,
    "start_time": "2022-05-26T18:55:43.825Z"
   },
   {
    "duration": 1854,
    "start_time": "2022-05-27T01:31:00.490Z"
   },
   {
    "duration": 196,
    "start_time": "2022-05-27T01:31:02.346Z"
   },
   {
    "duration": 10,
    "start_time": "2022-05-27T01:31:02.543Z"
   },
   {
    "duration": 11,
    "start_time": "2022-05-27T01:31:02.555Z"
   },
   {
    "duration": 17,
    "start_time": "2022-05-27T01:31:02.568Z"
   },
   {
    "duration": 13,
    "start_time": "2022-05-27T01:31:02.587Z"
   },
   {
    "duration": 220,
    "start_time": "2022-05-27T01:31:09.484Z"
   },
   {
    "duration": 265,
    "start_time": "2022-05-27T01:34:00.282Z"
   },
   {
    "duration": 256,
    "start_time": "2022-05-27T01:34:22.773Z"
   },
   {
    "duration": 328,
    "start_time": "2022-05-27T01:34:31.104Z"
   },
   {
    "duration": 239,
    "start_time": "2022-05-27T01:35:36.546Z"
   },
   {
    "duration": 224,
    "start_time": "2022-05-27T01:36:04.886Z"
   },
   {
    "duration": 3,
    "start_time": "2022-05-27T01:37:48.197Z"
   },
   {
    "duration": 47,
    "start_time": "2022-05-27T01:37:48.202Z"
   },
   {
    "duration": 6,
    "start_time": "2022-05-27T01:37:48.251Z"
   },
   {
    "duration": 11,
    "start_time": "2022-05-27T01:37:48.258Z"
   },
   {
    "duration": 10,
    "start_time": "2022-05-27T01:37:48.271Z"
   },
   {
    "duration": 10,
    "start_time": "2022-05-27T01:37:48.282Z"
   },
   {
    "duration": 217,
    "start_time": "2022-05-27T01:37:48.293Z"
   },
   {
    "duration": 164,
    "start_time": "2022-05-27T01:37:48.512Z"
   },
   {
    "duration": 270,
    "start_time": "2022-05-27T01:37:48.677Z"
   },
   {
    "duration": 243,
    "start_time": "2022-05-27T01:37:48.949Z"
   },
   {
    "duration": 4,
    "start_time": "2022-05-27T01:37:49.194Z"
   },
   {
    "duration": 11,
    "start_time": "2022-05-27T01:37:49.200Z"
   },
   {
    "duration": 10,
    "start_time": "2022-05-27T01:37:55.033Z"
   },
   {
    "duration": 6,
    "start_time": "2022-05-27T01:40:40.547Z"
   },
   {
    "duration": 10,
    "start_time": "2022-05-27T01:40:42.854Z"
   },
   {
    "duration": 13,
    "start_time": "2022-05-27T01:40:46.630Z"
   },
   {
    "duration": 7,
    "start_time": "2022-05-27T01:41:03.020Z"
   },
   {
    "duration": 13,
    "start_time": "2022-05-27T01:41:06.694Z"
   },
   {
    "duration": 33,
    "start_time": "2022-05-27T01:41:43.908Z"
   },
   {
    "duration": 12,
    "start_time": "2022-05-27T01:41:48.564Z"
   },
   {
    "duration": 3,
    "start_time": "2022-05-27T01:43:51.249Z"
   },
   {
    "duration": 48,
    "start_time": "2022-05-27T01:43:51.254Z"
   },
   {
    "duration": 6,
    "start_time": "2022-05-27T01:43:51.303Z"
   },
   {
    "duration": 10,
    "start_time": "2022-05-27T01:43:51.311Z"
   },
   {
    "duration": 11,
    "start_time": "2022-05-27T01:43:51.323Z"
   },
   {
    "duration": 9,
    "start_time": "2022-05-27T01:43:51.335Z"
   },
   {
    "duration": 194,
    "start_time": "2022-05-27T01:43:51.345Z"
   },
   {
    "duration": 263,
    "start_time": "2022-05-27T01:43:51.540Z"
   },
   {
    "duration": 261,
    "start_time": "2022-05-27T01:43:51.804Z"
   },
   {
    "duration": 228,
    "start_time": "2022-05-27T01:43:52.067Z"
   },
   {
    "duration": 4,
    "start_time": "2022-05-27T01:43:52.296Z"
   },
   {
    "duration": 20,
    "start_time": "2022-05-27T01:43:52.302Z"
   },
   {
    "duration": 28,
    "start_time": "2022-05-27T01:43:52.324Z"
   },
   {
    "duration": 12,
    "start_time": "2022-05-27T01:43:52.354Z"
   },
   {
    "duration": 21,
    "start_time": "2022-05-27T01:43:52.367Z"
   },
   {
    "duration": 17,
    "start_time": "2022-05-27T01:43:52.390Z"
   },
   {
    "duration": 21,
    "start_time": "2022-05-27T01:43:52.408Z"
   },
   {
    "duration": 31,
    "start_time": "2022-05-27T01:43:52.431Z"
   },
   {
    "duration": 14,
    "start_time": "2022-05-27T01:44:28.549Z"
   },
   {
    "duration": 5,
    "start_time": "2022-05-27T01:44:28.759Z"
   },
   {
    "duration": 5,
    "start_time": "2022-05-27T01:44:30.537Z"
   },
   {
    "duration": 824,
    "start_time": "2022-05-27T01:44:33.480Z"
   },
   {
    "duration": 17,
    "start_time": "2022-05-27T01:44:34.306Z"
   },
   {
    "duration": 5,
    "start_time": "2022-05-27T01:44:34.703Z"
   },
   {
    "duration": 1275,
    "start_time": "2022-05-27T01:44:39.435Z"
   },
   {
    "duration": 4,
    "start_time": "2022-05-27T01:44:40.712Z"
   },
   {
    "duration": 10,
    "start_time": "2022-05-27T01:44:40.717Z"
   },
   {
    "duration": 914,
    "start_time": "2022-05-27T01:44:56.757Z"
   },
   {
    "duration": 92,
    "start_time": "2022-05-27T01:44:57.673Z"
   },
   {
    "duration": 4,
    "start_time": "2022-05-27T01:45:00.540Z"
   },
   {
    "duration": 2907,
    "start_time": "2022-05-27T01:45:17.597Z"
   },
   {
    "duration": 53,
    "start_time": "2022-05-27T01:45:20.506Z"
   },
   {
    "duration": 5,
    "start_time": "2022-05-27T01:45:20.562Z"
   },
   {
    "duration": 3,
    "start_time": "2022-05-27T01:48:28.224Z"
   },
   {
    "duration": 162,
    "start_time": "2022-05-27T01:48:29.556Z"
   },
   {
    "duration": 11,
    "start_time": "2022-05-27T01:48:45.429Z"
   },
   {
    "duration": 3,
    "start_time": "2022-05-27T01:48:53.573Z"
   },
   {
    "duration": 3,
    "start_time": "2022-05-27T01:48:57.237Z"
   },
   {
    "duration": 23498,
    "start_time": "2022-05-27T01:48:57.404Z"
   },
   {
    "duration": 3,
    "start_time": "2022-05-27T01:49:26.946Z"
   },
   {
    "duration": 951713,
    "start_time": "2022-05-27T01:49:27.649Z"
   },
   {
    "duration": 4,
    "start_time": "2022-05-27T02:11:29.821Z"
   },
   {
    "duration": 908,
    "start_time": "2022-05-27T02:12:14.057Z"
   },
   {
    "duration": 9,
    "start_time": "2022-05-27T02:12:19.374Z"
   },
   {
    "duration": 5,
    "start_time": "2022-05-27T02:12:29.576Z"
   },
   {
    "duration": 9,
    "start_time": "2022-05-27T02:14:11.377Z"
   },
   {
    "duration": 5,
    "start_time": "2022-05-27T02:14:17.256Z"
   },
   {
    "duration": 298,
    "start_time": "2022-05-27T02:14:48.030Z"
   },
   {
    "duration": 5,
    "start_time": "2022-05-27T02:14:48.859Z"
   },
   {
    "duration": 8,
    "start_time": "2022-05-27T02:14:56.638Z"
   },
   {
    "duration": 5,
    "start_time": "2022-05-27T02:15:04.936Z"
   },
   {
    "duration": 10,
    "start_time": "2022-05-27T02:15:19.886Z"
   },
   {
    "duration": 5,
    "start_time": "2022-05-27T02:15:20.502Z"
   },
   {
    "duration": 4,
    "start_time": "2022-05-27T02:15:44.071Z"
   },
   {
    "duration": 5,
    "start_time": "2022-05-27T02:15:44.240Z"
   },
   {
    "duration": 2,
    "start_time": "2022-05-27T02:16:04.723Z"
   },
   {
    "duration": 2205882,
    "start_time": "2022-05-27T02:16:05.187Z"
   },
   {
    "duration": 4,
    "start_time": "2022-05-27T02:54:04.740Z"
   },
   {
    "duration": 4,
    "start_time": "2022-05-27T02:54:35.445Z"
   },
   {
    "duration": 1043,
    "start_time": "2022-05-27T02:54:51.820Z"
   },
   {
    "duration": 9,
    "start_time": "2022-05-27T02:54:54.925Z"
   },
   {
    "duration": 5,
    "start_time": "2022-05-27T02:54:55.756Z"
   },
   {
    "duration": 3915,
    "start_time": "2022-05-27T02:55:17.345Z"
   },
   {
    "duration": 8,
    "start_time": "2022-05-27T02:55:21.262Z"
   },
   {
    "duration": 12,
    "start_time": "2022-05-27T02:55:21.272Z"
   },
   {
    "duration": 11,
    "start_time": "2022-05-27T02:55:48.920Z"
   },
   {
    "duration": 3,
    "start_time": "2022-05-27T02:56:32.434Z"
   },
   {
    "duration": 6534,
    "start_time": "2022-05-27T02:56:41.729Z"
   },
   {
    "duration": 11,
    "start_time": "2022-05-27T02:56:48.266Z"
   },
   {
    "duration": 5,
    "start_time": "2022-05-27T02:56:48.551Z"
   },
   {
    "duration": 4037,
    "start_time": "2022-05-27T02:56:54.827Z"
   },
   {
    "duration": 9,
    "start_time": "2022-05-27T02:56:59.657Z"
   },
   {
    "duration": 4,
    "start_time": "2022-05-27T02:56:59.987Z"
   },
   {
    "duration": 6205,
    "start_time": "2022-05-27T02:57:05.858Z"
   },
   {
    "duration": 10,
    "start_time": "2022-05-27T02:57:12.065Z"
   },
   {
    "duration": 5,
    "start_time": "2022-05-27T02:57:12.732Z"
   },
   {
    "duration": 10,
    "start_time": "2022-05-27T02:57:14.432Z"
   },
   {
    "duration": 21,
    "start_time": "2022-05-27T02:57:14.828Z"
   },
   {
    "duration": 17,
    "start_time": "2022-05-27T02:57:22.423Z"
   },
   {
    "duration": 5,
    "start_time": "2022-05-27T02:57:27.945Z"
   },
   {
    "duration": 1004,
    "start_time": "2022-05-27T02:57:36.665Z"
   },
   {
    "duration": 10,
    "start_time": "2022-05-27T02:57:39.993Z"
   },
   {
    "duration": 6,
    "start_time": "2022-05-27T02:57:40.256Z"
   },
   {
    "duration": 984,
    "start_time": "2022-05-27T02:57:48.983Z"
   },
   {
    "duration": 9,
    "start_time": "2022-05-27T02:57:52.852Z"
   },
   {
    "duration": 5,
    "start_time": "2022-05-27T02:57:53.066Z"
   },
   {
    "duration": 1111,
    "start_time": "2022-05-27T02:58:20.958Z"
   },
   {
    "duration": 9,
    "start_time": "2022-05-27T02:58:26.250Z"
   },
   {
    "duration": 4,
    "start_time": "2022-05-27T02:58:26.457Z"
   },
   {
    "duration": 9,
    "start_time": "2022-05-27T02:58:29.016Z"
   },
   {
    "duration": 5,
    "start_time": "2022-05-27T02:58:29.218Z"
   },
   {
    "duration": 701,
    "start_time": "2022-05-27T02:58:47.859Z"
   },
   {
    "duration": 9,
    "start_time": "2022-05-27T02:58:48.562Z"
   },
   {
    "duration": 6,
    "start_time": "2022-05-27T02:58:56.646Z"
   },
   {
    "duration": 909,
    "start_time": "2022-05-27T02:59:10.154Z"
   },
   {
    "duration": 9,
    "start_time": "2022-05-27T02:59:11.880Z"
   },
   {
    "duration": 7,
    "start_time": "2022-05-27T02:59:12.984Z"
   },
   {
    "duration": 11913,
    "start_time": "2022-05-27T02:59:22.347Z"
   },
   {
    "duration": 9,
    "start_time": "2022-05-27T02:59:34.262Z"
   },
   {
    "duration": 9,
    "start_time": "2022-05-27T02:59:34.272Z"
   },
   {
    "duration": 9060,
    "start_time": "2022-05-27T02:59:53.807Z"
   },
   {
    "duration": 90,
    "start_time": "2022-05-27T03:00:02.869Z"
   },
   {
    "duration": 11,
    "start_time": "2022-05-27T03:00:02.961Z"
   },
   {
    "duration": 4,
    "start_time": "2022-05-27T03:04:40.221Z"
   },
   {
    "duration": 2753282,
    "start_time": "2022-05-27T03:04:40.861Z"
   },
   {
    "duration": 18,
    "start_time": "2022-05-27T03:50:34.145Z"
   },
   {
    "duration": 9,
    "start_time": "2022-05-27T03:50:34.164Z"
   },
   {
    "duration": 228,
    "start_time": "2022-05-27T03:51:21.731Z"
   },
   {
    "duration": 35,
    "start_time": "2022-05-27T03:51:52.070Z"
   },
   {
    "duration": 8,
    "start_time": "2022-05-27T03:51:55.049Z"
   },
   {
    "duration": 19,
    "start_time": "2022-05-27T03:52:11.522Z"
   },
   {
    "duration": 3,
    "start_time": "2022-05-27T03:55:28.552Z"
   },
   {
    "duration": 2,
    "start_time": "2022-05-27T03:56:50.985Z"
   },
   {
    "duration": 191163,
    "start_time": "2022-05-27T03:57:13.878Z"
   },
   {
    "duration": 3,
    "start_time": "2022-05-27T04:01:36.789Z"
   },
   {
    "duration": 11,
    "start_time": "2022-05-27T04:02:45.370Z"
   },
   {
    "duration": 1271,
    "start_time": "2022-05-27T04:03:00.885Z"
   },
   {
    "duration": 25,
    "start_time": "2022-05-27T04:03:18.994Z"
   },
   {
    "duration": 5,
    "start_time": "2022-05-27T04:03:27.383Z"
   },
   {
    "duration": 4,
    "start_time": "2022-05-27T04:05:51.237Z"
   },
   {
    "duration": 7,
    "start_time": "2022-05-27T04:06:36.869Z"
   },
   {
    "duration": 234,
    "start_time": "2022-05-27T04:08:35.257Z"
   },
   {
    "duration": 34,
    "start_time": "2022-05-27T04:08:54.134Z"
   },
   {
    "duration": 37,
    "start_time": "2022-05-27T04:09:22.159Z"
   },
   {
    "duration": 38,
    "start_time": "2022-05-27T04:32:52.971Z"
   },
   {
    "duration": 15,
    "start_time": "2022-05-27T04:33:21.520Z"
   },
   {
    "duration": 14,
    "start_time": "2022-05-27T04:33:28.720Z"
   },
   {
    "duration": 485,
    "start_time": "2022-05-27T04:34:46.543Z"
   },
   {
    "duration": 362,
    "start_time": "2022-05-27T04:34:59.177Z"
   },
   {
    "duration": 4,
    "start_time": "2022-05-27T04:35:06.463Z"
   },
   {
    "duration": 52,
    "start_time": "2022-05-27T04:35:06.469Z"
   },
   {
    "duration": 7,
    "start_time": "2022-05-27T04:35:06.522Z"
   },
   {
    "duration": 13,
    "start_time": "2022-05-27T04:35:06.530Z"
   },
   {
    "duration": 14,
    "start_time": "2022-05-27T04:35:06.545Z"
   },
   {
    "duration": 10,
    "start_time": "2022-05-27T04:35:06.561Z"
   },
   {
    "duration": 213,
    "start_time": "2022-05-27T04:35:06.572Z"
   },
   {
    "duration": 175,
    "start_time": "2022-05-27T04:35:06.786Z"
   },
   {
    "duration": 292,
    "start_time": "2022-05-27T04:35:06.962Z"
   },
   {
    "duration": 351,
    "start_time": "2022-05-27T04:35:07.255Z"
   },
   {
    "duration": 4,
    "start_time": "2022-05-27T04:35:07.607Z"
   },
   {
    "duration": 13,
    "start_time": "2022-05-27T04:35:07.612Z"
   },
   {
    "duration": 12,
    "start_time": "2022-05-27T04:35:07.627Z"
   },
   {
    "duration": 6,
    "start_time": "2022-05-27T04:35:07.658Z"
   },
   {
    "duration": 6,
    "start_time": "2022-05-27T04:35:07.666Z"
   },
   {
    "duration": 6,
    "start_time": "2022-05-27T04:35:07.674Z"
   },
   {
    "duration": 9,
    "start_time": "2022-05-27T04:35:07.682Z"
   },
   {
    "duration": 8,
    "start_time": "2022-05-27T04:35:07.692Z"
   },
   {
    "duration": 12,
    "start_time": "2022-05-27T04:35:07.701Z"
   },
   {
    "duration": 6,
    "start_time": "2022-05-27T04:35:07.714Z"
   },
   {
    "duration": 39,
    "start_time": "2022-05-27T04:35:07.721Z"
   },
   {
    "duration": 904,
    "start_time": "2022-05-27T04:35:07.762Z"
   },
   {
    "duration": 19,
    "start_time": "2022-05-27T04:35:08.668Z"
   },
   {
    "duration": 5,
    "start_time": "2022-05-27T04:35:08.688Z"
   },
   {
    "duration": 1148,
    "start_time": "2022-05-27T04:35:08.694Z"
   },
   {
    "duration": 4,
    "start_time": "2022-05-27T04:35:09.844Z"
   },
   {
    "duration": 14,
    "start_time": "2022-05-27T04:35:09.850Z"
   },
   {
    "duration": 995,
    "start_time": "2022-05-27T04:35:09.865Z"
   },
   {
    "duration": 11,
    "start_time": "2022-05-27T04:35:10.862Z"
   },
   {
    "duration": 6,
    "start_time": "2022-05-27T04:35:10.875Z"
   },
   {
    "duration": 3210,
    "start_time": "2022-05-27T04:35:10.883Z"
   },
   {
    "duration": 8,
    "start_time": "2022-05-27T04:35:14.094Z"
   },
   {
    "duration": 5,
    "start_time": "2022-05-27T04:35:14.104Z"
   },
   {
    "duration": 7,
    "start_time": "2022-05-27T04:35:14.110Z"
   },
   {
    "duration": 52,
    "start_time": "2022-05-27T18:38:54.695Z"
   },
   {
    "duration": 1503,
    "start_time": "2022-05-27T18:39:00.393Z"
   },
   {
    "duration": 139,
    "start_time": "2022-05-27T18:39:01.898Z"
   },
   {
    "duration": 11,
    "start_time": "2022-05-27T18:39:02.039Z"
   },
   {
    "duration": 32,
    "start_time": "2022-05-27T18:39:02.052Z"
   },
   {
    "duration": 65,
    "start_time": "2022-05-27T18:39:02.090Z"
   },
   {
    "duration": 27,
    "start_time": "2022-05-27T18:39:02.157Z"
   },
   {
    "duration": 266,
    "start_time": "2022-05-27T18:39:02.187Z"
   },
   {
    "duration": 175,
    "start_time": "2022-05-27T18:39:02.454Z"
   },
   {
    "duration": 467,
    "start_time": "2022-05-27T18:39:02.631Z"
   },
   {
    "duration": 310,
    "start_time": "2022-05-27T18:39:03.100Z"
   },
   {
    "duration": 4,
    "start_time": "2022-05-27T18:39:03.411Z"
   },
   {
    "duration": 21,
    "start_time": "2022-05-27T18:39:03.416Z"
   },
   {
    "duration": 27,
    "start_time": "2022-05-27T18:39:03.438Z"
   },
   {
    "duration": 82,
    "start_time": "2022-05-27T18:39:03.467Z"
   },
   {
    "duration": 17,
    "start_time": "2022-05-27T18:39:03.551Z"
   },
   {
    "duration": 25,
    "start_time": "2022-05-27T18:39:03.570Z"
   },
   {
    "duration": 43,
    "start_time": "2022-05-27T18:39:03.596Z"
   },
   {
    "duration": 13,
    "start_time": "2022-05-27T18:39:03.640Z"
   },
   {
    "duration": 30,
    "start_time": "2022-05-27T18:39:03.655Z"
   },
   {
    "duration": 35,
    "start_time": "2022-05-27T18:39:03.686Z"
   },
   {
    "duration": 162,
    "start_time": "2022-05-27T18:39:03.723Z"
   },
   {
    "duration": 27,
    "start_time": "2022-05-27T18:39:03.887Z"
   },
   {
    "duration": 891,
    "start_time": "2022-05-27T18:39:03.915Z"
   },
   {
    "duration": 18,
    "start_time": "2022-05-27T18:39:04.807Z"
   },
   {
    "duration": 10,
    "start_time": "2022-05-27T18:39:04.826Z"
   },
   {
    "duration": 1300,
    "start_time": "2022-05-27T18:39:04.838Z"
   },
   {
    "duration": 4,
    "start_time": "2022-05-27T18:39:06.140Z"
   },
   {
    "duration": 23,
    "start_time": "2022-05-27T18:39:06.146Z"
   },
   {
    "duration": 10531,
    "start_time": "2022-05-27T18:39:06.171Z"
   },
   {
    "duration": 86,
    "start_time": "2022-05-27T18:39:16.704Z"
   },
   {
    "duration": 5,
    "start_time": "2022-05-27T18:39:16.793Z"
   },
   {
    "duration": 26730,
    "start_time": "2022-05-27T18:39:16.800Z"
   },
   {
    "duration": 48,
    "start_time": "2022-05-27T18:39:43.532Z"
   },
   {
    "duration": 5,
    "start_time": "2022-05-27T18:39:43.584Z"
   },
   {
    "duration": 8,
    "start_time": "2022-05-27T18:39:43.591Z"
   },
   {
    "duration": 189648,
    "start_time": "2022-05-27T18:39:43.600Z"
   },
   {
    "duration": 8,
    "start_time": "2022-05-27T18:42:53.249Z"
   },
   {
    "duration": 0,
    "start_time": "2022-05-27T18:42:53.258Z"
   },
   {
    "duration": 0,
    "start_time": "2022-05-27T18:42:53.260Z"
   },
   {
    "duration": 0,
    "start_time": "2022-05-27T18:42:53.260Z"
   },
   {
    "duration": 0,
    "start_time": "2022-05-27T18:42:53.261Z"
   },
   {
    "duration": 0,
    "start_time": "2022-05-27T18:42:53.262Z"
   },
   {
    "duration": 0,
    "start_time": "2022-05-27T18:42:53.263Z"
   },
   {
    "duration": 0,
    "start_time": "2022-05-27T18:42:53.264Z"
   },
   {
    "duration": 0,
    "start_time": "2022-05-27T18:42:53.265Z"
   },
   {
    "duration": 0,
    "start_time": "2022-05-27T18:42:53.266Z"
   },
   {
    "duration": 0,
    "start_time": "2022-05-27T18:42:53.284Z"
   },
   {
    "duration": 0,
    "start_time": "2022-05-27T18:42:53.284Z"
   },
   {
    "duration": 0,
    "start_time": "2022-05-27T18:42:53.285Z"
   },
   {
    "duration": 0,
    "start_time": "2022-05-27T18:42:53.287Z"
   },
   {
    "duration": 1274,
    "start_time": "2022-05-27T18:43:11.925Z"
   },
   {
    "duration": 47,
    "start_time": "2022-05-27T18:43:13.201Z"
   },
   {
    "duration": 9,
    "start_time": "2022-05-27T18:43:13.250Z"
   },
   {
    "duration": 8,
    "start_time": "2022-05-27T18:43:13.261Z"
   },
   {
    "duration": 28,
    "start_time": "2022-05-27T18:43:13.271Z"
   },
   {
    "duration": 13,
    "start_time": "2022-05-27T18:43:13.300Z"
   },
   {
    "duration": 243,
    "start_time": "2022-05-27T18:43:13.314Z"
   },
   {
    "duration": 169,
    "start_time": "2022-05-27T18:43:13.558Z"
   },
   {
    "duration": 263,
    "start_time": "2022-05-27T18:43:13.728Z"
   },
   {
    "duration": 251,
    "start_time": "2022-05-27T18:43:13.994Z"
   },
   {
    "duration": 4,
    "start_time": "2022-05-27T18:43:14.247Z"
   },
   {
    "duration": 15,
    "start_time": "2022-05-27T18:43:14.253Z"
   },
   {
    "duration": 22,
    "start_time": "2022-05-27T18:43:14.269Z"
   },
   {
    "duration": 5,
    "start_time": "2022-05-27T18:43:14.293Z"
   },
   {
    "duration": 8,
    "start_time": "2022-05-27T18:43:14.300Z"
   },
   {
    "duration": 7,
    "start_time": "2022-05-27T18:43:14.309Z"
   },
   {
    "duration": 131,
    "start_time": "2022-05-27T18:43:14.318Z"
   },
   {
    "duration": 0,
    "start_time": "2022-05-27T18:43:14.451Z"
   },
   {
    "duration": 0,
    "start_time": "2022-05-27T18:43:14.452Z"
   },
   {
    "duration": 0,
    "start_time": "2022-05-27T18:43:14.453Z"
   },
   {
    "duration": 0,
    "start_time": "2022-05-27T18:43:14.454Z"
   },
   {
    "duration": 0,
    "start_time": "2022-05-27T18:43:14.455Z"
   },
   {
    "duration": 0,
    "start_time": "2022-05-27T18:43:14.455Z"
   },
   {
    "duration": 0,
    "start_time": "2022-05-27T18:43:14.456Z"
   },
   {
    "duration": 0,
    "start_time": "2022-05-27T18:43:14.457Z"
   },
   {
    "duration": 0,
    "start_time": "2022-05-27T18:43:14.486Z"
   },
   {
    "duration": 0,
    "start_time": "2022-05-27T18:43:14.487Z"
   },
   {
    "duration": 0,
    "start_time": "2022-05-27T18:43:14.488Z"
   },
   {
    "duration": 0,
    "start_time": "2022-05-27T18:43:14.489Z"
   },
   {
    "duration": 0,
    "start_time": "2022-05-27T18:43:14.490Z"
   },
   {
    "duration": 0,
    "start_time": "2022-05-27T18:43:14.491Z"
   },
   {
    "duration": 0,
    "start_time": "2022-05-27T18:43:14.493Z"
   },
   {
    "duration": 0,
    "start_time": "2022-05-27T18:43:14.494Z"
   },
   {
    "duration": 0,
    "start_time": "2022-05-27T18:43:14.495Z"
   },
   {
    "duration": 0,
    "start_time": "2022-05-27T18:43:14.496Z"
   },
   {
    "duration": 0,
    "start_time": "2022-05-27T18:43:14.497Z"
   },
   {
    "duration": 0,
    "start_time": "2022-05-27T18:43:14.498Z"
   },
   {
    "duration": 0,
    "start_time": "2022-05-27T18:43:14.499Z"
   },
   {
    "duration": 0,
    "start_time": "2022-05-27T18:43:14.500Z"
   },
   {
    "duration": 0,
    "start_time": "2022-05-27T18:43:14.500Z"
   },
   {
    "duration": 0,
    "start_time": "2022-05-27T18:43:14.501Z"
   },
   {
    "duration": 0,
    "start_time": "2022-05-27T18:43:14.502Z"
   },
   {
    "duration": 0,
    "start_time": "2022-05-27T18:43:14.503Z"
   },
   {
    "duration": 0,
    "start_time": "2022-05-27T18:43:14.504Z"
   },
   {
    "duration": 0,
    "start_time": "2022-05-27T18:43:14.505Z"
   },
   {
    "duration": 0,
    "start_time": "2022-05-27T18:43:14.505Z"
   },
   {
    "duration": 0,
    "start_time": "2022-05-27T18:43:14.506Z"
   },
   {
    "duration": 0,
    "start_time": "2022-05-27T18:43:14.507Z"
   },
   {
    "duration": 0,
    "start_time": "2022-05-27T18:43:14.508Z"
   },
   {
    "duration": 0,
    "start_time": "2022-05-27T18:43:14.509Z"
   },
   {
    "duration": 4,
    "start_time": "2022-05-27T18:43:20.464Z"
   },
   {
    "duration": 4,
    "start_time": "2022-05-27T18:43:26.358Z"
   },
   {
    "duration": 4,
    "start_time": "2022-05-27T18:43:38.066Z"
   },
   {
    "duration": 11,
    "start_time": "2022-05-27T18:43:49.765Z"
   },
   {
    "duration": 3,
    "start_time": "2022-05-27T18:43:55.763Z"
   },
   {
    "duration": 5,
    "start_time": "2022-05-27T18:43:59.162Z"
   },
   {
    "duration": 5,
    "start_time": "2022-05-27T18:44:08.863Z"
   },
   {
    "duration": 1375,
    "start_time": "2022-05-27T18:48:42.880Z"
   },
   {
    "duration": 53,
    "start_time": "2022-05-27T18:48:44.257Z"
   },
   {
    "duration": 11,
    "start_time": "2022-05-27T18:48:44.312Z"
   },
   {
    "duration": 13,
    "start_time": "2022-05-27T18:48:44.325Z"
   },
   {
    "duration": 12,
    "start_time": "2022-05-27T18:48:44.340Z"
   },
   {
    "duration": 26,
    "start_time": "2022-05-27T18:48:44.353Z"
   },
   {
    "duration": 322,
    "start_time": "2022-05-27T18:48:44.383Z"
   },
   {
    "duration": 194,
    "start_time": "2022-05-27T18:48:44.707Z"
   },
   {
    "duration": 292,
    "start_time": "2022-05-27T18:48:44.904Z"
   },
   {
    "duration": 258,
    "start_time": "2022-05-27T18:48:45.198Z"
   },
   {
    "duration": 3,
    "start_time": "2022-05-27T18:48:45.458Z"
   },
   {
    "duration": 24,
    "start_time": "2022-05-27T18:48:45.463Z"
   },
   {
    "duration": 30,
    "start_time": "2022-05-27T18:48:45.489Z"
   },
   {
    "duration": 6,
    "start_time": "2022-05-27T18:48:45.522Z"
   },
   {
    "duration": 8,
    "start_time": "2022-05-27T18:48:45.530Z"
   },
   {
    "duration": 6,
    "start_time": "2022-05-27T18:48:45.539Z"
   },
   {
    "duration": 123,
    "start_time": "2022-05-27T18:48:45.546Z"
   },
   {
    "duration": 0,
    "start_time": "2022-05-27T18:48:45.670Z"
   },
   {
    "duration": 0,
    "start_time": "2022-05-27T18:48:45.677Z"
   },
   {
    "duration": 0,
    "start_time": "2022-05-27T18:48:45.680Z"
   },
   {
    "duration": 0,
    "start_time": "2022-05-27T18:48:45.681Z"
   },
   {
    "duration": 0,
    "start_time": "2022-05-27T18:48:45.682Z"
   },
   {
    "duration": 0,
    "start_time": "2022-05-27T18:48:45.683Z"
   },
   {
    "duration": 0,
    "start_time": "2022-05-27T18:48:45.683Z"
   },
   {
    "duration": 0,
    "start_time": "2022-05-27T18:48:45.684Z"
   },
   {
    "duration": 0,
    "start_time": "2022-05-27T18:48:45.685Z"
   },
   {
    "duration": 0,
    "start_time": "2022-05-27T18:48:45.691Z"
   },
   {
    "duration": 0,
    "start_time": "2022-05-27T18:48:45.694Z"
   },
   {
    "duration": 0,
    "start_time": "2022-05-27T18:48:45.696Z"
   },
   {
    "duration": 0,
    "start_time": "2022-05-27T18:48:45.697Z"
   },
   {
    "duration": 0,
    "start_time": "2022-05-27T18:48:45.697Z"
   },
   {
    "duration": 0,
    "start_time": "2022-05-27T18:48:45.698Z"
   },
   {
    "duration": 0,
    "start_time": "2022-05-27T18:48:45.699Z"
   },
   {
    "duration": 0,
    "start_time": "2022-05-27T18:48:45.701Z"
   },
   {
    "duration": 0,
    "start_time": "2022-05-27T18:48:45.702Z"
   },
   {
    "duration": 0,
    "start_time": "2022-05-27T18:48:45.703Z"
   },
   {
    "duration": 0,
    "start_time": "2022-05-27T18:48:45.704Z"
   },
   {
    "duration": 0,
    "start_time": "2022-05-27T18:48:45.705Z"
   },
   {
    "duration": 0,
    "start_time": "2022-05-27T18:48:45.706Z"
   },
   {
    "duration": 0,
    "start_time": "2022-05-27T18:48:45.707Z"
   },
   {
    "duration": 0,
    "start_time": "2022-05-27T18:48:45.708Z"
   },
   {
    "duration": 0,
    "start_time": "2022-05-27T18:48:45.709Z"
   },
   {
    "duration": 0,
    "start_time": "2022-05-27T18:48:45.710Z"
   },
   {
    "duration": 0,
    "start_time": "2022-05-27T18:48:45.711Z"
   },
   {
    "duration": 0,
    "start_time": "2022-05-27T18:48:45.712Z"
   },
   {
    "duration": 0,
    "start_time": "2022-05-27T18:48:45.713Z"
   },
   {
    "duration": 0,
    "start_time": "2022-05-27T18:48:45.714Z"
   },
   {
    "duration": 0,
    "start_time": "2022-05-27T18:48:45.715Z"
   },
   {
    "duration": 0,
    "start_time": "2022-05-27T18:48:45.716Z"
   },
   {
    "duration": 0,
    "start_time": "2022-05-27T18:48:45.717Z"
   },
   {
    "duration": 1299,
    "start_time": "2022-05-27T18:48:59.027Z"
   },
   {
    "duration": 56,
    "start_time": "2022-05-27T18:49:00.328Z"
   },
   {
    "duration": 11,
    "start_time": "2022-05-27T18:49:00.387Z"
   },
   {
    "duration": 12,
    "start_time": "2022-05-27T18:49:00.399Z"
   },
   {
    "duration": 11,
    "start_time": "2022-05-27T18:49:00.413Z"
   },
   {
    "duration": 16,
    "start_time": "2022-05-27T18:49:00.426Z"
   },
   {
    "duration": 246,
    "start_time": "2022-05-27T18:49:00.443Z"
   },
   {
    "duration": 168,
    "start_time": "2022-05-27T18:49:00.691Z"
   },
   {
    "duration": 282,
    "start_time": "2022-05-27T18:49:00.860Z"
   },
   {
    "duration": 257,
    "start_time": "2022-05-27T18:49:01.143Z"
   },
   {
    "duration": 4,
    "start_time": "2022-05-27T18:49:01.401Z"
   },
   {
    "duration": 13,
    "start_time": "2022-05-27T18:49:01.406Z"
   },
   {
    "duration": 15,
    "start_time": "2022-05-27T18:49:01.421Z"
   },
   {
    "duration": 16,
    "start_time": "2022-05-27T18:49:01.439Z"
   },
   {
    "duration": 6,
    "start_time": "2022-05-27T18:49:01.457Z"
   },
   {
    "duration": 12,
    "start_time": "2022-05-27T18:49:01.477Z"
   },
   {
    "duration": 14,
    "start_time": "2022-05-27T18:49:01.491Z"
   },
   {
    "duration": 11,
    "start_time": "2022-05-27T18:49:01.506Z"
   },
   {
    "duration": 11,
    "start_time": "2022-05-27T18:49:01.518Z"
   },
   {
    "duration": 6,
    "start_time": "2022-05-27T18:49:01.531Z"
   },
   {
    "duration": 12,
    "start_time": "2022-05-27T18:49:01.539Z"
   },
   {
    "duration": 981,
    "start_time": "2022-05-27T18:49:01.575Z"
   },
   {
    "duration": 32,
    "start_time": "2022-05-27T18:49:02.558Z"
   },
   {
    "duration": 5,
    "start_time": "2022-05-27T18:49:02.591Z"
   },
   {
    "duration": 1393,
    "start_time": "2022-05-27T18:49:02.597Z"
   },
   {
    "duration": 5,
    "start_time": "2022-05-27T18:49:03.991Z"
   },
   {
    "duration": 9,
    "start_time": "2022-05-27T18:49:03.998Z"
   },
   {
    "duration": 11170,
    "start_time": "2022-05-27T18:49:04.008Z"
   },
   {
    "duration": 18,
    "start_time": "2022-05-27T18:49:15.179Z"
   },
   {
    "duration": 9,
    "start_time": "2022-05-27T18:49:15.198Z"
   },
   {
    "duration": 28705,
    "start_time": "2022-05-27T18:49:15.208Z"
   },
   {
    "duration": 133,
    "start_time": "2022-05-27T18:49:43.915Z"
   },
   {
    "duration": 4,
    "start_time": "2022-05-27T18:49:44.050Z"
   },
   {
    "duration": 8,
    "start_time": "2022-05-27T18:49:44.056Z"
   },
   {
    "duration": 315353,
    "start_time": "2022-05-27T18:49:44.065Z"
   },
   {
    "duration": 9,
    "start_time": "2022-05-27T18:54:59.419Z"
   },
   {
    "duration": 0,
    "start_time": "2022-05-27T18:54:59.430Z"
   },
   {
    "duration": 0,
    "start_time": "2022-05-27T18:54:59.431Z"
   },
   {
    "duration": 0,
    "start_time": "2022-05-27T18:54:59.432Z"
   },
   {
    "duration": 0,
    "start_time": "2022-05-27T18:54:59.433Z"
   },
   {
    "duration": 0,
    "start_time": "2022-05-27T18:54:59.433Z"
   },
   {
    "duration": 0,
    "start_time": "2022-05-27T18:54:59.434Z"
   },
   {
    "duration": 0,
    "start_time": "2022-05-27T18:54:59.435Z"
   },
   {
    "duration": 0,
    "start_time": "2022-05-27T18:54:59.436Z"
   },
   {
    "duration": 0,
    "start_time": "2022-05-27T18:54:59.437Z"
   },
   {
    "duration": 0,
    "start_time": "2022-05-27T18:54:59.438Z"
   },
   {
    "duration": 0,
    "start_time": "2022-05-27T18:54:59.440Z"
   },
   {
    "duration": 0,
    "start_time": "2022-05-27T18:54:59.441Z"
   },
   {
    "duration": 1307,
    "start_time": "2022-05-27T18:55:14.933Z"
   },
   {
    "duration": 50,
    "start_time": "2022-05-27T18:55:16.242Z"
   },
   {
    "duration": 9,
    "start_time": "2022-05-27T18:55:16.293Z"
   },
   {
    "duration": 31,
    "start_time": "2022-05-27T18:55:16.303Z"
   },
   {
    "duration": 24,
    "start_time": "2022-05-27T18:55:16.336Z"
   },
   {
    "duration": 34,
    "start_time": "2022-05-27T18:55:16.361Z"
   },
   {
    "duration": 236,
    "start_time": "2022-05-27T18:55:16.397Z"
   },
   {
    "duration": 191,
    "start_time": "2022-05-27T18:55:16.634Z"
   },
   {
    "duration": 271,
    "start_time": "2022-05-27T18:55:16.826Z"
   },
   {
    "duration": 248,
    "start_time": "2022-05-27T18:55:17.099Z"
   },
   {
    "duration": 4,
    "start_time": "2022-05-27T18:55:17.348Z"
   },
   {
    "duration": 44,
    "start_time": "2022-05-27T18:55:17.353Z"
   },
   {
    "duration": 27,
    "start_time": "2022-05-27T18:55:17.398Z"
   },
   {
    "duration": 24,
    "start_time": "2022-05-27T18:55:17.428Z"
   },
   {
    "duration": 36,
    "start_time": "2022-05-27T18:55:17.453Z"
   },
   {
    "duration": 30,
    "start_time": "2022-05-27T18:55:17.490Z"
   },
   {
    "duration": 5,
    "start_time": "2022-05-27T18:55:17.522Z"
   },
   {
    "duration": 11,
    "start_time": "2022-05-27T18:55:17.528Z"
   },
   {
    "duration": 19,
    "start_time": "2022-05-27T18:55:17.540Z"
   },
   {
    "duration": 32,
    "start_time": "2022-05-27T18:55:17.560Z"
   },
   {
    "duration": 12,
    "start_time": "2022-05-27T18:55:17.593Z"
   },
   {
    "duration": 934,
    "start_time": "2022-05-27T18:55:17.607Z"
   },
   {
    "duration": 18,
    "start_time": "2022-05-27T18:55:18.543Z"
   },
   {
    "duration": 28,
    "start_time": "2022-05-27T18:55:18.562Z"
   },
   {
    "duration": 1237,
    "start_time": "2022-05-27T18:55:18.592Z"
   },
   {
    "duration": 4,
    "start_time": "2022-05-27T18:55:19.831Z"
   },
   {
    "duration": 10,
    "start_time": "2022-05-27T18:55:19.837Z"
   },
   {
    "duration": 14045,
    "start_time": "2022-05-27T18:55:19.849Z"
   },
   {
    "duration": 91,
    "start_time": "2022-05-27T18:55:33.897Z"
   },
   {
    "duration": 7,
    "start_time": "2022-05-27T18:55:33.991Z"
   },
   {
    "duration": 28729,
    "start_time": "2022-05-27T18:55:33.999Z"
   },
   {
    "duration": 57,
    "start_time": "2022-05-27T18:56:02.730Z"
   },
   {
    "duration": 7,
    "start_time": "2022-05-27T18:56:02.789Z"
   },
   {
    "duration": 16,
    "start_time": "2022-05-27T18:56:02.798Z"
   },
   {
    "duration": 29,
    "start_time": "2022-05-27T18:56:02.816Z"
   },
   {
    "duration": 19,
    "start_time": "2022-05-27T18:56:02.847Z"
   },
   {
    "duration": 12608,
    "start_time": "2022-05-27T18:56:02.876Z"
   },
   {
    "duration": 15,
    "start_time": "2022-05-27T18:56:15.485Z"
   },
   {
    "duration": 9,
    "start_time": "2022-05-27T18:56:15.502Z"
   },
   {
    "duration": 79,
    "start_time": "2022-05-27T18:56:15.513Z"
   },
   {
    "duration": 5,
    "start_time": "2022-05-27T18:56:15.596Z"
   },
   {
    "duration": 4,
    "start_time": "2022-05-27T18:56:15.602Z"
   },
   {
    "duration": 4,
    "start_time": "2022-05-27T18:56:15.608Z"
   },
   {
    "duration": 5,
    "start_time": "2022-05-27T18:56:15.613Z"
   },
   {
    "duration": 1310,
    "start_time": "2022-05-27T18:56:15.619Z"
   },
   {
    "duration": 24,
    "start_time": "2022-05-27T18:56:16.931Z"
   },
   {
    "duration": 4,
    "start_time": "2022-05-27T18:56:16.957Z"
   },
   {
    "duration": 41,
    "start_time": "2022-05-27T18:56:16.975Z"
   }
  ],
  "kernelspec": {
   "display_name": "Python 3",
   "language": "python",
   "name": "python3"
  },
  "language_info": {
   "codemirror_mode": {
    "name": "ipython",
    "version": 3
   },
   "file_extension": ".py",
   "mimetype": "text/x-python",
   "name": "python",
   "nbconvert_exporter": "python",
   "pygments_lexer": "ipython3",
   "version": "3.8.8"
  },
  "toc": {
   "base_numbering": 1,
   "nav_menu": {},
   "number_sections": true,
   "sideBar": true,
   "skip_h1_title": true,
   "title_cell": "Table of Contents",
   "title_sidebar": "Contents",
   "toc_cell": false,
   "toc_position": {
    "height": "calc(100% - 180px)",
    "left": "10px",
    "top": "150px",
    "width": "366.391px"
   },
   "toc_section_display": true,
   "toc_window_display": true
  }
 },
 "nbformat": 4,
 "nbformat_minor": 2
}
